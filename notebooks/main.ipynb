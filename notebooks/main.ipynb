{
 "cells": [
  {
   "cell_type": "markdown",
   "id": "d65b34a2",
   "metadata": {},
   "source": [
    "# Downloading & Preprocessing data\n"
   ]
  },
  {
   "cell_type": "code",
   "execution_count": null,
   "id": "d0233199",
   "metadata": {},
   "outputs": [],
   "source": [
    "# Downloading raw data in data/raw folder\n",
    "# Data is downloaded from NIH website -> GEO dataset -> Gene Expression Omnibus repository (curated gene expression DataSets\n",
    "!bash ../data/download_data.sh "
   ]
  },
  {
   "cell_type": "code",
   "execution_count": 1,
   "id": "87f3cd71",
   "metadata": {},
   "outputs": [],
   "source": [
    "import sys\n",
    "path_to_module = '../src/data_preprocess.py'\n",
    "path_to_module2 = '../src/graph_construction.py'\n",
    "import os\n",
    "sys.path.append(os.path.dirname(path_to_module))\n",
    "sys.path.append(os.path.dirname(path_to_module2))\n",
    "import data_preprocess,graph_construction\n",
    "import pandas as pd\n"
   ]
  },
  {
   "cell_type": "code",
   "execution_count": 2,
   "id": "d8d19a29",
   "metadata": {},
   "outputs": [
    {
     "name": "stdout",
     "output_type": "stream",
     "text": [
      "Shape check [#genes x # cells] : (57980, 1081)\n",
      "Shape check [#genes x # cells] : (57980, 1081)\n"
     ]
    }
   ],
   "source": [
    "path_ctrl_data=\"../data/raw/ctrl_data.txt.gz\" \n",
    "path_t2d_data=\"../data/raw/t2d_data.txt.gz\" \n",
    "df_ctrl=data_preprocess.read_rawdata(path_ctrl_data)\n",
    "df_t2d=data_preprocess.read_rawdata(path_t2d_data)"
   ]
  },
  {
   "cell_type": "code",
   "execution_count": 3,
   "id": "9d8d22ca",
   "metadata": {},
   "outputs": [
    {
     "data": {
      "application/vnd.microsoft.datawrangler.viewer.v0+json": {
       "columns": [
        {
         "name": "index",
         "rawType": "object",
         "type": "string"
        },
        {
         "name": "ERR1630014",
         "rawType": "int64",
         "type": "integer"
        },
        {
         "name": "ERR1630015",
         "rawType": "int64",
         "type": "integer"
        },
        {
         "name": "ERR1630016",
         "rawType": "int64",
         "type": "integer"
        },
        {
         "name": "ERR1630017",
         "rawType": "int64",
         "type": "integer"
        },
        {
         "name": "ERR1630020",
         "rawType": "int64",
         "type": "integer"
        },
        {
         "name": "ERR1630021",
         "rawType": "int64",
         "type": "integer"
        },
        {
         "name": "ERR1630022",
         "rawType": "int64",
         "type": "integer"
        },
        {
         "name": "ERR1630023",
         "rawType": "int64",
         "type": "integer"
        },
        {
         "name": "ERR1630024",
         "rawType": "int64",
         "type": "integer"
        },
        {
         "name": "ERR1630025",
         "rawType": "int64",
         "type": "integer"
        },
        {
         "name": "ERR1630026",
         "rawType": "int64",
         "type": "integer"
        },
        {
         "name": "ERR1630027",
         "rawType": "int64",
         "type": "integer"
        },
        {
         "name": "ERR1630028",
         "rawType": "int64",
         "type": "integer"
        },
        {
         "name": "ERR1630029",
         "rawType": "int64",
         "type": "integer"
        },
        {
         "name": "ERR1630030",
         "rawType": "int64",
         "type": "integer"
        },
        {
         "name": "ERR1630031",
         "rawType": "int64",
         "type": "integer"
        },
        {
         "name": "ERR1630032",
         "rawType": "int64",
         "type": "integer"
        },
        {
         "name": "ERR1630035",
         "rawType": "int64",
         "type": "integer"
        },
        {
         "name": "ERR1630036",
         "rawType": "int64",
         "type": "integer"
        },
        {
         "name": "ERR1630037",
         "rawType": "int64",
         "type": "integer"
        },
        {
         "name": "ERR1630038",
         "rawType": "int64",
         "type": "integer"
        },
        {
         "name": "ERR1630039",
         "rawType": "int64",
         "type": "integer"
        },
        {
         "name": "ERR1630041",
         "rawType": "int64",
         "type": "integer"
        },
        {
         "name": "ERR1630042",
         "rawType": "int64",
         "type": "integer"
        },
        {
         "name": "ERR1630043",
         "rawType": "int64",
         "type": "integer"
        },
        {
         "name": "ERR1630044",
         "rawType": "int64",
         "type": "integer"
        },
        {
         "name": "ERR1630047",
         "rawType": "int64",
         "type": "integer"
        },
        {
         "name": "ERR1630048",
         "rawType": "int64",
         "type": "integer"
        },
        {
         "name": "ERR1630052",
         "rawType": "int64",
         "type": "integer"
        },
        {
         "name": "ERR1630053",
         "rawType": "int64",
         "type": "integer"
        },
        {
         "name": "ERR1630054",
         "rawType": "int64",
         "type": "integer"
        },
        {
         "name": "ERR1630055",
         "rawType": "int64",
         "type": "integer"
        },
        {
         "name": "ERR1630056",
         "rawType": "int64",
         "type": "integer"
        },
        {
         "name": "ERR1630057",
         "rawType": "int64",
         "type": "integer"
        },
        {
         "name": "ERR1630058",
         "rawType": "int64",
         "type": "integer"
        },
        {
         "name": "ERR1630059",
         "rawType": "int64",
         "type": "integer"
        },
        {
         "name": "ERR1630060",
         "rawType": "int64",
         "type": "integer"
        },
        {
         "name": "ERR1630061",
         "rawType": "int64",
         "type": "integer"
        },
        {
         "name": "ERR1630064",
         "rawType": "int64",
         "type": "integer"
        },
        {
         "name": "ERR1630065",
         "rawType": "int64",
         "type": "integer"
        },
        {
         "name": "ERR1630066",
         "rawType": "int64",
         "type": "integer"
        },
        {
         "name": "ERR1630067",
         "rawType": "int64",
         "type": "integer"
        },
        {
         "name": "ERR1630068",
         "rawType": "int64",
         "type": "integer"
        },
        {
         "name": "ERR1630070",
         "rawType": "int64",
         "type": "integer"
        },
        {
         "name": "ERR1630071",
         "rawType": "int64",
         "type": "integer"
        },
        {
         "name": "ERR1630072",
         "rawType": "int64",
         "type": "integer"
        },
        {
         "name": "ERR1630073",
         "rawType": "int64",
         "type": "integer"
        },
        {
         "name": "ERR1630075",
         "rawType": "int64",
         "type": "integer"
        },
        {
         "name": "ERR1630077",
         "rawType": "int64",
         "type": "integer"
        },
        {
         "name": "ERR1630078",
         "rawType": "int64",
         "type": "integer"
        },
        {
         "name": "ERR1630079",
         "rawType": "int64",
         "type": "integer"
        },
        {
         "name": "ERR1630080",
         "rawType": "int64",
         "type": "integer"
        },
        {
         "name": "ERR1630081",
         "rawType": "int64",
         "type": "integer"
        },
        {
         "name": "ERR1630083",
         "rawType": "int64",
         "type": "integer"
        },
        {
         "name": "ERR1630084",
         "rawType": "int64",
         "type": "integer"
        },
        {
         "name": "ERR1630085",
         "rawType": "int64",
         "type": "integer"
        },
        {
         "name": "ERR1630086",
         "rawType": "int64",
         "type": "integer"
        },
        {
         "name": "ERR1630089",
         "rawType": "int64",
         "type": "integer"
        },
        {
         "name": "ERR1630090",
         "rawType": "int64",
         "type": "integer"
        },
        {
         "name": "ERR1630091",
         "rawType": "int64",
         "type": "integer"
        },
        {
         "name": "ERR1630092",
         "rawType": "int64",
         "type": "integer"
        },
        {
         "name": "ERR1630093",
         "rawType": "int64",
         "type": "integer"
        },
        {
         "name": "ERR1630097",
         "rawType": "int64",
         "type": "integer"
        },
        {
         "name": "ERR1630098",
         "rawType": "int64",
         "type": "integer"
        },
        {
         "name": "ERR1630099",
         "rawType": "int64",
         "type": "integer"
        },
        {
         "name": "ERR1630100",
         "rawType": "int64",
         "type": "integer"
        },
        {
         "name": "ERR1630101",
         "rawType": "int64",
         "type": "integer"
        },
        {
         "name": "ERR1630102",
         "rawType": "int64",
         "type": "integer"
        },
        {
         "name": "ERR1630103",
         "rawType": "int64",
         "type": "integer"
        },
        {
         "name": "ERR1630104",
         "rawType": "int64",
         "type": "integer"
        },
        {
         "name": "ERR1630105",
         "rawType": "int64",
         "type": "integer"
        },
        {
         "name": "ERR1630108",
         "rawType": "int64",
         "type": "integer"
        },
        {
         "name": "ERR1630110",
         "rawType": "int64",
         "type": "integer"
        },
        {
         "name": "ERR1630112",
         "rawType": "int64",
         "type": "integer"
        },
        {
         "name": "ERR1630113",
         "rawType": "int64",
         "type": "integer"
        },
        {
         "name": "ERR1630114",
         "rawType": "int64",
         "type": "integer"
        },
        {
         "name": "ERR1630116",
         "rawType": "int64",
         "type": "integer"
        },
        {
         "name": "ERR1630117",
         "rawType": "int64",
         "type": "integer"
        },
        {
         "name": "ERR1630119",
         "rawType": "int64",
         "type": "integer"
        },
        {
         "name": "ERR1630120",
         "rawType": "int64",
         "type": "integer"
        },
        {
         "name": "ERR1630121",
         "rawType": "int64",
         "type": "integer"
        },
        {
         "name": "ERR1630122",
         "rawType": "int64",
         "type": "integer"
        },
        {
         "name": "ERR1630123",
         "rawType": "int64",
         "type": "integer"
        },
        {
         "name": "ERR1630124",
         "rawType": "int64",
         "type": "integer"
        },
        {
         "name": "ERR1630132",
         "rawType": "int64",
         "type": "integer"
        },
        {
         "name": "ERR1630133",
         "rawType": "int64",
         "type": "integer"
        },
        {
         "name": "ERR1630134",
         "rawType": "int64",
         "type": "integer"
        },
        {
         "name": "ERR1630137",
         "rawType": "int64",
         "type": "integer"
        },
        {
         "name": "ERR1630138",
         "rawType": "int64",
         "type": "integer"
        },
        {
         "name": "ERR1630139",
         "rawType": "int64",
         "type": "integer"
        },
        {
         "name": "ERR1630140",
         "rawType": "int64",
         "type": "integer"
        },
        {
         "name": "ERR1630141",
         "rawType": "int64",
         "type": "integer"
        },
        {
         "name": "ERR1630144",
         "rawType": "int64",
         "type": "integer"
        },
        {
         "name": "ERR1630146",
         "rawType": "int64",
         "type": "integer"
        },
        {
         "name": "ERR1630147",
         "rawType": "int64",
         "type": "integer"
        },
        {
         "name": "ERR1630148",
         "rawType": "int64",
         "type": "integer"
        },
        {
         "name": "ERR1630151",
         "rawType": "int64",
         "type": "integer"
        },
        {
         "name": "ERR1630153",
         "rawType": "int64",
         "type": "integer"
        },
        {
         "name": "ERR1630154",
         "rawType": "int64",
         "type": "integer"
        },
        {
         "name": "ERR1630156",
         "rawType": "int64",
         "type": "integer"
        },
        {
         "name": "ERR1630159",
         "rawType": "int64",
         "type": "integer"
        },
        {
         "name": "ERR1630160",
         "rawType": "int64",
         "type": "integer"
        },
        {
         "name": "ERR1630162",
         "rawType": "int64",
         "type": "integer"
        },
        {
         "name": "ERR1630164",
         "rawType": "int64",
         "type": "integer"
        },
        {
         "name": "ERR1630166",
         "rawType": "int64",
         "type": "integer"
        },
        {
         "name": "ERR1630167",
         "rawType": "int64",
         "type": "integer"
        },
        {
         "name": "ERR1630168",
         "rawType": "int64",
         "type": "integer"
        },
        {
         "name": "ERR1630169",
         "rawType": "int64",
         "type": "integer"
        },
        {
         "name": "ERR1630173",
         "rawType": "int64",
         "type": "integer"
        },
        {
         "name": "ERR1630174",
         "rawType": "int64",
         "type": "integer"
        },
        {
         "name": "ERR1630175",
         "rawType": "int64",
         "type": "integer"
        },
        {
         "name": "ERR1630176",
         "rawType": "int64",
         "type": "integer"
        },
        {
         "name": "ERR1630177",
         "rawType": "int64",
         "type": "integer"
        },
        {
         "name": "ERR1630180",
         "rawType": "int64",
         "type": "integer"
        },
        {
         "name": "ERR1630182",
         "rawType": "int64",
         "type": "integer"
        },
        {
         "name": "ERR1630183",
         "rawType": "int64",
         "type": "integer"
        },
        {
         "name": "ERR1630186",
         "rawType": "int64",
         "type": "integer"
        },
        {
         "name": "ERR1630187",
         "rawType": "int64",
         "type": "integer"
        },
        {
         "name": "ERR1630188",
         "rawType": "int64",
         "type": "integer"
        },
        {
         "name": "ERR1630190",
         "rawType": "int64",
         "type": "integer"
        },
        {
         "name": "ERR1630191",
         "rawType": "int64",
         "type": "integer"
        },
        {
         "name": "ERR1630193",
         "rawType": "int64",
         "type": "integer"
        },
        {
         "name": "ERR1630194",
         "rawType": "int64",
         "type": "integer"
        },
        {
         "name": "ERR1630195",
         "rawType": "int64",
         "type": "integer"
        },
        {
         "name": "ERR1630196",
         "rawType": "int64",
         "type": "integer"
        },
        {
         "name": "ERR1630197",
         "rawType": "int64",
         "type": "integer"
        },
        {
         "name": "ERR1630198",
         "rawType": "int64",
         "type": "integer"
        },
        {
         "name": "ERR1630199",
         "rawType": "int64",
         "type": "integer"
        },
        {
         "name": "ERR1630200",
         "rawType": "int64",
         "type": "integer"
        },
        {
         "name": "ERR1630201",
         "rawType": "int64",
         "type": "integer"
        },
        {
         "name": "ERR1630204",
         "rawType": "int64",
         "type": "integer"
        },
        {
         "name": "ERR1630205",
         "rawType": "int64",
         "type": "integer"
        },
        {
         "name": "ERR1630207",
         "rawType": "int64",
         "type": "integer"
        },
        {
         "name": "ERR1630209",
         "rawType": "int64",
         "type": "integer"
        },
        {
         "name": "ERR1630210",
         "rawType": "int64",
         "type": "integer"
        },
        {
         "name": "ERR1630211",
         "rawType": "int64",
         "type": "integer"
        },
        {
         "name": "ERR1630212",
         "rawType": "int64",
         "type": "integer"
        },
        {
         "name": "ERR1630213",
         "rawType": "int64",
         "type": "integer"
        },
        {
         "name": "ERR1630214",
         "rawType": "int64",
         "type": "integer"
        },
        {
         "name": "ERR1630215",
         "rawType": "int64",
         "type": "integer"
        },
        {
         "name": "ERR1630216",
         "rawType": "int64",
         "type": "integer"
        },
        {
         "name": "ERR1630217",
         "rawType": "int64",
         "type": "integer"
        },
        {
         "name": "ERR1630218",
         "rawType": "int64",
         "type": "integer"
        },
        {
         "name": "ERR1630219",
         "rawType": "int64",
         "type": "integer"
        },
        {
         "name": "ERR1630222",
         "rawType": "int64",
         "type": "integer"
        },
        {
         "name": "ERR1630223",
         "rawType": "int64",
         "type": "integer"
        },
        {
         "name": "ERR1630225",
         "rawType": "int64",
         "type": "integer"
        },
        {
         "name": "ERR1630227",
         "rawType": "int64",
         "type": "integer"
        },
        {
         "name": "ERR1630228",
         "rawType": "int64",
         "type": "integer"
        },
        {
         "name": "ERR1630229",
         "rawType": "int64",
         "type": "integer"
        },
        {
         "name": "ERR1630230",
         "rawType": "int64",
         "type": "integer"
        },
        {
         "name": "ERR1630232",
         "rawType": "int64",
         "type": "integer"
        },
        {
         "name": "ERR1630233",
         "rawType": "int64",
         "type": "integer"
        },
        {
         "name": "ERR1630234",
         "rawType": "int64",
         "type": "integer"
        },
        {
         "name": "ERR1630235",
         "rawType": "int64",
         "type": "integer"
        },
        {
         "name": "ERR1630236",
         "rawType": "int64",
         "type": "integer"
        },
        {
         "name": "ERR1630238",
         "rawType": "int64",
         "type": "integer"
        },
        {
         "name": "ERR1630239",
         "rawType": "int64",
         "type": "integer"
        },
        {
         "name": "ERR1630240",
         "rawType": "int64",
         "type": "integer"
        },
        {
         "name": "ERR1630241",
         "rawType": "int64",
         "type": "integer"
        },
        {
         "name": "ERR1630249",
         "rawType": "int64",
         "type": "integer"
        },
        {
         "name": "ERR1630251",
         "rawType": "int64",
         "type": "integer"
        },
        {
         "name": "ERR1630252",
         "rawType": "int64",
         "type": "integer"
        },
        {
         "name": "ERR1630253",
         "rawType": "int64",
         "type": "integer"
        },
        {
         "name": "ERR1630254",
         "rawType": "int64",
         "type": "integer"
        },
        {
         "name": "ERR1630261",
         "rawType": "int64",
         "type": "integer"
        },
        {
         "name": "ERR1630262",
         "rawType": "int64",
         "type": "integer"
        },
        {
         "name": "ERR1630263",
         "rawType": "int64",
         "type": "integer"
        },
        {
         "name": "ERR1630264",
         "rawType": "int64",
         "type": "integer"
        },
        {
         "name": "ERR1630265",
         "rawType": "int64",
         "type": "integer"
        },
        {
         "name": "ERR1630266",
         "rawType": "int64",
         "type": "integer"
        },
        {
         "name": "ERR1630268",
         "rawType": "int64",
         "type": "integer"
        },
        {
         "name": "ERR1630269",
         "rawType": "int64",
         "type": "integer"
        },
        {
         "name": "ERR1630270",
         "rawType": "int64",
         "type": "integer"
        },
        {
         "name": "ERR1630271",
         "rawType": "int64",
         "type": "integer"
        },
        {
         "name": "ERR1630273",
         "rawType": "int64",
         "type": "integer"
        },
        {
         "name": "ERR1630275",
         "rawType": "int64",
         "type": "integer"
        },
        {
         "name": "ERR1630276",
         "rawType": "int64",
         "type": "integer"
        },
        {
         "name": "ERR1630277",
         "rawType": "int64",
         "type": "integer"
        },
        {
         "name": "ERR1630278",
         "rawType": "int64",
         "type": "integer"
        },
        {
         "name": "ERR1630279",
         "rawType": "int64",
         "type": "integer"
        },
        {
         "name": "ERR1630280",
         "rawType": "int64",
         "type": "integer"
        },
        {
         "name": "ERR1630282",
         "rawType": "int64",
         "type": "integer"
        },
        {
         "name": "ERR1630283",
         "rawType": "int64",
         "type": "integer"
        },
        {
         "name": "ERR1630285",
         "rawType": "int64",
         "type": "integer"
        },
        {
         "name": "ERR1630286",
         "rawType": "int64",
         "type": "integer"
        },
        {
         "name": "ERR1630287",
         "rawType": "int64",
         "type": "integer"
        },
        {
         "name": "ERR1630288",
         "rawType": "int64",
         "type": "integer"
        },
        {
         "name": "ERR1630289",
         "rawType": "int64",
         "type": "integer"
        },
        {
         "name": "ERR1630290",
         "rawType": "int64",
         "type": "integer"
        },
        {
         "name": "ERR1630291",
         "rawType": "int64",
         "type": "integer"
        },
        {
         "name": "ERR1630292",
         "rawType": "int64",
         "type": "integer"
        },
        {
         "name": "ERR1630293",
         "rawType": "int64",
         "type": "integer"
        },
        {
         "name": "ERR1630294",
         "rawType": "int64",
         "type": "integer"
        },
        {
         "name": "ERR1630295",
         "rawType": "int64",
         "type": "integer"
        },
        {
         "name": "ERR1630297",
         "rawType": "int64",
         "type": "integer"
        },
        {
         "name": "ERR1630300",
         "rawType": "int64",
         "type": "integer"
        },
        {
         "name": "ERR1630301",
         "rawType": "int64",
         "type": "integer"
        },
        {
         "name": "ERR1630302",
         "rawType": "int64",
         "type": "integer"
        },
        {
         "name": "ERR1630303",
         "rawType": "int64",
         "type": "integer"
        },
        {
         "name": "ERR1630305",
         "rawType": "int64",
         "type": "integer"
        },
        {
         "name": "ERR1630306",
         "rawType": "int64",
         "type": "integer"
        },
        {
         "name": "ERR1630307",
         "rawType": "int64",
         "type": "integer"
        },
        {
         "name": "ERR1630309",
         "rawType": "int64",
         "type": "integer"
        },
        {
         "name": "ERR1630310",
         "rawType": "int64",
         "type": "integer"
        },
        {
         "name": "ERR1630311",
         "rawType": "int64",
         "type": "integer"
        },
        {
         "name": "ERR1630312",
         "rawType": "int64",
         "type": "integer"
        },
        {
         "name": "ERR1630314",
         "rawType": "int64",
         "type": "integer"
        },
        {
         "name": "ERR1630316",
         "rawType": "int64",
         "type": "integer"
        },
        {
         "name": "ERR1630317",
         "rawType": "int64",
         "type": "integer"
        },
        {
         "name": "ERR1630318",
         "rawType": "int64",
         "type": "integer"
        },
        {
         "name": "ERR1630319",
         "rawType": "int64",
         "type": "integer"
        },
        {
         "name": "ERR1630320",
         "rawType": "int64",
         "type": "integer"
        },
        {
         "name": "ERR1630321",
         "rawType": "int64",
         "type": "integer"
        },
        {
         "name": "ERR1630322",
         "rawType": "int64",
         "type": "integer"
        },
        {
         "name": "ERR1630325",
         "rawType": "int64",
         "type": "integer"
        },
        {
         "name": "ERR1630326",
         "rawType": "int64",
         "type": "integer"
        },
        {
         "name": "ERR1630327",
         "rawType": "int64",
         "type": "integer"
        },
        {
         "name": "ERR1630328",
         "rawType": "int64",
         "type": "integer"
        },
        {
         "name": "ERR1630329",
         "rawType": "int64",
         "type": "integer"
        },
        {
         "name": "ERR1630330",
         "rawType": "int64",
         "type": "integer"
        },
        {
         "name": "ERR1630331",
         "rawType": "int64",
         "type": "integer"
        },
        {
         "name": "ERR1630332",
         "rawType": "int64",
         "type": "integer"
        },
        {
         "name": "ERR1630333",
         "rawType": "int64",
         "type": "integer"
        },
        {
         "name": "ERR1630334",
         "rawType": "int64",
         "type": "integer"
        },
        {
         "name": "ERR1630335",
         "rawType": "int64",
         "type": "integer"
        },
        {
         "name": "ERR1630336",
         "rawType": "int64",
         "type": "integer"
        },
        {
         "name": "ERR1630338",
         "rawType": "int64",
         "type": "integer"
        },
        {
         "name": "ERR1630340",
         "rawType": "int64",
         "type": "integer"
        },
        {
         "name": "ERR1630341",
         "rawType": "int64",
         "type": "integer"
        },
        {
         "name": "ERR1630342",
         "rawType": "int64",
         "type": "integer"
        },
        {
         "name": "ERR1630344",
         "rawType": "int64",
         "type": "integer"
        },
        {
         "name": "ERR1630345",
         "rawType": "int64",
         "type": "integer"
        },
        {
         "name": "ERR1630346",
         "rawType": "int64",
         "type": "integer"
        },
        {
         "name": "ERR1630347",
         "rawType": "int64",
         "type": "integer"
        },
        {
         "name": "ERR1630348",
         "rawType": "int64",
         "type": "integer"
        },
        {
         "name": "ERR1630349",
         "rawType": "int64",
         "type": "integer"
        },
        {
         "name": "ERR1630350",
         "rawType": "int64",
         "type": "integer"
        },
        {
         "name": "ERR1630351",
         "rawType": "int64",
         "type": "integer"
        },
        {
         "name": "ERR1630352",
         "rawType": "int64",
         "type": "integer"
        },
        {
         "name": "ERR1630353",
         "rawType": "int64",
         "type": "integer"
        },
        {
         "name": "ERR1630354",
         "rawType": "int64",
         "type": "integer"
        },
        {
         "name": "ERR1630355",
         "rawType": "int64",
         "type": "integer"
        },
        {
         "name": "ERR1630356",
         "rawType": "int64",
         "type": "integer"
        },
        {
         "name": "ERR1630357",
         "rawType": "int64",
         "type": "integer"
        },
        {
         "name": "ERR1630358",
         "rawType": "int64",
         "type": "integer"
        },
        {
         "name": "ERR1630359",
         "rawType": "int64",
         "type": "integer"
        },
        {
         "name": "ERR1630360",
         "rawType": "int64",
         "type": "integer"
        },
        {
         "name": "ERR1630361",
         "rawType": "int64",
         "type": "integer"
        },
        {
         "name": "ERR1630362",
         "rawType": "int64",
         "type": "integer"
        },
        {
         "name": "ERR1630363",
         "rawType": "int64",
         "type": "integer"
        },
        {
         "name": "ERR1630364",
         "rawType": "int64",
         "type": "integer"
        },
        {
         "name": "ERR1630366",
         "rawType": "int64",
         "type": "integer"
        },
        {
         "name": "ERR1630367",
         "rawType": "int64",
         "type": "integer"
        },
        {
         "name": "ERR1630368",
         "rawType": "int64",
         "type": "integer"
        },
        {
         "name": "ERR1630369",
         "rawType": "int64",
         "type": "integer"
        },
        {
         "name": "ERR1630370",
         "rawType": "int64",
         "type": "integer"
        },
        {
         "name": "ERR1630371",
         "rawType": "int64",
         "type": "integer"
        },
        {
         "name": "ERR1630372",
         "rawType": "int64",
         "type": "integer"
        },
        {
         "name": "ERR1630373",
         "rawType": "int64",
         "type": "integer"
        },
        {
         "name": "ERR1630374",
         "rawType": "int64",
         "type": "integer"
        },
        {
         "name": "ERR1630375",
         "rawType": "int64",
         "type": "integer"
        },
        {
         "name": "ERR1630376",
         "rawType": "int64",
         "type": "integer"
        },
        {
         "name": "ERR1630378",
         "rawType": "int64",
         "type": "integer"
        },
        {
         "name": "ERR1630379",
         "rawType": "int64",
         "type": "integer"
        },
        {
         "name": "ERR1630380",
         "rawType": "int64",
         "type": "integer"
        },
        {
         "name": "ERR1630381",
         "rawType": "int64",
         "type": "integer"
        },
        {
         "name": "ERR1630382",
         "rawType": "int64",
         "type": "integer"
        },
        {
         "name": "ERR1630384",
         "rawType": "int64",
         "type": "integer"
        },
        {
         "name": "ERR1630385",
         "rawType": "int64",
         "type": "integer"
        },
        {
         "name": "ERR1630386",
         "rawType": "int64",
         "type": "integer"
        },
        {
         "name": "ERR1630388",
         "rawType": "int64",
         "type": "integer"
        },
        {
         "name": "ERR1630390",
         "rawType": "int64",
         "type": "integer"
        },
        {
         "name": "ERR1630391",
         "rawType": "int64",
         "type": "integer"
        },
        {
         "name": "ERR1630392",
         "rawType": "int64",
         "type": "integer"
        },
        {
         "name": "ERR1630393",
         "rawType": "int64",
         "type": "integer"
        },
        {
         "name": "ERR1630394",
         "rawType": "int64",
         "type": "integer"
        },
        {
         "name": "ERR1630395",
         "rawType": "int64",
         "type": "integer"
        },
        {
         "name": "ERR1630396",
         "rawType": "int64",
         "type": "integer"
        },
        {
         "name": "ERR1630397",
         "rawType": "int64",
         "type": "integer"
        },
        {
         "name": "ERR1630398",
         "rawType": "int64",
         "type": "integer"
        },
        {
         "name": "ERR1630401",
         "rawType": "int64",
         "type": "integer"
        },
        {
         "name": "ERR1630402",
         "rawType": "int64",
         "type": "integer"
        },
        {
         "name": "ERR1630403",
         "rawType": "int64",
         "type": "integer"
        },
        {
         "name": "ERR1630404",
         "rawType": "int64",
         "type": "integer"
        },
        {
         "name": "ERR1630405",
         "rawType": "int64",
         "type": "integer"
        },
        {
         "name": "ERR1630406",
         "rawType": "int64",
         "type": "integer"
        },
        {
         "name": "ERR1630407",
         "rawType": "int64",
         "type": "integer"
        },
        {
         "name": "ERR1630408",
         "rawType": "int64",
         "type": "integer"
        },
        {
         "name": "ERR1630409",
         "rawType": "int64",
         "type": "integer"
        },
        {
         "name": "ERR1630410",
         "rawType": "int64",
         "type": "integer"
        },
        {
         "name": "ERR1630411",
         "rawType": "int64",
         "type": "integer"
        },
        {
         "name": "ERR1630412",
         "rawType": "int64",
         "type": "integer"
        },
        {
         "name": "ERR1630414",
         "rawType": "int64",
         "type": "integer"
        },
        {
         "name": "ERR1630415",
         "rawType": "int64",
         "type": "integer"
        },
        {
         "name": "ERR1630416",
         "rawType": "int64",
         "type": "integer"
        },
        {
         "name": "ERR1630417",
         "rawType": "int64",
         "type": "integer"
        },
        {
         "name": "ERR1630420",
         "rawType": "int64",
         "type": "integer"
        },
        {
         "name": "ERR1630421",
         "rawType": "int64",
         "type": "integer"
        },
        {
         "name": "ERR1630422",
         "rawType": "int64",
         "type": "integer"
        },
        {
         "name": "ERR1630423",
         "rawType": "int64",
         "type": "integer"
        },
        {
         "name": "ERR1630425",
         "rawType": "int64",
         "type": "integer"
        },
        {
         "name": "ERR1630426",
         "rawType": "int64",
         "type": "integer"
        },
        {
         "name": "ERR1630427",
         "rawType": "int64",
         "type": "integer"
        },
        {
         "name": "ERR1630429",
         "rawType": "int64",
         "type": "integer"
        },
        {
         "name": "ERR1630431",
         "rawType": "int64",
         "type": "integer"
        },
        {
         "name": "ERR1630432",
         "rawType": "int64",
         "type": "integer"
        },
        {
         "name": "ERR1630435",
         "rawType": "int64",
         "type": "integer"
        },
        {
         "name": "ERR1630436",
         "rawType": "int64",
         "type": "integer"
        },
        {
         "name": "ERR1630437",
         "rawType": "int64",
         "type": "integer"
        },
        {
         "name": "ERR1630438",
         "rawType": "int64",
         "type": "integer"
        },
        {
         "name": "ERR1630439",
         "rawType": "int64",
         "type": "integer"
        },
        {
         "name": "ERR1630442",
         "rawType": "int64",
         "type": "integer"
        },
        {
         "name": "ERR1630444",
         "rawType": "int64",
         "type": "integer"
        },
        {
         "name": "ERR1630445",
         "rawType": "int64",
         "type": "integer"
        },
        {
         "name": "ERR1630446",
         "rawType": "int64",
         "type": "integer"
        },
        {
         "name": "ERR1630448",
         "rawType": "int64",
         "type": "integer"
        },
        {
         "name": "ERR1630449",
         "rawType": "int64",
         "type": "integer"
        },
        {
         "name": "ERR1630450",
         "rawType": "int64",
         "type": "integer"
        },
        {
         "name": "ERR1630451",
         "rawType": "int64",
         "type": "integer"
        },
        {
         "name": "ERR1630452",
         "rawType": "int64",
         "type": "integer"
        },
        {
         "name": "ERR1630453",
         "rawType": "int64",
         "type": "integer"
        },
        {
         "name": "ERR1630454",
         "rawType": "int64",
         "type": "integer"
        },
        {
         "name": "ERR1630455",
         "rawType": "int64",
         "type": "integer"
        },
        {
         "name": "ERR1630457",
         "rawType": "int64",
         "type": "integer"
        },
        {
         "name": "ERR1630458",
         "rawType": "int64",
         "type": "integer"
        },
        {
         "name": "ERR1630459",
         "rawType": "int64",
         "type": "integer"
        },
        {
         "name": "ERR1630460",
         "rawType": "int64",
         "type": "integer"
        },
        {
         "name": "ERR1630845",
         "rawType": "int64",
         "type": "integer"
        },
        {
         "name": "ERR1630849",
         "rawType": "int64",
         "type": "integer"
        },
        {
         "name": "ERR1630851",
         "rawType": "int64",
         "type": "integer"
        },
        {
         "name": "ERR1630854",
         "rawType": "int64",
         "type": "integer"
        },
        {
         "name": "ERR1630855",
         "rawType": "int64",
         "type": "integer"
        },
        {
         "name": "ERR1630857",
         "rawType": "int64",
         "type": "integer"
        },
        {
         "name": "ERR1630858",
         "rawType": "int64",
         "type": "integer"
        },
        {
         "name": "ERR1630859",
         "rawType": "int64",
         "type": "integer"
        },
        {
         "name": "ERR1630861",
         "rawType": "int64",
         "type": "integer"
        },
        {
         "name": "ERR1630863",
         "rawType": "int64",
         "type": "integer"
        },
        {
         "name": "ERR1630867",
         "rawType": "int64",
         "type": "integer"
        },
        {
         "name": "ERR1630868",
         "rawType": "int64",
         "type": "integer"
        },
        {
         "name": "ERR1630869",
         "rawType": "int64",
         "type": "integer"
        },
        {
         "name": "ERR1630870",
         "rawType": "int64",
         "type": "integer"
        },
        {
         "name": "ERR1630872",
         "rawType": "int64",
         "type": "integer"
        },
        {
         "name": "ERR1630873",
         "rawType": "int64",
         "type": "integer"
        },
        {
         "name": "ERR1630874",
         "rawType": "int64",
         "type": "integer"
        },
        {
         "name": "ERR1630875",
         "rawType": "int64",
         "type": "integer"
        },
        {
         "name": "ERR1630877",
         "rawType": "int64",
         "type": "integer"
        },
        {
         "name": "ERR1630880",
         "rawType": "int64",
         "type": "integer"
        },
        {
         "name": "ERR1630881",
         "rawType": "int64",
         "type": "integer"
        },
        {
         "name": "ERR1630882",
         "rawType": "int64",
         "type": "integer"
        },
        {
         "name": "ERR1630883",
         "rawType": "int64",
         "type": "integer"
        },
        {
         "name": "ERR1630884",
         "rawType": "int64",
         "type": "integer"
        },
        {
         "name": "ERR1630885",
         "rawType": "int64",
         "type": "integer"
        },
        {
         "name": "ERR1630886",
         "rawType": "int64",
         "type": "integer"
        },
        {
         "name": "ERR1630888",
         "rawType": "int64",
         "type": "integer"
        },
        {
         "name": "ERR1630889",
         "rawType": "int64",
         "type": "integer"
        },
        {
         "name": "ERR1630890",
         "rawType": "int64",
         "type": "integer"
        },
        {
         "name": "ERR1630891",
         "rawType": "int64",
         "type": "integer"
        },
        {
         "name": "ERR1630893",
         "rawType": "int64",
         "type": "integer"
        },
        {
         "name": "ERR1630894",
         "rawType": "int64",
         "type": "integer"
        },
        {
         "name": "ERR1630896",
         "rawType": "int64",
         "type": "integer"
        },
        {
         "name": "ERR1630897",
         "rawType": "int64",
         "type": "integer"
        },
        {
         "name": "ERR1630899",
         "rawType": "int64",
         "type": "integer"
        },
        {
         "name": "ERR1630900",
         "rawType": "int64",
         "type": "integer"
        },
        {
         "name": "ERR1630903",
         "rawType": "int64",
         "type": "integer"
        },
        {
         "name": "ERR1630906",
         "rawType": "int64",
         "type": "integer"
        },
        {
         "name": "ERR1630907",
         "rawType": "int64",
         "type": "integer"
        },
        {
         "name": "ERR1630916",
         "rawType": "int64",
         "type": "integer"
        },
        {
         "name": "ERR1630919",
         "rawType": "int64",
         "type": "integer"
        },
        {
         "name": "ERR1630920",
         "rawType": "int64",
         "type": "integer"
        },
        {
         "name": "ERR1630921",
         "rawType": "int64",
         "type": "integer"
        },
        {
         "name": "ERR1630922",
         "rawType": "int64",
         "type": "integer"
        },
        {
         "name": "ERR1630923",
         "rawType": "int64",
         "type": "integer"
        },
        {
         "name": "ERR1630924",
         "rawType": "int64",
         "type": "integer"
        },
        {
         "name": "ERR1630925",
         "rawType": "int64",
         "type": "integer"
        },
        {
         "name": "ERR1630927",
         "rawType": "int64",
         "type": "integer"
        },
        {
         "name": "ERR1630929",
         "rawType": "int64",
         "type": "integer"
        },
        {
         "name": "ERR1630930",
         "rawType": "int64",
         "type": "integer"
        },
        {
         "name": "ERR1630931",
         "rawType": "int64",
         "type": "integer"
        },
        {
         "name": "ERR1630932",
         "rawType": "int64",
         "type": "integer"
        },
        {
         "name": "ERR1630935",
         "rawType": "int64",
         "type": "integer"
        },
        {
         "name": "ERR1630936",
         "rawType": "int64",
         "type": "integer"
        },
        {
         "name": "ERR1630937",
         "rawType": "int64",
         "type": "integer"
        },
        {
         "name": "ERR1630939",
         "rawType": "int64",
         "type": "integer"
        },
        {
         "name": "ERR1630941",
         "rawType": "int64",
         "type": "integer"
        },
        {
         "name": "ERR1630943",
         "rawType": "int64",
         "type": "integer"
        },
        {
         "name": "ERR1630945",
         "rawType": "int64",
         "type": "integer"
        },
        {
         "name": "ERR1630947",
         "rawType": "int64",
         "type": "integer"
        },
        {
         "name": "ERR1630949",
         "rawType": "int64",
         "type": "integer"
        },
        {
         "name": "ERR1630951",
         "rawType": "int64",
         "type": "integer"
        },
        {
         "name": "ERR1630953",
         "rawType": "int64",
         "type": "integer"
        },
        {
         "name": "ERR1630955",
         "rawType": "int64",
         "type": "integer"
        },
        {
         "name": "ERR1630956",
         "rawType": "int64",
         "type": "integer"
        },
        {
         "name": "ERR1630960",
         "rawType": "int64",
         "type": "integer"
        },
        {
         "name": "ERR1630963",
         "rawType": "int64",
         "type": "integer"
        },
        {
         "name": "ERR1630964",
         "rawType": "int64",
         "type": "integer"
        },
        {
         "name": "ERR1630965",
         "rawType": "int64",
         "type": "integer"
        },
        {
         "name": "ERR1630966",
         "rawType": "int64",
         "type": "integer"
        },
        {
         "name": "ERR1630967",
         "rawType": "int64",
         "type": "integer"
        },
        {
         "name": "ERR1630968",
         "rawType": "int64",
         "type": "integer"
        },
        {
         "name": "ERR1630969",
         "rawType": "int64",
         "type": "integer"
        },
        {
         "name": "ERR1630970",
         "rawType": "int64",
         "type": "integer"
        },
        {
         "name": "ERR1630971",
         "rawType": "int64",
         "type": "integer"
        },
        {
         "name": "ERR1630972",
         "rawType": "int64",
         "type": "integer"
        },
        {
         "name": "ERR1630973",
         "rawType": "int64",
         "type": "integer"
        },
        {
         "name": "ERR1630974",
         "rawType": "int64",
         "type": "integer"
        },
        {
         "name": "ERR1630975",
         "rawType": "int64",
         "type": "integer"
        },
        {
         "name": "ERR1630976",
         "rawType": "int64",
         "type": "integer"
        },
        {
         "name": "ERR1630979",
         "rawType": "int64",
         "type": "integer"
        },
        {
         "name": "ERR1630980",
         "rawType": "int64",
         "type": "integer"
        },
        {
         "name": "ERR1630981",
         "rawType": "int64",
         "type": "integer"
        },
        {
         "name": "ERR1630982",
         "rawType": "int64",
         "type": "integer"
        },
        {
         "name": "ERR1630983",
         "rawType": "int64",
         "type": "integer"
        },
        {
         "name": "ERR1630986",
         "rawType": "int64",
         "type": "integer"
        },
        {
         "name": "ERR1630987",
         "rawType": "int64",
         "type": "integer"
        },
        {
         "name": "ERR1630989",
         "rawType": "int64",
         "type": "integer"
        },
        {
         "name": "ERR1630990",
         "rawType": "int64",
         "type": "integer"
        },
        {
         "name": "ERR1630991",
         "rawType": "int64",
         "type": "integer"
        },
        {
         "name": "ERR1630992",
         "rawType": "int64",
         "type": "integer"
        },
        {
         "name": "ERR1630994",
         "rawType": "int64",
         "type": "integer"
        },
        {
         "name": "ERR1630995",
         "rawType": "int64",
         "type": "integer"
        },
        {
         "name": "ERR1630997",
         "rawType": "int64",
         "type": "integer"
        },
        {
         "name": "ERR1630998",
         "rawType": "int64",
         "type": "integer"
        },
        {
         "name": "ERR1630999",
         "rawType": "int64",
         "type": "integer"
        },
        {
         "name": "ERR1631000",
         "rawType": "int64",
         "type": "integer"
        },
        {
         "name": "ERR1631001",
         "rawType": "int64",
         "type": "integer"
        },
        {
         "name": "ERR1631004",
         "rawType": "int64",
         "type": "integer"
        },
        {
         "name": "ERR1631005",
         "rawType": "int64",
         "type": "integer"
        },
        {
         "name": "ERR1631006",
         "rawType": "int64",
         "type": "integer"
        },
        {
         "name": "ERR1631008",
         "rawType": "int64",
         "type": "integer"
        },
        {
         "name": "ERR1631010",
         "rawType": "int64",
         "type": "integer"
        },
        {
         "name": "ERR1631011",
         "rawType": "int64",
         "type": "integer"
        },
        {
         "name": "ERR1631012",
         "rawType": "int64",
         "type": "integer"
        },
        {
         "name": "ERR1631013",
         "rawType": "int64",
         "type": "integer"
        },
        {
         "name": "ERR1631014",
         "rawType": "int64",
         "type": "integer"
        },
        {
         "name": "ERR1631015",
         "rawType": "int64",
         "type": "integer"
        },
        {
         "name": "ERR1631017",
         "rawType": "int64",
         "type": "integer"
        },
        {
         "name": "ERR1631019",
         "rawType": "int64",
         "type": "integer"
        },
        {
         "name": "ERR1631020",
         "rawType": "int64",
         "type": "integer"
        },
        {
         "name": "ERR1631021",
         "rawType": "int64",
         "type": "integer"
        },
        {
         "name": "ERR1631022",
         "rawType": "int64",
         "type": "integer"
        },
        {
         "name": "ERR1631023",
         "rawType": "int64",
         "type": "integer"
        },
        {
         "name": "ERR1631026",
         "rawType": "int64",
         "type": "integer"
        },
        {
         "name": "ERR1631030",
         "rawType": "int64",
         "type": "integer"
        },
        {
         "name": "ERR1631031",
         "rawType": "int64",
         "type": "integer"
        },
        {
         "name": "ERR1631032",
         "rawType": "int64",
         "type": "integer"
        },
        {
         "name": "ERR1631037",
         "rawType": "int64",
         "type": "integer"
        },
        {
         "name": "ERR1631039",
         "rawType": "int64",
         "type": "integer"
        },
        {
         "name": "ERR1631040",
         "rawType": "int64",
         "type": "integer"
        },
        {
         "name": "ERR1631044",
         "rawType": "int64",
         "type": "integer"
        },
        {
         "name": "ERR1631045",
         "rawType": "int64",
         "type": "integer"
        },
        {
         "name": "ERR1631046",
         "rawType": "int64",
         "type": "integer"
        },
        {
         "name": "ERR1631047",
         "rawType": "int64",
         "type": "integer"
        },
        {
         "name": "ERR1631049",
         "rawType": "int64",
         "type": "integer"
        },
        {
         "name": "ERR1631050",
         "rawType": "int64",
         "type": "integer"
        },
        {
         "name": "ERR1631051",
         "rawType": "int64",
         "type": "integer"
        },
        {
         "name": "ERR1631052",
         "rawType": "int64",
         "type": "integer"
        },
        {
         "name": "ERR1631053",
         "rawType": "int64",
         "type": "integer"
        },
        {
         "name": "ERR1631057",
         "rawType": "int64",
         "type": "integer"
        },
        {
         "name": "ERR1631058",
         "rawType": "int64",
         "type": "integer"
        },
        {
         "name": "ERR1631063",
         "rawType": "int64",
         "type": "integer"
        },
        {
         "name": "ERR1631066",
         "rawType": "int64",
         "type": "integer"
        },
        {
         "name": "ERR1631068",
         "rawType": "int64",
         "type": "integer"
        },
        {
         "name": "ERR1631069",
         "rawType": "int64",
         "type": "integer"
        },
        {
         "name": "ERR1631072",
         "rawType": "int64",
         "type": "integer"
        },
        {
         "name": "ERR1631074",
         "rawType": "int64",
         "type": "integer"
        },
        {
         "name": "ERR1631075",
         "rawType": "int64",
         "type": "integer"
        },
        {
         "name": "ERR1631076",
         "rawType": "int64",
         "type": "integer"
        },
        {
         "name": "ERR1631077",
         "rawType": "int64",
         "type": "integer"
        },
        {
         "name": "ERR1631078",
         "rawType": "int64",
         "type": "integer"
        },
        {
         "name": "ERR1631079",
         "rawType": "int64",
         "type": "integer"
        },
        {
         "name": "ERR1631080",
         "rawType": "int64",
         "type": "integer"
        },
        {
         "name": "ERR1631081",
         "rawType": "int64",
         "type": "integer"
        },
        {
         "name": "ERR1631082",
         "rawType": "int64",
         "type": "integer"
        },
        {
         "name": "ERR1631083",
         "rawType": "int64",
         "type": "integer"
        },
        {
         "name": "ERR1631084",
         "rawType": "int64",
         "type": "integer"
        },
        {
         "name": "ERR1631087",
         "rawType": "int64",
         "type": "integer"
        },
        {
         "name": "ERR1631089",
         "rawType": "int64",
         "type": "integer"
        },
        {
         "name": "ERR1631094",
         "rawType": "int64",
         "type": "integer"
        },
        {
         "name": "ERR1631096",
         "rawType": "int64",
         "type": "integer"
        },
        {
         "name": "ERR1631098",
         "rawType": "int64",
         "type": "integer"
        },
        {
         "name": "ERR1631099",
         "rawType": "int64",
         "type": "integer"
        },
        {
         "name": "ERR1631103",
         "rawType": "int64",
         "type": "integer"
        },
        {
         "name": "ERR1631104",
         "rawType": "int64",
         "type": "integer"
        },
        {
         "name": "ERR1631108",
         "rawType": "int64",
         "type": "integer"
        },
        {
         "name": "ERR1631112",
         "rawType": "int64",
         "type": "integer"
        },
        {
         "name": "ERR1631113",
         "rawType": "int64",
         "type": "integer"
        },
        {
         "name": "ERR1631115",
         "rawType": "int64",
         "type": "integer"
        },
        {
         "name": "ERR1631116",
         "rawType": "int64",
         "type": "integer"
        },
        {
         "name": "ERR1631117",
         "rawType": "int64",
         "type": "integer"
        },
        {
         "name": "ERR1631120",
         "rawType": "int64",
         "type": "integer"
        },
        {
         "name": "ERR1631121",
         "rawType": "int64",
         "type": "integer"
        },
        {
         "name": "ERR1631122",
         "rawType": "int64",
         "type": "integer"
        },
        {
         "name": "ERR1631124",
         "rawType": "int64",
         "type": "integer"
        },
        {
         "name": "ERR1631125",
         "rawType": "int64",
         "type": "integer"
        },
        {
         "name": "ERR1631130",
         "rawType": "int64",
         "type": "integer"
        },
        {
         "name": "ERR1631131",
         "rawType": "int64",
         "type": "integer"
        },
        {
         "name": "ERR1631134",
         "rawType": "int64",
         "type": "integer"
        },
        {
         "name": "ERR1631135",
         "rawType": "int64",
         "type": "integer"
        },
        {
         "name": "ERR1631141",
         "rawType": "int64",
         "type": "integer"
        },
        {
         "name": "ERR1631142",
         "rawType": "int64",
         "type": "integer"
        },
        {
         "name": "ERR1631144",
         "rawType": "int64",
         "type": "integer"
        },
        {
         "name": "ERR1631145",
         "rawType": "int64",
         "type": "integer"
        },
        {
         "name": "ERR1631148",
         "rawType": "int64",
         "type": "integer"
        },
        {
         "name": "ERR1631149",
         "rawType": "int64",
         "type": "integer"
        },
        {
         "name": "ERR1631150",
         "rawType": "int64",
         "type": "integer"
        },
        {
         "name": "ERR1631156",
         "rawType": "int64",
         "type": "integer"
        },
        {
         "name": "ERR1631159",
         "rawType": "int64",
         "type": "integer"
        },
        {
         "name": "ERR1631160",
         "rawType": "int64",
         "type": "integer"
        },
        {
         "name": "ERR1631162",
         "rawType": "int64",
         "type": "integer"
        },
        {
         "name": "ERR1631163",
         "rawType": "int64",
         "type": "integer"
        },
        {
         "name": "ERR1631164",
         "rawType": "int64",
         "type": "integer"
        },
        {
         "name": "ERR1631165",
         "rawType": "int64",
         "type": "integer"
        },
        {
         "name": "ERR1631166",
         "rawType": "int64",
         "type": "integer"
        },
        {
         "name": "ERR1631167",
         "rawType": "int64",
         "type": "integer"
        },
        {
         "name": "ERR1631169",
         "rawType": "int64",
         "type": "integer"
        },
        {
         "name": "ERR1631170",
         "rawType": "int64",
         "type": "integer"
        },
        {
         "name": "ERR1631171",
         "rawType": "int64",
         "type": "integer"
        },
        {
         "name": "ERR1631172",
         "rawType": "int64",
         "type": "integer"
        },
        {
         "name": "ERR1631177",
         "rawType": "int64",
         "type": "integer"
        },
        {
         "name": "ERR1631178",
         "rawType": "int64",
         "type": "integer"
        },
        {
         "name": "ERR1631179",
         "rawType": "int64",
         "type": "integer"
        },
        {
         "name": "ERR1631180",
         "rawType": "int64",
         "type": "integer"
        },
        {
         "name": "ERR1631181",
         "rawType": "int64",
         "type": "integer"
        },
        {
         "name": "ERR1631182",
         "rawType": "int64",
         "type": "integer"
        },
        {
         "name": "ERR1631185",
         "rawType": "int64",
         "type": "integer"
        },
        {
         "name": "ERR1631187",
         "rawType": "int64",
         "type": "integer"
        },
        {
         "name": "ERR1631188",
         "rawType": "int64",
         "type": "integer"
        },
        {
         "name": "ERR1631189",
         "rawType": "int64",
         "type": "integer"
        },
        {
         "name": "ERR1631192",
         "rawType": "int64",
         "type": "integer"
        },
        {
         "name": "ERR1631193",
         "rawType": "int64",
         "type": "integer"
        },
        {
         "name": "ERR1631196",
         "rawType": "int64",
         "type": "integer"
        },
        {
         "name": "ERR1631198",
         "rawType": "int64",
         "type": "integer"
        },
        {
         "name": "ERR1631199",
         "rawType": "int64",
         "type": "integer"
        },
        {
         "name": "ERR1631200",
         "rawType": "int64",
         "type": "integer"
        },
        {
         "name": "ERR1631201",
         "rawType": "int64",
         "type": "integer"
        },
        {
         "name": "ERR1631202",
         "rawType": "int64",
         "type": "integer"
        },
        {
         "name": "ERR1631203",
         "rawType": "int64",
         "type": "integer"
        },
        {
         "name": "ERR1631205",
         "rawType": "int64",
         "type": "integer"
        },
        {
         "name": "ERR1631206",
         "rawType": "int64",
         "type": "integer"
        },
        {
         "name": "ERR1631208",
         "rawType": "int64",
         "type": "integer"
        },
        {
         "name": "ERR1631209",
         "rawType": "int64",
         "type": "integer"
        },
        {
         "name": "ERR1631212",
         "rawType": "int64",
         "type": "integer"
        },
        {
         "name": "ERR1631215",
         "rawType": "int64",
         "type": "integer"
        },
        {
         "name": "ERR1631216",
         "rawType": "int64",
         "type": "integer"
        },
        {
         "name": "ERR1631220",
         "rawType": "int64",
         "type": "integer"
        },
        {
         "name": "ERR1631224",
         "rawType": "int64",
         "type": "integer"
        },
        {
         "name": "ERR1631226",
         "rawType": "int64",
         "type": "integer"
        },
        {
         "name": "ERR1631230",
         "rawType": "int64",
         "type": "integer"
        },
        {
         "name": "ERR1631232",
         "rawType": "int64",
         "type": "integer"
        },
        {
         "name": "ERR1631233",
         "rawType": "int64",
         "type": "integer"
        },
        {
         "name": "ERR1631235",
         "rawType": "int64",
         "type": "integer"
        },
        {
         "name": "ERR1631236",
         "rawType": "int64",
         "type": "integer"
        },
        {
         "name": "ERR1631239",
         "rawType": "int64",
         "type": "integer"
        },
        {
         "name": "ERR1631240",
         "rawType": "int64",
         "type": "integer"
        },
        {
         "name": "ERR1631243",
         "rawType": "int64",
         "type": "integer"
        },
        {
         "name": "ERR1631245",
         "rawType": "int64",
         "type": "integer"
        },
        {
         "name": "ERR1631246",
         "rawType": "int64",
         "type": "integer"
        },
        {
         "name": "ERR1631247",
         "rawType": "int64",
         "type": "integer"
        },
        {
         "name": "ERR1631248",
         "rawType": "int64",
         "type": "integer"
        },
        {
         "name": "ERR1631250",
         "rawType": "int64",
         "type": "integer"
        },
        {
         "name": "ERR1631251",
         "rawType": "int64",
         "type": "integer"
        },
        {
         "name": "ERR1631253",
         "rawType": "int64",
         "type": "integer"
        },
        {
         "name": "ERR1631256",
         "rawType": "int64",
         "type": "integer"
        },
        {
         "name": "ERR1631257",
         "rawType": "int64",
         "type": "integer"
        },
        {
         "name": "ERR1631258",
         "rawType": "int64",
         "type": "integer"
        },
        {
         "name": "ERR1631259",
         "rawType": "int64",
         "type": "integer"
        },
        {
         "name": "ERR1631263",
         "rawType": "int64",
         "type": "integer"
        },
        {
         "name": "ERR1631265",
         "rawType": "int64",
         "type": "integer"
        },
        {
         "name": "ERR1631266",
         "rawType": "int64",
         "type": "integer"
        },
        {
         "name": "ERR1631267",
         "rawType": "int64",
         "type": "integer"
        },
        {
         "name": "ERR1631268",
         "rawType": "int64",
         "type": "integer"
        },
        {
         "name": "ERR1631269",
         "rawType": "int64",
         "type": "integer"
        },
        {
         "name": "ERR1631270",
         "rawType": "int64",
         "type": "integer"
        },
        {
         "name": "ERR1631271",
         "rawType": "int64",
         "type": "integer"
        },
        {
         "name": "ERR1631273",
         "rawType": "int64",
         "type": "integer"
        },
        {
         "name": "ERR1631279",
         "rawType": "int64",
         "type": "integer"
        },
        {
         "name": "ERR1631281",
         "rawType": "int64",
         "type": "integer"
        },
        {
         "name": "ERR1631282",
         "rawType": "int64",
         "type": "integer"
        },
        {
         "name": "ERR1631283",
         "rawType": "int64",
         "type": "integer"
        },
        {
         "name": "ERR1631284",
         "rawType": "int64",
         "type": "integer"
        },
        {
         "name": "ERR1631290",
         "rawType": "int64",
         "type": "integer"
        },
        {
         "name": "ERR1631291",
         "rawType": "int64",
         "type": "integer"
        },
        {
         "name": "ERR1631293",
         "rawType": "int64",
         "type": "integer"
        },
        {
         "name": "ERR1631294",
         "rawType": "int64",
         "type": "integer"
        },
        {
         "name": "ERR1631296",
         "rawType": "int64",
         "type": "integer"
        },
        {
         "name": "ERR1631297",
         "rawType": "int64",
         "type": "integer"
        },
        {
         "name": "ERR1631298",
         "rawType": "int64",
         "type": "integer"
        },
        {
         "name": "ERR1631299",
         "rawType": "int64",
         "type": "integer"
        },
        {
         "name": "ERR1631302",
         "rawType": "int64",
         "type": "integer"
        },
        {
         "name": "ERR1631303",
         "rawType": "int64",
         "type": "integer"
        },
        {
         "name": "ERR1631304",
         "rawType": "int64",
         "type": "integer"
        },
        {
         "name": "ERR1631305",
         "rawType": "int64",
         "type": "integer"
        },
        {
         "name": "ERR1631307",
         "rawType": "int64",
         "type": "integer"
        },
        {
         "name": "ERR1631310",
         "rawType": "int64",
         "type": "integer"
        },
        {
         "name": "ERR1631315",
         "rawType": "int64",
         "type": "integer"
        },
        {
         "name": "ERR1631316",
         "rawType": "int64",
         "type": "integer"
        },
        {
         "name": "ERR1631320",
         "rawType": "int64",
         "type": "integer"
        },
        {
         "name": "ERR1631321",
         "rawType": "int64",
         "type": "integer"
        },
        {
         "name": "ERR1631322",
         "rawType": "int64",
         "type": "integer"
        },
        {
         "name": "ERR1631325",
         "rawType": "int64",
         "type": "integer"
        },
        {
         "name": "ERR1631326",
         "rawType": "int64",
         "type": "integer"
        },
        {
         "name": "ERR1631329",
         "rawType": "int64",
         "type": "integer"
        },
        {
         "name": "ERR1631330",
         "rawType": "int64",
         "type": "integer"
        },
        {
         "name": "ERR1631331",
         "rawType": "int64",
         "type": "integer"
        },
        {
         "name": "ERR1631332",
         "rawType": "int64",
         "type": "integer"
        },
        {
         "name": "ERR1631335",
         "rawType": "int64",
         "type": "integer"
        },
        {
         "name": "ERR1631338",
         "rawType": "int64",
         "type": "integer"
        },
        {
         "name": "ERR1631339",
         "rawType": "int64",
         "type": "integer"
        },
        {
         "name": "ERR1631341",
         "rawType": "int64",
         "type": "integer"
        },
        {
         "name": "ERR1631343",
         "rawType": "int64",
         "type": "integer"
        },
        {
         "name": "ERR1631345",
         "rawType": "int64",
         "type": "integer"
        },
        {
         "name": "ERR1631348",
         "rawType": "int64",
         "type": "integer"
        },
        {
         "name": "ERR1631349",
         "rawType": "int64",
         "type": "integer"
        },
        {
         "name": "ERR1631350",
         "rawType": "int64",
         "type": "integer"
        },
        {
         "name": "ERR1631351",
         "rawType": "int64",
         "type": "integer"
        },
        {
         "name": "ERR1631354",
         "rawType": "int64",
         "type": "integer"
        },
        {
         "name": "ERR1631355",
         "rawType": "int64",
         "type": "integer"
        },
        {
         "name": "ERR1631356",
         "rawType": "int64",
         "type": "integer"
        },
        {
         "name": "ERR1631357",
         "rawType": "int64",
         "type": "integer"
        },
        {
         "name": "ERR1631358",
         "rawType": "int64",
         "type": "integer"
        },
        {
         "name": "ERR1631360",
         "rawType": "int64",
         "type": "integer"
        },
        {
         "name": "ERR1631361",
         "rawType": "int64",
         "type": "integer"
        },
        {
         "name": "ERR1631362",
         "rawType": "int64",
         "type": "integer"
        },
        {
         "name": "ERR1631363",
         "rawType": "int64",
         "type": "integer"
        },
        {
         "name": "ERR1631364",
         "rawType": "int64",
         "type": "integer"
        },
        {
         "name": "ERR1631366",
         "rawType": "int64",
         "type": "integer"
        },
        {
         "name": "ERR1631369",
         "rawType": "int64",
         "type": "integer"
        },
        {
         "name": "ERR1631370",
         "rawType": "int64",
         "type": "integer"
        },
        {
         "name": "ERR1631371",
         "rawType": "int64",
         "type": "integer"
        },
        {
         "name": "ERR1631373",
         "rawType": "int64",
         "type": "integer"
        },
        {
         "name": "ERR1631374",
         "rawType": "int64",
         "type": "integer"
        },
        {
         "name": "ERR1631375",
         "rawType": "int64",
         "type": "integer"
        },
        {
         "name": "ERR1631376",
         "rawType": "int64",
         "type": "integer"
        },
        {
         "name": "ERR1631378",
         "rawType": "int64",
         "type": "integer"
        },
        {
         "name": "ERR1631380",
         "rawType": "int64",
         "type": "integer"
        },
        {
         "name": "ERR1631381",
         "rawType": "int64",
         "type": "integer"
        },
        {
         "name": "ERR1631382",
         "rawType": "int64",
         "type": "integer"
        },
        {
         "name": "ERR1631383",
         "rawType": "int64",
         "type": "integer"
        },
        {
         "name": "ERR1631384",
         "rawType": "int64",
         "type": "integer"
        },
        {
         "name": "ERR1631386",
         "rawType": "int64",
         "type": "integer"
        },
        {
         "name": "ERR1631387",
         "rawType": "int64",
         "type": "integer"
        },
        {
         "name": "ERR1631388",
         "rawType": "int64",
         "type": "integer"
        },
        {
         "name": "ERR1631389",
         "rawType": "int64",
         "type": "integer"
        },
        {
         "name": "ERR1631390",
         "rawType": "int64",
         "type": "integer"
        },
        {
         "name": "ERR1631391",
         "rawType": "int64",
         "type": "integer"
        },
        {
         "name": "ERR1631393",
         "rawType": "int64",
         "type": "integer"
        },
        {
         "name": "ERR1631394",
         "rawType": "int64",
         "type": "integer"
        },
        {
         "name": "ERR1631395",
         "rawType": "int64",
         "type": "integer"
        },
        {
         "name": "ERR1631399",
         "rawType": "int64",
         "type": "integer"
        },
        {
         "name": "ERR1631400",
         "rawType": "int64",
         "type": "integer"
        },
        {
         "name": "ERR1631401",
         "rawType": "int64",
         "type": "integer"
        },
        {
         "name": "ERR1631402",
         "rawType": "int64",
         "type": "integer"
        },
        {
         "name": "ERR1631404",
         "rawType": "int64",
         "type": "integer"
        },
        {
         "name": "ERR1631405",
         "rawType": "int64",
         "type": "integer"
        },
        {
         "name": "ERR1631406",
         "rawType": "int64",
         "type": "integer"
        },
        {
         "name": "ERR1631409",
         "rawType": "int64",
         "type": "integer"
        },
        {
         "name": "ERR1631410",
         "rawType": "int64",
         "type": "integer"
        },
        {
         "name": "ERR1631412",
         "rawType": "int64",
         "type": "integer"
        },
        {
         "name": "ERR1631413",
         "rawType": "int64",
         "type": "integer"
        },
        {
         "name": "ERR1631415",
         "rawType": "int64",
         "type": "integer"
        },
        {
         "name": "ERR1631416",
         "rawType": "int64",
         "type": "integer"
        },
        {
         "name": "ERR1631418",
         "rawType": "int64",
         "type": "integer"
        },
        {
         "name": "ERR1631419",
         "rawType": "int64",
         "type": "integer"
        },
        {
         "name": "ERR1631420",
         "rawType": "int64",
         "type": "integer"
        },
        {
         "name": "ERR1631421",
         "rawType": "int64",
         "type": "integer"
        },
        {
         "name": "ERR1631422",
         "rawType": "int64",
         "type": "integer"
        },
        {
         "name": "ERR1631423",
         "rawType": "int64",
         "type": "integer"
        },
        {
         "name": "ERR1631424",
         "rawType": "int64",
         "type": "integer"
        },
        {
         "name": "ERR1631425",
         "rawType": "int64",
         "type": "integer"
        },
        {
         "name": "ERR1631427",
         "rawType": "int64",
         "type": "integer"
        },
        {
         "name": "ERR1631428",
         "rawType": "int64",
         "type": "integer"
        },
        {
         "name": "ERR1631430",
         "rawType": "int64",
         "type": "integer"
        },
        {
         "name": "ERR1631432",
         "rawType": "int64",
         "type": "integer"
        },
        {
         "name": "ERR1631434",
         "rawType": "int64",
         "type": "integer"
        },
        {
         "name": "ERR1631435",
         "rawType": "int64",
         "type": "integer"
        },
        {
         "name": "ERR1631437",
         "rawType": "int64",
         "type": "integer"
        },
        {
         "name": "ERR1631439",
         "rawType": "int64",
         "type": "integer"
        },
        {
         "name": "ERR1631441",
         "rawType": "int64",
         "type": "integer"
        },
        {
         "name": "ERR1631445",
         "rawType": "int64",
         "type": "integer"
        },
        {
         "name": "ERR1631448",
         "rawType": "int64",
         "type": "integer"
        },
        {
         "name": "ERR1631449",
         "rawType": "int64",
         "type": "integer"
        },
        {
         "name": "ERR1631450",
         "rawType": "int64",
         "type": "integer"
        },
        {
         "name": "ERR1631451",
         "rawType": "int64",
         "type": "integer"
        },
        {
         "name": "ERR1631453",
         "rawType": "int64",
         "type": "integer"
        },
        {
         "name": "ERR1631454",
         "rawType": "int64",
         "type": "integer"
        },
        {
         "name": "ERR1631455",
         "rawType": "int64",
         "type": "integer"
        },
        {
         "name": "ERR1631456",
         "rawType": "int64",
         "type": "integer"
        },
        {
         "name": "ERR1631457",
         "rawType": "int64",
         "type": "integer"
        },
        {
         "name": "ERR1631458",
         "rawType": "int64",
         "type": "integer"
        },
        {
         "name": "ERR1631459",
         "rawType": "int64",
         "type": "integer"
        },
        {
         "name": "ERR1631460",
         "rawType": "int64",
         "type": "integer"
        },
        {
         "name": "ERR1631461",
         "rawType": "int64",
         "type": "integer"
        },
        {
         "name": "ERR1631462",
         "rawType": "int64",
         "type": "integer"
        },
        {
         "name": "ERR1631463",
         "rawType": "int64",
         "type": "integer"
        },
        {
         "name": "ERR1631464",
         "rawType": "int64",
         "type": "integer"
        },
        {
         "name": "ERR1631465",
         "rawType": "int64",
         "type": "integer"
        },
        {
         "name": "ERR1631466",
         "rawType": "int64",
         "type": "integer"
        },
        {
         "name": "ERR1631467",
         "rawType": "int64",
         "type": "integer"
        },
        {
         "name": "ERR1631470",
         "rawType": "int64",
         "type": "integer"
        },
        {
         "name": "ERR1631472",
         "rawType": "int64",
         "type": "integer"
        },
        {
         "name": "ERR1631473",
         "rawType": "int64",
         "type": "integer"
        },
        {
         "name": "ERR1631474",
         "rawType": "int64",
         "type": "integer"
        },
        {
         "name": "ERR1631475",
         "rawType": "int64",
         "type": "integer"
        },
        {
         "name": "ERR1631476",
         "rawType": "int64",
         "type": "integer"
        },
        {
         "name": "ERR1631477",
         "rawType": "int64",
         "type": "integer"
        },
        {
         "name": "ERR1631478",
         "rawType": "int64",
         "type": "integer"
        },
        {
         "name": "ERR1631480",
         "rawType": "int64",
         "type": "integer"
        },
        {
         "name": "ERR1631481",
         "rawType": "int64",
         "type": "integer"
        },
        {
         "name": "ERR1631482",
         "rawType": "int64",
         "type": "integer"
        },
        {
         "name": "ERR1631485",
         "rawType": "int64",
         "type": "integer"
        },
        {
         "name": "ERR1631487",
         "rawType": "int64",
         "type": "integer"
        },
        {
         "name": "ERR1631491",
         "rawType": "int64",
         "type": "integer"
        },
        {
         "name": "ERR1631492",
         "rawType": "int64",
         "type": "integer"
        },
        {
         "name": "ERR1631493",
         "rawType": "int64",
         "type": "integer"
        },
        {
         "name": "ERR1631495",
         "rawType": "int64",
         "type": "integer"
        },
        {
         "name": "ERR1631496",
         "rawType": "int64",
         "type": "integer"
        },
        {
         "name": "ERR1631499",
         "rawType": "int64",
         "type": "integer"
        },
        {
         "name": "ERR1631500",
         "rawType": "int64",
         "type": "integer"
        },
        {
         "name": "ERR1631501",
         "rawType": "int64",
         "type": "integer"
        },
        {
         "name": "ERR1631502",
         "rawType": "int64",
         "type": "integer"
        },
        {
         "name": "ERR1631503",
         "rawType": "int64",
         "type": "integer"
        },
        {
         "name": "ERR1631504",
         "rawType": "int64",
         "type": "integer"
        },
        {
         "name": "ERR1631505",
         "rawType": "int64",
         "type": "integer"
        },
        {
         "name": "ERR1631506",
         "rawType": "int64",
         "type": "integer"
        },
        {
         "name": "ERR1631508",
         "rawType": "int64",
         "type": "integer"
        },
        {
         "name": "ERR1631509",
         "rawType": "int64",
         "type": "integer"
        },
        {
         "name": "ERR1631510",
         "rawType": "int64",
         "type": "integer"
        },
        {
         "name": "ERR1631512",
         "rawType": "int64",
         "type": "integer"
        },
        {
         "name": "ERR1631514",
         "rawType": "int64",
         "type": "integer"
        },
        {
         "name": "ERR1631515",
         "rawType": "int64",
         "type": "integer"
        },
        {
         "name": "ERR1631517",
         "rawType": "int64",
         "type": "integer"
        },
        {
         "name": "ERR1631518",
         "rawType": "int64",
         "type": "integer"
        },
        {
         "name": "ERR1631522",
         "rawType": "int64",
         "type": "integer"
        },
        {
         "name": "ERR1631523",
         "rawType": "int64",
         "type": "integer"
        },
        {
         "name": "ERR1631524",
         "rawType": "int64",
         "type": "integer"
        },
        {
         "name": "ERR1631525",
         "rawType": "int64",
         "type": "integer"
        },
        {
         "name": "ERR1631528",
         "rawType": "int64",
         "type": "integer"
        },
        {
         "name": "ERR1631533",
         "rawType": "int64",
         "type": "integer"
        },
        {
         "name": "ERR1631535",
         "rawType": "int64",
         "type": "integer"
        },
        {
         "name": "ERR1631537",
         "rawType": "int64",
         "type": "integer"
        },
        {
         "name": "ERR1631539",
         "rawType": "int64",
         "type": "integer"
        },
        {
         "name": "ERR1631540",
         "rawType": "int64",
         "type": "integer"
        },
        {
         "name": "ERR1631541",
         "rawType": "int64",
         "type": "integer"
        },
        {
         "name": "ERR1631545",
         "rawType": "int64",
         "type": "integer"
        },
        {
         "name": "ERR1631546",
         "rawType": "int64",
         "type": "integer"
        },
        {
         "name": "ERR1631547",
         "rawType": "int64",
         "type": "integer"
        },
        {
         "name": "ERR1631549",
         "rawType": "int64",
         "type": "integer"
        },
        {
         "name": "ERR1631551",
         "rawType": "int64",
         "type": "integer"
        },
        {
         "name": "ERR1631553",
         "rawType": "int64",
         "type": "integer"
        },
        {
         "name": "ERR1631554",
         "rawType": "int64",
         "type": "integer"
        },
        {
         "name": "ERR1631555",
         "rawType": "int64",
         "type": "integer"
        },
        {
         "name": "ERR1631557",
         "rawType": "int64",
         "type": "integer"
        },
        {
         "name": "ERR1631558",
         "rawType": "int64",
         "type": "integer"
        },
        {
         "name": "ERR1631562",
         "rawType": "int64",
         "type": "integer"
        },
        {
         "name": "ERR1631564",
         "rawType": "int64",
         "type": "integer"
        },
        {
         "name": "ERR1631565",
         "rawType": "int64",
         "type": "integer"
        },
        {
         "name": "ERR1631566",
         "rawType": "int64",
         "type": "integer"
        },
        {
         "name": "ERR1631570",
         "rawType": "int64",
         "type": "integer"
        },
        {
         "name": "ERR1631572",
         "rawType": "int64",
         "type": "integer"
        },
        {
         "name": "ERR1631574",
         "rawType": "int64",
         "type": "integer"
        },
        {
         "name": "ERR1631576",
         "rawType": "int64",
         "type": "integer"
        },
        {
         "name": "ERR1631578",
         "rawType": "int64",
         "type": "integer"
        },
        {
         "name": "ERR1631579",
         "rawType": "int64",
         "type": "integer"
        },
        {
         "name": "ERR1631580",
         "rawType": "int64",
         "type": "integer"
        },
        {
         "name": "ERR1631581",
         "rawType": "int64",
         "type": "integer"
        },
        {
         "name": "ERR1631584",
         "rawType": "int64",
         "type": "integer"
        },
        {
         "name": "ERR1631585",
         "rawType": "int64",
         "type": "integer"
        },
        {
         "name": "ERR1631587",
         "rawType": "int64",
         "type": "integer"
        },
        {
         "name": "ERR1631588",
         "rawType": "int64",
         "type": "integer"
        },
        {
         "name": "ERR1631589",
         "rawType": "int64",
         "type": "integer"
        },
        {
         "name": "ERR1631590",
         "rawType": "int64",
         "type": "integer"
        },
        {
         "name": "ERR1631591",
         "rawType": "int64",
         "type": "integer"
        },
        {
         "name": "ERR1631594",
         "rawType": "int64",
         "type": "integer"
        },
        {
         "name": "ERR1631596",
         "rawType": "int64",
         "type": "integer"
        },
        {
         "name": "ERR1631598",
         "rawType": "int64",
         "type": "integer"
        },
        {
         "name": "ERR1631599",
         "rawType": "int64",
         "type": "integer"
        },
        {
         "name": "ERR1631600",
         "rawType": "int64",
         "type": "integer"
        },
        {
         "name": "ERR1631601",
         "rawType": "int64",
         "type": "integer"
        },
        {
         "name": "ERR1631603",
         "rawType": "int64",
         "type": "integer"
        },
        {
         "name": "ERR1631604",
         "rawType": "int64",
         "type": "integer"
        },
        {
         "name": "ERR1631605",
         "rawType": "int64",
         "type": "integer"
        },
        {
         "name": "ERR1631613",
         "rawType": "int64",
         "type": "integer"
        },
        {
         "name": "ERR1631615",
         "rawType": "int64",
         "type": "integer"
        },
        {
         "name": "ERR1631622",
         "rawType": "int64",
         "type": "integer"
        },
        {
         "name": "ERR1631624",
         "rawType": "int64",
         "type": "integer"
        },
        {
         "name": "ERR1631628",
         "rawType": "int64",
         "type": "integer"
        },
        {
         "name": "ERR1631629",
         "rawType": "int64",
         "type": "integer"
        },
        {
         "name": "ERR1631630",
         "rawType": "int64",
         "type": "integer"
        },
        {
         "name": "ERR1631634",
         "rawType": "int64",
         "type": "integer"
        },
        {
         "name": "ERR1631637",
         "rawType": "int64",
         "type": "integer"
        },
        {
         "name": "ERR1631638",
         "rawType": "int64",
         "type": "integer"
        },
        {
         "name": "ERR1631639",
         "rawType": "int64",
         "type": "integer"
        },
        {
         "name": "ERR1631640",
         "rawType": "int64",
         "type": "integer"
        },
        {
         "name": "ERR1631641",
         "rawType": "int64",
         "type": "integer"
        },
        {
         "name": "ERR1631643",
         "rawType": "int64",
         "type": "integer"
        },
        {
         "name": "ERR1631644",
         "rawType": "int64",
         "type": "integer"
        },
        {
         "name": "ERR1631646",
         "rawType": "int64",
         "type": "integer"
        },
        {
         "name": "ERR1631649",
         "rawType": "int64",
         "type": "integer"
        },
        {
         "name": "ERR1631650",
         "rawType": "int64",
         "type": "integer"
        },
        {
         "name": "ERR1631651",
         "rawType": "int64",
         "type": "integer"
        },
        {
         "name": "ERR1631652",
         "rawType": "int64",
         "type": "integer"
        },
        {
         "name": "ERR1631653",
         "rawType": "int64",
         "type": "integer"
        },
        {
         "name": "ERR1631654",
         "rawType": "int64",
         "type": "integer"
        },
        {
         "name": "ERR1631655",
         "rawType": "int64",
         "type": "integer"
        },
        {
         "name": "ERR1631659",
         "rawType": "int64",
         "type": "integer"
        },
        {
         "name": "ERR1631661",
         "rawType": "int64",
         "type": "integer"
        },
        {
         "name": "ERR1631663",
         "rawType": "int64",
         "type": "integer"
        },
        {
         "name": "ERR1631667",
         "rawType": "int64",
         "type": "integer"
        },
        {
         "name": "ERR1631669",
         "rawType": "int64",
         "type": "integer"
        },
        {
         "name": "ERR1631676",
         "rawType": "int64",
         "type": "integer"
        },
        {
         "name": "ERR1631677",
         "rawType": "int64",
         "type": "integer"
        },
        {
         "name": "ERR1631679",
         "rawType": "int64",
         "type": "integer"
        },
        {
         "name": "ERR1631680",
         "rawType": "int64",
         "type": "integer"
        },
        {
         "name": "ERR1631682",
         "rawType": "int64",
         "type": "integer"
        },
        {
         "name": "ERR1631683",
         "rawType": "int64",
         "type": "integer"
        },
        {
         "name": "ERR1631685",
         "rawType": "int64",
         "type": "integer"
        },
        {
         "name": "ERR1631687",
         "rawType": "int64",
         "type": "integer"
        },
        {
         "name": "ERR1631688",
         "rawType": "int64",
         "type": "integer"
        },
        {
         "name": "ERR1631690",
         "rawType": "int64",
         "type": "integer"
        },
        {
         "name": "ERR1631691",
         "rawType": "int64",
         "type": "integer"
        },
        {
         "name": "ERR1631693",
         "rawType": "int64",
         "type": "integer"
        },
        {
         "name": "ERR1631696",
         "rawType": "int64",
         "type": "integer"
        },
        {
         "name": "ERR1631697",
         "rawType": "int64",
         "type": "integer"
        },
        {
         "name": "ERR1631699",
         "rawType": "int64",
         "type": "integer"
        },
        {
         "name": "ERR1631701",
         "rawType": "int64",
         "type": "integer"
        },
        {
         "name": "ERR1631702",
         "rawType": "int64",
         "type": "integer"
        },
        {
         "name": "ERR1631704",
         "rawType": "int64",
         "type": "integer"
        },
        {
         "name": "ERR1631705",
         "rawType": "int64",
         "type": "integer"
        },
        {
         "name": "ERR1631707",
         "rawType": "int64",
         "type": "integer"
        },
        {
         "name": "ERR1631709",
         "rawType": "int64",
         "type": "integer"
        },
        {
         "name": "ERR1631711",
         "rawType": "int64",
         "type": "integer"
        },
        {
         "name": "ERR1631717",
         "rawType": "int64",
         "type": "integer"
        },
        {
         "name": "ERR1631718",
         "rawType": "int64",
         "type": "integer"
        },
        {
         "name": "ERR1631720",
         "rawType": "int64",
         "type": "integer"
        },
        {
         "name": "ERR1631722",
         "rawType": "int64",
         "type": "integer"
        },
        {
         "name": "ERR1631726",
         "rawType": "int64",
         "type": "integer"
        },
        {
         "name": "ERR1631727",
         "rawType": "int64",
         "type": "integer"
        },
        {
         "name": "ERR1631728",
         "rawType": "int64",
         "type": "integer"
        },
        {
         "name": "ERR1631729",
         "rawType": "int64",
         "type": "integer"
        },
        {
         "name": "ERR1631730",
         "rawType": "int64",
         "type": "integer"
        },
        {
         "name": "ERR1631731",
         "rawType": "int64",
         "type": "integer"
        },
        {
         "name": "ERR1631732",
         "rawType": "int64",
         "type": "integer"
        },
        {
         "name": "ERR1631733",
         "rawType": "int64",
         "type": "integer"
        },
        {
         "name": "ERR1631734",
         "rawType": "int64",
         "type": "integer"
        },
        {
         "name": "ERR1631735",
         "rawType": "int64",
         "type": "integer"
        },
        {
         "name": "ERR1631736",
         "rawType": "int64",
         "type": "integer"
        },
        {
         "name": "ERR1631737",
         "rawType": "int64",
         "type": "integer"
        },
        {
         "name": "ERR1631739",
         "rawType": "int64",
         "type": "integer"
        },
        {
         "name": "ERR1631740",
         "rawType": "int64",
         "type": "integer"
        },
        {
         "name": "ERR1631741",
         "rawType": "int64",
         "type": "integer"
        },
        {
         "name": "ERR1631742",
         "rawType": "int64",
         "type": "integer"
        },
        {
         "name": "ERR1631744",
         "rawType": "int64",
         "type": "integer"
        },
        {
         "name": "ERR1631745",
         "rawType": "int64",
         "type": "integer"
        },
        {
         "name": "ERR1631747",
         "rawType": "int64",
         "type": "integer"
        },
        {
         "name": "ERR1631748",
         "rawType": "int64",
         "type": "integer"
        },
        {
         "name": "ERR1631749",
         "rawType": "int64",
         "type": "integer"
        },
        {
         "name": "ERR1631751",
         "rawType": "int64",
         "type": "integer"
        },
        {
         "name": "ERR1631752",
         "rawType": "int64",
         "type": "integer"
        },
        {
         "name": "ERR1631755",
         "rawType": "int64",
         "type": "integer"
        },
        {
         "name": "ERR1631757",
         "rawType": "int64",
         "type": "integer"
        },
        {
         "name": "ERR1631758",
         "rawType": "int64",
         "type": "integer"
        },
        {
         "name": "ERR1631759",
         "rawType": "int64",
         "type": "integer"
        },
        {
         "name": "ERR1631760",
         "rawType": "int64",
         "type": "integer"
        },
        {
         "name": "ERR1631761",
         "rawType": "int64",
         "type": "integer"
        },
        {
         "name": "ERR1631763",
         "rawType": "int64",
         "type": "integer"
        },
        {
         "name": "ERR1631765",
         "rawType": "int64",
         "type": "integer"
        },
        {
         "name": "ERR1631768",
         "rawType": "int64",
         "type": "integer"
        },
        {
         "name": "ERR1631769",
         "rawType": "int64",
         "type": "integer"
        },
        {
         "name": "ERR1631774",
         "rawType": "int64",
         "type": "integer"
        },
        {
         "name": "ERR1631776",
         "rawType": "int64",
         "type": "integer"
        },
        {
         "name": "ERR1631778",
         "rawType": "int64",
         "type": "integer"
        },
        {
         "name": "ERR1631779",
         "rawType": "int64",
         "type": "integer"
        },
        {
         "name": "ERR1631780",
         "rawType": "int64",
         "type": "integer"
        },
        {
         "name": "ERR1631781",
         "rawType": "int64",
         "type": "integer"
        },
        {
         "name": "ERR1631783",
         "rawType": "int64",
         "type": "integer"
        },
        {
         "name": "ERR1631784",
         "rawType": "int64",
         "type": "integer"
        },
        {
         "name": "ERR1631785",
         "rawType": "int64",
         "type": "integer"
        },
        {
         "name": "ERR1631786",
         "rawType": "int64",
         "type": "integer"
        },
        {
         "name": "ERR1631792",
         "rawType": "int64",
         "type": "integer"
        },
        {
         "name": "ERR1631793",
         "rawType": "int64",
         "type": "integer"
        },
        {
         "name": "ERR1631795",
         "rawType": "int64",
         "type": "integer"
        },
        {
         "name": "ERR1631796",
         "rawType": "int64",
         "type": "integer"
        },
        {
         "name": "ERR1631797",
         "rawType": "int64",
         "type": "integer"
        },
        {
         "name": "ERR1631798",
         "rawType": "int64",
         "type": "integer"
        },
        {
         "name": "ERR1631799",
         "rawType": "int64",
         "type": "integer"
        },
        {
         "name": "ERR1631801",
         "rawType": "int64",
         "type": "integer"
        },
        {
         "name": "ERR1631804",
         "rawType": "int64",
         "type": "integer"
        },
        {
         "name": "ERR1631805",
         "rawType": "int64",
         "type": "integer"
        },
        {
         "name": "ERR1631806",
         "rawType": "int64",
         "type": "integer"
        },
        {
         "name": "ERR1631809",
         "rawType": "int64",
         "type": "integer"
        },
        {
         "name": "ERR1631810",
         "rawType": "int64",
         "type": "integer"
        },
        {
         "name": "ERR1631811",
         "rawType": "int64",
         "type": "integer"
        },
        {
         "name": "ERR1631812",
         "rawType": "int64",
         "type": "integer"
        },
        {
         "name": "ERR1631813",
         "rawType": "int64",
         "type": "integer"
        },
        {
         "name": "ERR1631814",
         "rawType": "int64",
         "type": "integer"
        },
        {
         "name": "ERR1631816",
         "rawType": "int64",
         "type": "integer"
        },
        {
         "name": "ERR1631820",
         "rawType": "int64",
         "type": "integer"
        },
        {
         "name": "ERR1631821",
         "rawType": "int64",
         "type": "integer"
        },
        {
         "name": "ERR1631822",
         "rawType": "int64",
         "type": "integer"
        },
        {
         "name": "ERR1631824",
         "rawType": "int64",
         "type": "integer"
        },
        {
         "name": "ERR1631826",
         "rawType": "int64",
         "type": "integer"
        },
        {
         "name": "ERR1631828",
         "rawType": "int64",
         "type": "integer"
        },
        {
         "name": "ERR1631829",
         "rawType": "int64",
         "type": "integer"
        },
        {
         "name": "ERR1631830",
         "rawType": "int64",
         "type": "integer"
        },
        {
         "name": "ERR1631832",
         "rawType": "int64",
         "type": "integer"
        },
        {
         "name": "ERR1631834",
         "rawType": "int64",
         "type": "integer"
        },
        {
         "name": "ERR1631835",
         "rawType": "int64",
         "type": "integer"
        },
        {
         "name": "ERR1631836",
         "rawType": "int64",
         "type": "integer"
        },
        {
         "name": "ERR1631837",
         "rawType": "int64",
         "type": "integer"
        },
        {
         "name": "ERR1631838",
         "rawType": "int64",
         "type": "integer"
        },
        {
         "name": "ERR1631839",
         "rawType": "int64",
         "type": "integer"
        },
        {
         "name": "ERR1631840",
         "rawType": "int64",
         "type": "integer"
        },
        {
         "name": "ERR1631841",
         "rawType": "int64",
         "type": "integer"
        },
        {
         "name": "ERR1631842",
         "rawType": "int64",
         "type": "integer"
        },
        {
         "name": "ERR1631843",
         "rawType": "int64",
         "type": "integer"
        },
        {
         "name": "ERR1631845",
         "rawType": "int64",
         "type": "integer"
        },
        {
         "name": "ERR1631847",
         "rawType": "int64",
         "type": "integer"
        },
        {
         "name": "ERR1631848",
         "rawType": "int64",
         "type": "integer"
        },
        {
         "name": "ERR1631854",
         "rawType": "int64",
         "type": "integer"
        },
        {
         "name": "ERR1631856",
         "rawType": "int64",
         "type": "integer"
        },
        {
         "name": "ERR1631857",
         "rawType": "int64",
         "type": "integer"
        },
        {
         "name": "ERR1631862",
         "rawType": "int64",
         "type": "integer"
        },
        {
         "name": "ERR1631865",
         "rawType": "int64",
         "type": "integer"
        },
        {
         "name": "ERR1631867",
         "rawType": "int64",
         "type": "integer"
        },
        {
         "name": "ERR1631868",
         "rawType": "int64",
         "type": "integer"
        },
        {
         "name": "ERR1631872",
         "rawType": "int64",
         "type": "integer"
        },
        {
         "name": "ERR1631874",
         "rawType": "int64",
         "type": "integer"
        },
        {
         "name": "ERR1631876",
         "rawType": "int64",
         "type": "integer"
        },
        {
         "name": "ERR1631879",
         "rawType": "int64",
         "type": "integer"
        },
        {
         "name": "ERR1631881",
         "rawType": "int64",
         "type": "integer"
        },
        {
         "name": "ERR1631882",
         "rawType": "int64",
         "type": "integer"
        },
        {
         "name": "ERR1631883",
         "rawType": "int64",
         "type": "integer"
        },
        {
         "name": "ERR1631884",
         "rawType": "int64",
         "type": "integer"
        },
        {
         "name": "ERR1631885",
         "rawType": "int64",
         "type": "integer"
        },
        {
         "name": "ERR1631887",
         "rawType": "int64",
         "type": "integer"
        },
        {
         "name": "ERR1631888",
         "rawType": "int64",
         "type": "integer"
        },
        {
         "name": "ERR1631889",
         "rawType": "int64",
         "type": "integer"
        },
        {
         "name": "ERR1631890",
         "rawType": "int64",
         "type": "integer"
        },
        {
         "name": "ERR1631891",
         "rawType": "int64",
         "type": "integer"
        },
        {
         "name": "ERR1631892",
         "rawType": "int64",
         "type": "integer"
        },
        {
         "name": "ERR1631893",
         "rawType": "int64",
         "type": "integer"
        },
        {
         "name": "ERR1631895",
         "rawType": "int64",
         "type": "integer"
        },
        {
         "name": "ERR1631901",
         "rawType": "int64",
         "type": "integer"
        },
        {
         "name": "ERR1631907",
         "rawType": "int64",
         "type": "integer"
        },
        {
         "name": "ERR1631909",
         "rawType": "int64",
         "type": "integer"
        },
        {
         "name": "ERR1631912",
         "rawType": "int64",
         "type": "integer"
        },
        {
         "name": "ERR1631916",
         "rawType": "int64",
         "type": "integer"
        },
        {
         "name": "ERR1631920",
         "rawType": "int64",
         "type": "integer"
        },
        {
         "name": "ERR1631922",
         "rawType": "int64",
         "type": "integer"
        },
        {
         "name": "ERR1631926",
         "rawType": "int64",
         "type": "integer"
        },
        {
         "name": "ERR1631929",
         "rawType": "int64",
         "type": "integer"
        },
        {
         "name": "ERR1631932",
         "rawType": "int64",
         "type": "integer"
        },
        {
         "name": "ERR1631935",
         "rawType": "int64",
         "type": "integer"
        },
        {
         "name": "ERR1631940",
         "rawType": "int64",
         "type": "integer"
        },
        {
         "name": "ERR1631941",
         "rawType": "int64",
         "type": "integer"
        },
        {
         "name": "ERR1631942",
         "rawType": "int64",
         "type": "integer"
        },
        {
         "name": "ERR1631944",
         "rawType": "int64",
         "type": "integer"
        },
        {
         "name": "ERR1631945",
         "rawType": "int64",
         "type": "integer"
        },
        {
         "name": "ERR1631946",
         "rawType": "int64",
         "type": "integer"
        },
        {
         "name": "ERR1631948",
         "rawType": "int64",
         "type": "integer"
        },
        {
         "name": "ERR1631949",
         "rawType": "int64",
         "type": "integer"
        },
        {
         "name": "ERR1631950",
         "rawType": "int64",
         "type": "integer"
        },
        {
         "name": "ERR1631951",
         "rawType": "int64",
         "type": "integer"
        },
        {
         "name": "ERR1631953",
         "rawType": "int64",
         "type": "integer"
        },
        {
         "name": "ERR1631956",
         "rawType": "int64",
         "type": "integer"
        },
        {
         "name": "ERR1631958",
         "rawType": "int64",
         "type": "integer"
        },
        {
         "name": "ERR1631960",
         "rawType": "int64",
         "type": "integer"
        },
        {
         "name": "ERR1631961",
         "rawType": "int64",
         "type": "integer"
        },
        {
         "name": "ERR1631963",
         "rawType": "int64",
         "type": "integer"
        },
        {
         "name": "ERR1631965",
         "rawType": "int64",
         "type": "integer"
        },
        {
         "name": "ERR1631968",
         "rawType": "int64",
         "type": "integer"
        },
        {
         "name": "ERR1631970",
         "rawType": "int64",
         "type": "integer"
        },
        {
         "name": "ERR1631971",
         "rawType": "int64",
         "type": "integer"
        },
        {
         "name": "ERR1631972",
         "rawType": "int64",
         "type": "integer"
        },
        {
         "name": "ERR1631973",
         "rawType": "int64",
         "type": "integer"
        },
        {
         "name": "ERR1631980",
         "rawType": "int64",
         "type": "integer"
        },
        {
         "name": "ERR1631982",
         "rawType": "int64",
         "type": "integer"
        },
        {
         "name": "ERR1631984",
         "rawType": "int64",
         "type": "integer"
        },
        {
         "name": "ERR1631986",
         "rawType": "int64",
         "type": "integer"
        },
        {
         "name": "ERR1631987",
         "rawType": "int64",
         "type": "integer"
        },
        {
         "name": "ERR1631988",
         "rawType": "int64",
         "type": "integer"
        },
        {
         "name": "ERR1631991",
         "rawType": "int64",
         "type": "integer"
        },
        {
         "name": "ERR1632393",
         "rawType": "int64",
         "type": "integer"
        },
        {
         "name": "ERR1632397",
         "rawType": "int64",
         "type": "integer"
        },
        {
         "name": "ERR1632398",
         "rawType": "int64",
         "type": "integer"
        },
        {
         "name": "ERR1632401",
         "rawType": "int64",
         "type": "integer"
        },
        {
         "name": "ERR1632404",
         "rawType": "int64",
         "type": "integer"
        },
        {
         "name": "ERR1632407",
         "rawType": "int64",
         "type": "integer"
        },
        {
         "name": "ERR1632408",
         "rawType": "int64",
         "type": "integer"
        },
        {
         "name": "ERR1632410",
         "rawType": "int64",
         "type": "integer"
        },
        {
         "name": "ERR1632412",
         "rawType": "int64",
         "type": "integer"
        },
        {
         "name": "ERR1632415",
         "rawType": "int64",
         "type": "integer"
        },
        {
         "name": "ERR1632424",
         "rawType": "int64",
         "type": "integer"
        },
        {
         "name": "ERR1632437",
         "rawType": "int64",
         "type": "integer"
        },
        {
         "name": "ERR1632438",
         "rawType": "int64",
         "type": "integer"
        },
        {
         "name": "ERR1632439",
         "rawType": "int64",
         "type": "integer"
        },
        {
         "name": "ERR1632456",
         "rawType": "int64",
         "type": "integer"
        },
        {
         "name": "ERR1632457",
         "rawType": "int64",
         "type": "integer"
        },
        {
         "name": "ERR1632458",
         "rawType": "int64",
         "type": "integer"
        },
        {
         "name": "ERR1632462",
         "rawType": "int64",
         "type": "integer"
        },
        {
         "name": "ERR1632463",
         "rawType": "int64",
         "type": "integer"
        },
        {
         "name": "ERR1632467",
         "rawType": "int64",
         "type": "integer"
        },
        {
         "name": "ERR1632470",
         "rawType": "int64",
         "type": "integer"
        },
        {
         "name": "ERR1632482",
         "rawType": "int64",
         "type": "integer"
        },
        {
         "name": "ERR1632486",
         "rawType": "int64",
         "type": "integer"
        },
        {
         "name": "ERR1632489",
         "rawType": "int64",
         "type": "integer"
        },
        {
         "name": "ERR1632490",
         "rawType": "int64",
         "type": "integer"
        },
        {
         "name": "ERR1632505",
         "rawType": "int64",
         "type": "integer"
        },
        {
         "name": "ERR1632506",
         "rawType": "int64",
         "type": "integer"
        },
        {
         "name": "ERR1632509",
         "rawType": "int64",
         "type": "integer"
        },
        {
         "name": "ERR1632510",
         "rawType": "int64",
         "type": "integer"
        },
        {
         "name": "ERR1632511",
         "rawType": "int64",
         "type": "integer"
        },
        {
         "name": "ERR1632514",
         "rawType": "int64",
         "type": "integer"
        },
        {
         "name": "ERR1632517",
         "rawType": "int64",
         "type": "integer"
        },
        {
         "name": "ERR1632527",
         "rawType": "int64",
         "type": "integer"
        },
        {
         "name": "ERR1632529",
         "rawType": "int64",
         "type": "integer"
        },
        {
         "name": "ERR1632530",
         "rawType": "int64",
         "type": "integer"
        },
        {
         "name": "ERR1632543",
         "rawType": "int64",
         "type": "integer"
        },
        {
         "name": "ERR1632544",
         "rawType": "int64",
         "type": "integer"
        },
        {
         "name": "ERR1632548",
         "rawType": "int64",
         "type": "integer"
        },
        {
         "name": "ERR1632556",
         "rawType": "int64",
         "type": "integer"
        },
        {
         "name": "ERR1632557",
         "rawType": "int64",
         "type": "integer"
        },
        {
         "name": "ERR1632558",
         "rawType": "int64",
         "type": "integer"
        },
        {
         "name": "ERR1632559",
         "rawType": "int64",
         "type": "integer"
        },
        {
         "name": "ERR1632565",
         "rawType": "int64",
         "type": "integer"
        },
        {
         "name": "ERR1632569",
         "rawType": "int64",
         "type": "integer"
        },
        {
         "name": "ERR1632571",
         "rawType": "int64",
         "type": "integer"
        },
        {
         "name": "ERR1632576",
         "rawType": "int64",
         "type": "integer"
        },
        {
         "name": "ERR1632581",
         "rawType": "int64",
         "type": "integer"
        },
        {
         "name": "ERR1632583",
         "rawType": "int64",
         "type": "integer"
        },
        {
         "name": "ERR1632587",
         "rawType": "int64",
         "type": "integer"
        },
        {
         "name": "ERR1632595",
         "rawType": "int64",
         "type": "integer"
        },
        {
         "name": "ERR1632598",
         "rawType": "int64",
         "type": "integer"
        },
        {
         "name": "ERR1632599",
         "rawType": "int64",
         "type": "integer"
        },
        {
         "name": "ERR1632602",
         "rawType": "int64",
         "type": "integer"
        },
        {
         "name": "ERR1632604",
         "rawType": "int64",
         "type": "integer"
        },
        {
         "name": "ERR1632606",
         "rawType": "int64",
         "type": "integer"
        },
        {
         "name": "ERR1632607",
         "rawType": "int64",
         "type": "integer"
        },
        {
         "name": "ERR1632610",
         "rawType": "int64",
         "type": "integer"
        },
        {
         "name": "ERR1632614",
         "rawType": "int64",
         "type": "integer"
        },
        {
         "name": "ERR1632615",
         "rawType": "int64",
         "type": "integer"
        },
        {
         "name": "ERR1632617",
         "rawType": "int64",
         "type": "integer"
        },
        {
         "name": "ERR1632622",
         "rawType": "int64",
         "type": "integer"
        },
        {
         "name": "ERR1632626",
         "rawType": "int64",
         "type": "integer"
        },
        {
         "name": "ERR1632630",
         "rawType": "int64",
         "type": "integer"
        },
        {
         "name": "ERR1632639",
         "rawType": "int64",
         "type": "integer"
        },
        {
         "name": "ERR1632642",
         "rawType": "int64",
         "type": "integer"
        },
        {
         "name": "ERR1632644",
         "rawType": "int64",
         "type": "integer"
        },
        {
         "name": "ERR1632645",
         "rawType": "int64",
         "type": "integer"
        },
        {
         "name": "ERR1632647",
         "rawType": "int64",
         "type": "integer"
        },
        {
         "name": "ERR1632648",
         "rawType": "int64",
         "type": "integer"
        },
        {
         "name": "ERR1632649",
         "rawType": "int64",
         "type": "integer"
        },
        {
         "name": "ERR1632650",
         "rawType": "int64",
         "type": "integer"
        },
        {
         "name": "ERR1632655",
         "rawType": "int64",
         "type": "integer"
        },
        {
         "name": "ERR1632662",
         "rawType": "int64",
         "type": "integer"
        },
        {
         "name": "ERR1632665",
         "rawType": "int64",
         "type": "integer"
        },
        {
         "name": "ERR1632667",
         "rawType": "int64",
         "type": "integer"
        },
        {
         "name": "ERR1632696",
         "rawType": "int64",
         "type": "integer"
        },
        {
         "name": "ERR1632697",
         "rawType": "int64",
         "type": "integer"
        },
        {
         "name": "ERR1632700",
         "rawType": "int64",
         "type": "integer"
        },
        {
         "name": "ERR1632703",
         "rawType": "int64",
         "type": "integer"
        },
        {
         "name": "ERR1632711",
         "rawType": "int64",
         "type": "integer"
        },
        {
         "name": "ERR1632712",
         "rawType": "int64",
         "type": "integer"
        },
        {
         "name": "ERR1632716",
         "rawType": "int64",
         "type": "integer"
        },
        {
         "name": "ERR1632717",
         "rawType": "int64",
         "type": "integer"
        },
        {
         "name": "ERR1632719",
         "rawType": "int64",
         "type": "integer"
        },
        {
         "name": "ERR1632721",
         "rawType": "int64",
         "type": "integer"
        },
        {
         "name": "ERR1632730",
         "rawType": "int64",
         "type": "integer"
        },
        {
         "name": "ERR1632733",
         "rawType": "int64",
         "type": "integer"
        },
        {
         "name": "ERR1632735",
         "rawType": "int64",
         "type": "integer"
        },
        {
         "name": "ERR1632736",
         "rawType": "int64",
         "type": "integer"
        },
        {
         "name": "ERR1632739",
         "rawType": "int64",
         "type": "integer"
        },
        {
         "name": "ERR1632743",
         "rawType": "int64",
         "type": "integer"
        },
        {
         "name": "ERR1632744",
         "rawType": "int64",
         "type": "integer"
        },
        {
         "name": "ERR1632747",
         "rawType": "int64",
         "type": "integer"
        },
        {
         "name": "ERR1632750",
         "rawType": "int64",
         "type": "integer"
        },
        {
         "name": "ERR1632753",
         "rawType": "int64",
         "type": "integer"
        },
        {
         "name": "ERR1632756",
         "rawType": "int64",
         "type": "integer"
        },
        {
         "name": "ERR1632757",
         "rawType": "int64",
         "type": "integer"
        },
        {
         "name": "ERR1632758",
         "rawType": "int64",
         "type": "integer"
        }
       ],
       "conversionMethod": "pd.DataFrame",
       "ref": "029c3cfa-4d5b-4466-ace6-59bc7d592fd3",
       "rows": [
        [
         "TSPAN6",
         "105",
         "0",
         "0",
         "0",
         "0",
         "72",
         "145",
         "0",
         "0",
         "0",
         "0",
         "0",
         "0",
         "0",
         "0",
         "0",
         "5",
         "0",
         "0",
         "0",
         "0",
         "0",
         "230",
         "0",
         "0",
         "168",
         "0",
         "35",
         "0",
         "0",
         "0",
         "0",
         "0",
         "0",
         "80",
         "0",
         "0",
         "0",
         "0",
         "89",
         "0",
         "0",
         "0",
         "0",
         "0",
         "0",
         "0",
         "0",
         "0",
         "0",
         "0",
         "0",
         "103",
         "0",
         "0",
         "0",
         "0",
         "0",
         "0",
         "0",
         "0",
         "147",
         "0",
         "84",
         "0",
         "0",
         "0",
         "0",
         "202",
         "0",
         "0",
         "0",
         "0",
         "39",
         "67",
         "0",
         "0",
         "0",
         "0",
         "2",
         "1",
         "159",
         "0",
         "0",
         "0",
         "16",
         "0",
         "0",
         "0",
         "0",
         "55",
         "0",
         "0",
         "0",
         "0",
         "0",
         "0",
         "0",
         "0",
         "0",
         "84",
         "0",
         "0",
         "0",
         "0",
         "0",
         "0",
         "0",
         "0",
         "0",
         "0",
         "98",
         "0",
         "309",
         "0",
         "2",
         "0",
         "0",
         "367",
         "131",
         "1",
         "1",
         "0",
         "76",
         "0",
         "828",
         "0",
         "0",
         "0",
         "0",
         "0",
         "0",
         "0",
         "0",
         "0",
         "0",
         "0",
         "177",
         "132",
         "0",
         "0",
         "0",
         "25",
         "116",
         "0",
         "0",
         "0",
         "0",
         "0",
         "0",
         "7",
         "1",
         "0",
         "0",
         "2",
         "0",
         "0",
         "0",
         "0",
         "0",
         "0",
         "1",
         "0",
         "0",
         "0",
         "0",
         "0",
         "1",
         "378",
         "1",
         "0",
         "0",
         "0",
         "0",
         "0",
         "0",
         "0",
         "0",
         "0",
         "0",
         "0",
         "0",
         "0",
         "0",
         "0",
         "224",
         "0",
         "94",
         "0",
         "1",
         "0",
         "0",
         "0",
         "0",
         "1",
         "110",
         "0",
         "45",
         "0",
         "0",
         "0",
         "0",
         "396",
         "119",
         "0",
         "46",
         "0",
         "29",
         "0",
         "0",
         "0",
         "0",
         "0",
         "188",
         "1",
         "0",
         "747",
         "0",
         "181",
         "210",
         "165",
         "442",
         "0",
         "0",
         "1",
         "0",
         "1091",
         "341",
         "0",
         "0",
         "0",
         "6",
         "142",
         "0",
         "7",
         "0",
         "0",
         "0",
         "0",
         "0",
         "0",
         "0",
         "1",
         "0",
         "0",
         "0",
         "0",
         "0",
         "0",
         "0",
         "117",
         "0",
         "0",
         "0",
         "0",
         "0",
         "0",
         "0",
         "0",
         "0",
         "0",
         "0",
         "159",
         "0",
         "0",
         "0",
         "0",
         "10",
         "0",
         "0",
         "407",
         "257",
         "0",
         "0",
         "0",
         "0",
         "0",
         "82",
         "0",
         "94",
         "0",
         "1",
         "1",
         "0",
         "281",
         "0",
         "327",
         "0",
         "150",
         "42",
         "1",
         "146",
         "124",
         "0",
         "468",
         "0",
         "134",
         "129",
         "94",
         "168",
         "325",
         "50",
         "94",
         "0",
         "0",
         "0",
         "46",
         "1",
         "0",
         "0",
         "0",
         "150",
         "49",
         "120",
         "0",
         "147",
         "0",
         "0",
         "0",
         "0",
         "0",
         "0",
         "0",
         "0",
         "0",
         "0",
         "2",
         "0",
         "0",
         "0",
         "0",
         "0",
         "0",
         "0",
         "0",
         "0",
         "0",
         "0",
         "0",
         "115",
         "0",
         "0",
         "13",
         "469",
         "0",
         "0",
         "0",
         "0",
         "0",
         "0",
         "0",
         "1",
         "0",
         "0",
         "0",
         "36",
         "0",
         "78",
         "0",
         "429",
         "0",
         "0",
         "0",
         "0",
         "0",
         "0",
         "0",
         "0",
         "25",
         "259",
         "0",
         "0",
         "0",
         "0",
         "0",
         "0",
         "0",
         "0",
         "0",
         "38",
         "0",
         "0",
         "1",
         "0",
         "1",
         "0",
         "2",
         "0",
         "0",
         "652",
         "0",
         "0",
         "0",
         "117",
         "0",
         "0",
         "0",
         "0",
         "354",
         "0",
         "0",
         "0",
         "5",
         "133",
         "0",
         "0",
         "133",
         "0",
         "0",
         "0",
         "0",
         "0",
         "20",
         "795",
         "0",
         "0",
         "249",
         "0",
         "0",
         "0",
         "0",
         "167",
         "0",
         "0",
         "0",
         "0",
         "0",
         "1",
         "0",
         "0",
         "0",
         "115",
         "0",
         "0",
         "0",
         "78",
         "0",
         "527",
         "0",
         "0",
         "150",
         "0",
         "0",
         "0",
         "1",
         "0",
         "588",
         "0",
         "425",
         "549",
         "0",
         "2",
         "0",
         "0",
         "1",
         "0",
         "0",
         "136",
         "0",
         "0",
         "0",
         "73",
         "1",
         "0",
         "0",
         "0",
         "0",
         "0",
         "0",
         "183",
         "0",
         "26",
         "0",
         "0",
         "0",
         "0",
         "0",
         "0",
         "0",
         "0",
         "0",
         "268",
         "0",
         "61",
         "0",
         "2",
         "1",
         "119",
         "2",
         "178",
         "0",
         "0",
         "0",
         "0",
         "0",
         "0",
         "0",
         "0",
         "0",
         "0",
         "0",
         "0",
         "0",
         "0",
         "16",
         "0",
         "0",
         "0",
         "0",
         "19",
         "0",
         "0",
         "342",
         "0",
         "0",
         "0",
         "0",
         "0",
         "26",
         "0",
         "0",
         "0",
         "159",
         "0",
         "124",
         "1",
         "0",
         "0",
         "0",
         "0",
         "0",
         "0",
         "81",
         "0",
         "0",
         "0",
         "1",
         "0",
         "0",
         "103",
         "0",
         "0",
         "0",
         "0",
         "84",
         "266",
         "14",
         "0",
         "3",
         "0",
         "0",
         "0",
         "1",
         "6",
         "43",
         "1",
         "11",
         "3",
         "7",
         "22",
         "1",
         "24",
         "0",
         "59",
         "5",
         "6",
         "99",
         "3",
         "16",
         "7",
         "53",
         "0",
         "0",
         "15",
         "9",
         "0",
         "4",
         "0",
         "19",
         "26",
         "12",
         "15",
         "13",
         "0",
         "38",
         "13",
         "0",
         "3",
         "57",
         "28",
         "11",
         "2",
         "59",
         "113",
         "24",
         "20",
         "6",
         "6",
         "27",
         "15",
         "0",
         "24",
         "10",
         "0",
         "261",
         "100",
         "0",
         "18",
         "45",
         "0",
         "23",
         "7",
         "70",
         "0",
         "6",
         "2",
         "11",
         "6",
         "0",
         "11",
         "11",
         "5",
         "3",
         "195",
         "1",
         "11",
         "24",
         "3",
         "0",
         "12",
         "0",
         "0",
         "4",
         "74",
         "8",
         "139",
         "4",
         "12",
         "4",
         "18",
         "48",
         "20",
         "0",
         "4",
         "0",
         "3",
         "0",
         "0",
         "31",
         "0",
         "7",
         "42",
         "0",
         "9",
         "0",
         "7",
         "8",
         "61",
         "7",
         "111",
         "24",
         "82",
         "54",
         "3",
         "10",
         "0",
         "0",
         "88",
         "15",
         "3",
         "60",
         "30",
         "1",
         "101",
         "0",
         "25",
         "27",
         "28",
         "6",
         "22",
         "0",
         "72",
         "5",
         "0",
         "0",
         "56",
         "125",
         "22",
         "15",
         "22",
         "11",
         "6",
         "6",
         "18",
         "10",
         "5",
         "53",
         "28",
         "0",
         "0",
         "18",
         "0",
         "55",
         "123",
         "0",
         "22",
         "45",
         "0",
         "0",
         "3",
         "37",
         "19",
         "69",
         "3",
         "3",
         "31",
         "1",
         "0",
         "7",
         "1",
         "0",
         "61",
         "28",
         "0",
         "15",
         "45",
         "6",
         "0",
         "6",
         "11",
         "0",
         "46",
         "0",
         "47",
         "2",
         "22",
         "8",
         "71",
         "11",
         "2",
         "18",
         "2",
         "96",
         "0",
         "1",
         "16",
         "1",
         "3",
         "0",
         "35",
         "34",
         "16",
         "22",
         "2",
         "7",
         "0",
         "0",
         "27",
         "15",
         "0",
         "23",
         "10",
         "0",
         "28",
         "0",
         "7",
         "204",
         "4",
         "3",
         "6",
         "18",
         "2",
         "2",
         "0",
         "0",
         "2",
         "9",
         "8",
         "0",
         "1",
         "185",
         "68",
         "0",
         "1",
         "0",
         "0",
         "0",
         "0",
         "0",
         "1",
         "0",
         "0",
         "2",
         "0",
         "0",
         "0",
         "0",
         "2",
         "6",
         "0",
         "0",
         "0",
         "0",
         "0",
         "0",
         "0",
         "0",
         "0",
         "0",
         "1",
         "10",
         "2",
         "0",
         "16",
         "0",
         "13",
         "17",
         "0",
         "0",
         "0",
         "0",
         "0",
         "0",
         "0",
         "2",
         "0",
         "0",
         "0",
         "0",
         "0",
         "0",
         "0",
         "3",
         "4",
         "1",
         "0",
         "6",
         "3",
         "3",
         "0",
         "0",
         "14",
         "0",
         "0",
         "3",
         "0",
         "9",
         "0",
         "2",
         "0",
         "1",
         "0",
         "0",
         "0",
         "0",
         "0",
         "0",
         "7",
         "0",
         "185",
         "0",
         "0",
         "0",
         "0",
         "0",
         "0",
         "6",
         "0",
         "0",
         "0",
         "4",
         "0",
         "2",
         "0",
         "10",
         "1",
         "0",
         "47",
         "0",
         "0",
         "6",
         "1",
         "0",
         "0",
         "0",
         "0",
         "11",
         "8",
         "0",
         "22",
         "2",
         "5",
         "17",
         "0",
         "36",
         "0",
         "0",
         "0",
         "8",
         "0",
         "1",
         "0",
         "14",
         "4",
         "0",
         "75",
         "0",
         "2",
         "0",
         "0",
         "0",
         "0",
         "0",
         "7",
         "0",
         "0",
         "0",
         "27",
         "12",
         "0",
         "0",
         "64",
         "2",
         "1",
         "0",
         "0",
         "0",
         "12",
         "1",
         "0",
         "0",
         "0",
         "0",
         "0",
         "0",
         "0",
         "0",
         "0",
         "0",
         "4",
         "0",
         "0",
         "5",
         "0",
         "0",
         "44",
         "0",
         "0",
         "5",
         "2",
         "0",
         "6",
         "0",
         "36",
         "21",
         "0",
         "0",
         "25",
         "0",
         "0",
         "0",
         "62",
         "0",
         "0",
         "8",
         "0",
         "0",
         "0",
         "2",
         "3",
         "0",
         "0",
         "58",
         "0",
         "0",
         "0",
         "0",
         "0",
         "0",
         "14",
         "0",
         "0",
         "0",
         "0",
         "1",
         "0",
         "3",
         "0",
         "0",
         "45",
         "12",
         "0",
         "11",
         "2",
         "2",
         "1",
         "0",
         "37",
         "0",
         "0",
         "0",
         "63",
         "0",
         "64",
         "1",
         "11",
         "0",
         "0",
         "0",
         "20",
         "0",
         "49",
         "143",
         "1",
         "10",
         "0",
         "0",
         "0",
         "0",
         "0",
         "0",
         "20",
         "1",
         "0",
         "2",
         "0",
         "0",
         "78",
         "19",
         "0",
         "6",
         "0",
         "0",
         "0",
         "0",
         "0",
         "4",
         "3",
         "9",
         "0",
         "0",
         "11",
         "8",
         "0",
         "5",
         "0",
         "0",
         "4",
         "5",
         "0",
         "2",
         "0",
         "9",
         "1",
         "0",
         "12",
         "0",
         "1",
         "0",
         "0",
         "5",
         "1",
         "0",
         "0",
         "0",
         "78",
         "0",
         "0",
         "0",
         "0",
         "0",
         "0",
         "4",
         "7",
         "0",
         "2",
         "1",
         "0",
         "0",
         "60",
         "40"
        ],
        [
         "TNMD",
         "0",
         "0",
         "0",
         "0",
         "0",
         "0",
         "0",
         "0",
         "0",
         "0",
         "0",
         "0",
         "0",
         "0",
         "0",
         "0",
         "0",
         "0",
         "0",
         "0",
         "0",
         "0",
         "0",
         "0",
         "0",
         "0",
         "0",
         "0",
         "0",
         "0",
         "0",
         "0",
         "0",
         "0",
         "0",
         "0",
         "0",
         "0",
         "0",
         "0",
         "0",
         "0",
         "0",
         "0",
         "0",
         "0",
         "0",
         "0",
         "0",
         "0",
         "0",
         "0",
         "0",
         "0",
         "0",
         "0",
         "0",
         "0",
         "0",
         "0",
         "0",
         "0",
         "0",
         "0",
         "0",
         "0",
         "0",
         "0",
         "0",
         "0",
         "0",
         "0",
         "0",
         "0",
         "0",
         "0",
         "0",
         "0",
         "0",
         "0",
         "0",
         "0",
         "0",
         "0",
         "0",
         "0",
         "0",
         "0",
         "0",
         "0",
         "0",
         "0",
         "0",
         "0",
         "0",
         "0",
         "0",
         "0",
         "0",
         "0",
         "0",
         "0",
         "0",
         "0",
         "0",
         "0",
         "0",
         "0",
         "0",
         "0",
         "0",
         "0",
         "0",
         "0",
         "0",
         "0",
         "0",
         "0",
         "0",
         "0",
         "0",
         "0",
         "0",
         "0",
         "0",
         "0",
         "0",
         "0",
         "0",
         "0",
         "0",
         "0",
         "0",
         "0",
         "0",
         "0",
         "0",
         "0",
         "0",
         "0",
         "0",
         "0",
         "0",
         "0",
         "0",
         "0",
         "0",
         "0",
         "0",
         "0",
         "0",
         "0",
         "0",
         "0",
         "0",
         "0",
         "0",
         "0",
         "0",
         "0",
         "0",
         "0",
         "0",
         "0",
         "0",
         "0",
         "0",
         "0",
         "0",
         "0",
         "0",
         "0",
         "0",
         "0",
         "0",
         "0",
         "0",
         "0",
         "0",
         "0",
         "0",
         "0",
         "0",
         "0",
         "0",
         "0",
         "0",
         "0",
         "0",
         "0",
         "0",
         "0",
         "0",
         "0",
         "0",
         "0",
         "0",
         "0",
         "0",
         "0",
         "0",
         "0",
         "0",
         "0",
         "0",
         "0",
         "0",
         "0",
         "0",
         "0",
         "0",
         "0",
         "0",
         "0",
         "0",
         "0",
         "0",
         "0",
         "0",
         "0",
         "0",
         "0",
         "0",
         "0",
         "0",
         "0",
         "0",
         "0",
         "0",
         "0",
         "0",
         "0",
         "0",
         "0",
         "0",
         "0",
         "0",
         "0",
         "0",
         "0",
         "0",
         "0",
         "0",
         "0",
         "0",
         "0",
         "0",
         "0",
         "0",
         "0",
         "0",
         "0",
         "0",
         "0",
         "0",
         "0",
         "0",
         "0",
         "0",
         "0",
         "0",
         "0",
         "0",
         "0",
         "0",
         "0",
         "0",
         "0",
         "0",
         "0",
         "0",
         "0",
         "0",
         "0",
         "0",
         "0",
         "0",
         "0",
         "0",
         "0",
         "0",
         "0",
         "0",
         "0",
         "0",
         "0",
         "0",
         "0",
         "0",
         "0",
         "0",
         "0",
         "0",
         "0",
         "0",
         "0",
         "0",
         "0",
         "0",
         "0",
         "0",
         "0",
         "0",
         "0",
         "0",
         "0",
         "0",
         "0",
         "0",
         "0",
         "0",
         "0",
         "0",
         "0",
         "0",
         "0",
         "0",
         "0",
         "0",
         "0",
         "0",
         "0",
         "0",
         "0",
         "0",
         "0",
         "0",
         "0",
         "0",
         "0",
         "0",
         "0",
         "0",
         "0",
         "0",
         "0",
         "0",
         "0",
         "0",
         "0",
         "0",
         "0",
         "0",
         "0",
         "0",
         "0",
         "0",
         "0",
         "0",
         "0",
         "0",
         "0",
         "0",
         "0",
         "0",
         "0",
         "0",
         "0",
         "0",
         "0",
         "0",
         "0",
         "0",
         "0",
         "0",
         "0",
         "0",
         "0",
         "0",
         "0",
         "0",
         "0",
         "0",
         "0",
         "0",
         "0",
         "0",
         "0",
         "0",
         "0",
         "0",
         "0",
         "0",
         "0",
         "0",
         "0",
         "0",
         "0",
         "0",
         "0",
         "0",
         "0",
         "0",
         "0",
         "0",
         "0",
         "0",
         "0",
         "0",
         "0",
         "0",
         "0",
         "0",
         "0",
         "0",
         "0",
         "0",
         "0",
         "0",
         "0",
         "0",
         "0",
         "0",
         "0",
         "0",
         "0",
         "0",
         "0",
         "0",
         "0",
         "0",
         "0",
         "0",
         "0",
         "0",
         "0",
         "0",
         "0",
         "0",
         "0",
         "0",
         "0",
         "0",
         "0",
         "0",
         "0",
         "0",
         "0",
         "0",
         "0",
         "0",
         "0",
         "0",
         "0",
         "0",
         "0",
         "0",
         "0",
         "0",
         "0",
         "0",
         "0",
         "0",
         "0",
         "0",
         "0",
         "0",
         "0",
         "0",
         "0",
         "0",
         "0",
         "0",
         "0",
         "0",
         "0",
         "0",
         "0",
         "0",
         "0",
         "0",
         "0",
         "0",
         "0",
         "0",
         "0",
         "0",
         "0",
         "0",
         "0",
         "0",
         "0",
         "0",
         "0",
         "0",
         "0",
         "0",
         "0",
         "0",
         "0",
         "0",
         "0",
         "0",
         "0",
         "0",
         "0",
         "0",
         "0",
         "0",
         "0",
         "0",
         "0",
         "0",
         "0",
         "0",
         "0",
         "0",
         "0",
         "0",
         "0",
         "0",
         "0",
         "0",
         "0",
         "0",
         "0",
         "0",
         "0",
         "0",
         "0",
         "0",
         "0",
         "0",
         "0",
         "0",
         "0",
         "0",
         "0",
         "0",
         "0",
         "0",
         "0",
         "0",
         "0",
         "0",
         "0",
         "0",
         "0",
         "0",
         "0",
         "0",
         "0",
         "0",
         "0",
         "0",
         "0",
         "0",
         "0",
         "0",
         "0",
         "0",
         "0",
         "0",
         "0",
         "0",
         "0",
         "0",
         "0",
         "0",
         "0",
         "0",
         "0",
         "0",
         "0",
         "0",
         "0",
         "0",
         "0",
         "0",
         "0",
         "0",
         "0",
         "0",
         "0",
         "0",
         "0",
         "0",
         "0",
         "0",
         "0",
         "0",
         "0",
         "0",
         "0",
         "0",
         "0",
         "0",
         "0",
         "0",
         "0",
         "0",
         "0",
         "0",
         "0",
         "0",
         "0",
         "0",
         "0",
         "0",
         "0",
         "0",
         "0",
         "0",
         "0",
         "0",
         "0",
         "0",
         "0",
         "0",
         "0",
         "0",
         "0",
         "0",
         "0",
         "0",
         "0",
         "0",
         "0",
         "0",
         "0",
         "0",
         "0",
         "0",
         "0",
         "0",
         "0",
         "0",
         "0",
         "0",
         "0",
         "0",
         "0",
         "0",
         "0",
         "0",
         "0",
         "0",
         "0",
         "0",
         "0",
         "0",
         "0",
         "0",
         "0",
         "0",
         "0",
         "0",
         "0",
         "0",
         "0",
         "0",
         "0",
         "0",
         "0",
         "0",
         "0",
         "0",
         "0",
         "0",
         "0",
         "0",
         "0",
         "0",
         "0",
         "0",
         "0",
         "0",
         "0",
         "0",
         "0",
         "0",
         "0",
         "0",
         "0",
         "0",
         "0",
         "0",
         "0",
         "0",
         "0",
         "0",
         "0",
         "0",
         "0",
         "0",
         "0",
         "0",
         "0",
         "0",
         "0",
         "0",
         "0",
         "0",
         "0",
         "0",
         "0",
         "0",
         "0",
         "0",
         "0",
         "0",
         "1",
         "0",
         "0",
         "0",
         "0",
         "0",
         "0",
         "0",
         "0",
         "0",
         "0",
         "0",
         "0",
         "0",
         "0",
         "0",
         "0",
         "0",
         "0",
         "0",
         "0",
         "0",
         "0",
         "0",
         "0",
         "0",
         "0",
         "0",
         "0",
         "0",
         "0",
         "0",
         "0",
         "0",
         "0",
         "0",
         "0",
         "0",
         "0",
         "0",
         "0",
         "0",
         "0",
         "0",
         "0",
         "0",
         "0",
         "0",
         "0",
         "0",
         "0",
         "0",
         "0",
         "0",
         "0",
         "0",
         "0",
         "0",
         "0",
         "0",
         "0",
         "0",
         "0",
         "0",
         "0",
         "0",
         "0",
         "0",
         "0",
         "0",
         "0",
         "0",
         "0",
         "0",
         "0",
         "0",
         "0",
         "0",
         "0",
         "0",
         "0",
         "0",
         "0",
         "0",
         "0",
         "0",
         "0",
         "0",
         "0",
         "0",
         "0",
         "0",
         "0",
         "0",
         "0",
         "0",
         "0",
         "0",
         "0",
         "0",
         "0",
         "0",
         "0",
         "0",
         "0",
         "0",
         "0",
         "0",
         "0",
         "0",
         "0",
         "0",
         "0",
         "0",
         "0",
         "0",
         "0",
         "0",
         "0",
         "0",
         "0",
         "0",
         "0",
         "0",
         "0",
         "0",
         "0",
         "0",
         "0",
         "0",
         "0",
         "0",
         "0",
         "0",
         "0",
         "0",
         "0",
         "0",
         "0",
         "0",
         "0",
         "0",
         "0",
         "0",
         "0",
         "0",
         "0",
         "0",
         "0",
         "0",
         "0",
         "0",
         "0",
         "0",
         "0",
         "0",
         "0",
         "0",
         "0",
         "0",
         "0",
         "0",
         "0",
         "0",
         "0",
         "0",
         "0",
         "0",
         "0",
         "0",
         "0",
         "0",
         "0",
         "0",
         "0",
         "0",
         "0",
         "0",
         "0",
         "0",
         "0",
         "0",
         "0",
         "0",
         "0",
         "0",
         "0",
         "0",
         "0",
         "0",
         "0",
         "0",
         "0",
         "0",
         "0",
         "0",
         "0",
         "0",
         "0",
         "0",
         "0",
         "0",
         "0",
         "0",
         "0",
         "0",
         "0",
         "0",
         "0",
         "0",
         "0",
         "0",
         "0",
         "0",
         "0",
         "0",
         "0",
         "0",
         "0",
         "0",
         "0",
         "0",
         "0",
         "0",
         "0",
         "0",
         "0",
         "0",
         "0",
         "0",
         "0",
         "0",
         "0",
         "0",
         "0",
         "0",
         "0",
         "0",
         "0",
         "0",
         "0",
         "0",
         "0",
         "0",
         "0",
         "0",
         "0",
         "0",
         "0",
         "0",
         "0",
         "0",
         "0",
         "0",
         "0",
         "0",
         "0",
         "0",
         "0",
         "0",
         "0",
         "0",
         "0",
         "0",
         "0",
         "0",
         "0",
         "0",
         "0",
         "0",
         "0",
         "0",
         "0",
         "0",
         "0",
         "0",
         "0",
         "0",
         "0",
         "0",
         "0",
         "0",
         "0",
         "0",
         "0",
         "0",
         "0",
         "0",
         "0",
         "0",
         "0",
         "0",
         "0",
         "0",
         "0",
         "0",
         "0",
         "0",
         "0",
         "0",
         "0",
         "0",
         "0",
         "0",
         "0",
         "0",
         "0",
         "0",
         "0",
         "0",
         "0",
         "0",
         "0",
         "0",
         "0",
         "0",
         "0",
         "0",
         "0",
         "0",
         "0",
         "0",
         "0",
         "0",
         "0",
         "0",
         "0",
         "0",
         "0",
         "0",
         "0",
         "0",
         "0",
         "0",
         "0",
         "0",
         "0",
         "0",
         "0",
         "0",
         "0",
         "0",
         "0",
         "0",
         "0",
         "0",
         "0",
         "0",
         "0",
         "0",
         "0",
         "0",
         "0",
         "0",
         "0",
         "0",
         "0",
         "0",
         "0",
         "0",
         "0",
         "0",
         "0",
         "0",
         "0",
         "0",
         "0",
         "0",
         "0",
         "0",
         "0",
         "0",
         "0",
         "0",
         "0",
         "0",
         "0",
         "0",
         "0",
         "0"
        ],
        [
         "DPM1",
         "0",
         "0",
         "0",
         "0",
         "0",
         "0",
         "238",
         "111",
         "0",
         "0",
         "0",
         "247",
         "255",
         "74",
         "124",
         "0",
         "148",
         "179",
         "33",
         "25",
         "0",
         "0",
         "66",
         "168",
         "151",
         "111",
         "156",
         "50",
         "0",
         "0",
         "36",
         "0",
         "0",
         "0",
         "120",
         "56",
         "10",
         "1",
         "0",
         "0",
         "0",
         "24",
         "0",
         "97",
         "93",
         "29",
         "260",
         "0",
         "0",
         "0",
         "0",
         "0",
         "0",
         "80",
         "0",
         "0",
         "0",
         "0",
         "0",
         "0",
         "0",
         "169",
         "0",
         "47",
         "0",
         "0",
         "52",
         "0",
         "0",
         "0",
         "0",
         "0",
         "0",
         "0",
         "0",
         "65",
         "0",
         "0",
         "69",
         "0",
         "1",
         "103",
         "0",
         "0",
         "0",
         "0",
         "0",
         "15",
         "26",
         "55",
         "78",
         "0",
         "0",
         "0",
         "0",
         "0",
         "0",
         "0",
         "0",
         "41",
         "0",
         "0",
         "0",
         "124",
         "0",
         "96",
         "178",
         "0",
         "0",
         "0",
         "0",
         "113",
         "24",
         "87",
         "45",
         "0",
         "97",
         "0",
         "208",
         "96",
         "0",
         "0",
         "0",
         "34",
         "0",
         "167",
         "0",
         "0",
         "0",
         "0",
         "37",
         "2",
         "0",
         "0",
         "0",
         "0",
         "0",
         "104",
         "20",
         "104",
         "0",
         "203",
         "45",
         "0",
         "25",
         "83",
         "54",
         "0",
         "0",
         "209",
         "4",
         "0",
         "0",
         "0",
         "0",
         "0",
         "0",
         "5",
         "433",
         "108",
         "0",
         "0",
         "175",
         "3",
         "6",
         "65",
         "0",
         "0",
         "0",
         "0",
         "0",
         "105",
         "59",
         "54",
         "0",
         "0",
         "106",
         "0",
         "0",
         "18",
         "150",
         "0",
         "0",
         "88",
         "0",
         "0",
         "95",
         "114",
         "49",
         "108",
         "0",
         "0",
         "0",
         "0",
         "29",
         "27",
         "195",
         "77",
         "0",
         "0",
         "1",
         "0",
         "1",
         "0",
         "0",
         "0",
         "0",
         "0",
         "48",
         "9",
         "0",
         "50",
         "0",
         "0",
         "0",
         "12",
         "0",
         "0",
         "58",
         "0",
         "124",
         "248",
         "82",
         "0",
         "0",
         "0",
         "150",
         "0",
         "90",
         "0",
         "156",
         "0",
         "1",
         "0",
         "4",
         "290",
         "0",
         "0",
         "0",
         "0",
         "0",
         "203",
         "0",
         "81",
         "0",
         "238",
         "103",
         "0",
         "0",
         "0",
         "0",
         "514",
         "0",
         "0",
         "0",
         "67",
         "139",
         "9",
         "0",
         "1",
         "0",
         "0",
         "91",
         "0",
         "6",
         "78",
         "0",
         "41",
         "0",
         "8",
         "0",
         "0",
         "0",
         "0",
         "0",
         "0",
         "363",
         "59",
         "0",
         "89",
         "0",
         "161",
         "22",
         "0",
         "82",
         "0",
         "0",
         "30",
         "99",
         "0",
         "0",
         "1",
         "83",
         "109",
         "0",
         "0",
         "111",
         "224",
         "0",
         "0",
         "0",
         "66",
         "0",
         "210",
         "0",
         "87",
         "21",
         "0",
         "0",
         "19",
         "0",
         "23",
         "6",
         "0",
         "0",
         "0",
         "19",
         "0",
         "0",
         "0",
         "73",
         "22",
         "0",
         "0",
         "8",
         "152",
         "0",
         "0",
         "0",
         "0",
         "0",
         "55",
         "0",
         "0",
         "0",
         "86",
         "0",
         "44",
         "0",
         "37",
         "0",
         "0",
         "0",
         "0",
         "0",
         "0",
         "73",
         "0",
         "0",
         "0",
         "0",
         "68",
         "0",
         "0",
         "0",
         "40",
         "27",
         "0",
         "0",
         "0",
         "0",
         "127",
         "0",
         "102",
         "0",
         "0",
         "0",
         "0",
         "0",
         "0",
         "59",
         "77",
         "0",
         "0",
         "0",
         "39",
         "0",
         "0",
         "0",
         "0",
         "34",
         "0",
         "12",
         "0",
         "10",
         "0",
         "0",
         "0",
         "48",
         "129",
         "72",
         "9",
         "0",
         "102",
         "40",
         "0",
         "0",
         "0",
         "2",
         "1",
         "0",
         "0",
         "0",
         "49",
         "28",
         "1",
         "0",
         "0",
         "18",
         "6",
         "0",
         "78",
         "0",
         "0",
         "0",
         "0",
         "35",
         "57",
         "0",
         "0",
         "104",
         "0",
         "0",
         "0",
         "0",
         "172",
         "116",
         "0",
         "0",
         "0",
         "65",
         "61",
         "0",
         "0",
         "0",
         "28",
         "0",
         "170",
         "0",
         "153",
         "21",
         "0",
         "0",
         "0",
         "0",
         "0",
         "0",
         "0",
         "0",
         "140",
         "0",
         "78",
         "4",
         "0",
         "0",
         "22",
         "0",
         "0",
         "22",
         "80",
         "0",
         "33",
         "8",
         "147",
         "0",
         "62",
         "0",
         "253",
         "0",
         "65",
         "96",
         "0",
         "125",
         "89",
         "0",
         "0",
         "43",
         "0",
         "15",
         "0",
         "0",
         "0",
         "0",
         "0",
         "0",
         "0",
         "0",
         "0",
         "1",
         "7",
         "0",
         "0",
         "0",
         "0",
         "0",
         "0",
         "0",
         "0",
         "0",
         "0",
         "8",
         "0",
         "0",
         "0",
         "0",
         "0",
         "0",
         "179",
         "0",
         "38",
         "0",
         "2",
         "70",
         "0",
         "1",
         "0",
         "0",
         "0",
         "0",
         "25",
         "181",
         "0",
         "0",
         "50",
         "0",
         "0",
         "56",
         "0",
         "0",
         "172",
         "0",
         "0",
         "0",
         "0",
         "99",
         "61",
         "0",
         "0",
         "0",
         "42",
         "68",
         "0",
         "124",
         "0",
         "1",
         "34",
         "0",
         "0",
         "3",
         "0",
         "2",
         "18",
         "1",
         "1",
         "16",
         "5",
         "16",
         "0",
         "35",
         "47",
         "3",
         "92",
         "14",
         "79",
         "6",
         "2",
         "14",
         "0",
         "0",
         "1",
         "27",
         "4",
         "0",
         "3",
         "16",
         "5",
         "16",
         "0",
         "4",
         "25",
         "0",
         "7",
         "7",
         "17",
         "8",
         "40",
         "0",
         "19",
         "17",
         "8",
         "2",
         "2",
         "8",
         "15",
         "25",
         "36",
         "37",
         "15",
         "5",
         "8",
         "0",
         "9",
         "20",
         "0",
         "178",
         "15",
         "1",
         "6",
         "16",
         "0",
         "5",
         "37",
         "4",
         "1",
         "21",
         "6",
         "7",
         "10",
         "44",
         "1",
         "5",
         "4",
         "4",
         "37",
         "37",
         "4",
         "19",
         "17",
         "5",
         "9",
         "10",
         "16",
         "2",
         "43",
         "13",
         "73",
         "2",
         "1",
         "0",
         "10",
         "1",
         "5",
         "2",
         "16",
         "12",
         "5",
         "3",
         "2",
         "25",
         "4",
         "7",
         "16",
         "20",
         "8",
         "0",
         "16",
         "0",
         "10",
         "34",
         "42",
         "2",
         "26",
         "5",
         "0",
         "9",
         "19",
         "50",
         "17",
         "0",
         "28",
         "0",
         "7",
         "1",
         "58",
         "0",
         "12",
         "26",
         "42",
         "6",
         "7",
         "13",
         "39",
         "1",
         "11",
         "0",
         "28",
         "43",
         "3",
         "2",
         "5",
         "21",
         "3",
         "5",
         "5",
         "13",
         "3",
         "5",
         "17",
         "3",
         "0",
         "32",
         "3",
         "5",
         "89",
         "1",
         "2",
         "20",
         "32",
         "0",
         "2",
         "2",
         "3",
         "12",
         "0",
         "5",
         "7",
         "2",
         "0",
         "8",
         "1",
         "4",
         "97",
         "21",
         "1",
         "3",
         "28",
         "18",
         "0",
         "1",
         "1",
         "45",
         "34",
         "2",
         "0",
         "0",
         "0",
         "17",
         "35",
         "5",
         "1",
         "9",
         "4",
         "42",
         "0",
         "2",
         "1",
         "3",
         "1",
         "29",
         "6",
         "3",
         "27",
         "8",
         "21",
         "35",
         "58",
         "14",
         "7",
         "26",
         "28",
         "7",
         "74",
         "11",
         "34",
         "3",
         "5",
         "66",
         "20",
         "10",
         "3",
         "2",
         "4",
         "39",
         "0",
         "0",
         "6",
         "5",
         "7",
         "4",
         "4",
         "20",
         "3",
         "0",
         "0",
         "2",
         "0",
         "0",
         "3",
         "1",
         "5",
         "1",
         "6",
         "2",
         "18",
         "3",
         "0",
         "5",
         "7",
         "5",
         "0",
         "0",
         "10",
         "6",
         "5",
         "9",
         "5",
         "1",
         "3",
         "2",
         "34",
         "12",
         "0",
         "0",
         "3",
         "8",
         "2",
         "17",
         "0",
         "0",
         "7",
         "19",
         "7",
         "5",
         "0",
         "0",
         "8",
         "2",
         "5",
         "4",
         "12",
         "11",
         "1",
         "9",
         "5",
         "1",
         "1",
         "4",
         "1",
         "0",
         "1",
         "18",
         "33",
         "0",
         "19",
         "0",
         "10",
         "7",
         "1",
         "1",
         "0",
         "1",
         "6",
         "4",
         "1",
         "0",
         "23",
         "0",
         "17",
         "7",
         "19",
         "7",
         "0",
         "17",
         "1",
         "0",
         "5",
         "10",
         "0",
         "0",
         "1",
         "6",
         "0",
         "3",
         "0",
         "20",
         "1",
         "6",
         "8",
         "14",
         "4",
         "8",
         "0",
         "0",
         "4",
         "19",
         "1",
         "0",
         "5",
         "0",
         "6",
         "5",
         "14",
         "9",
         "0",
         "22",
         "0",
         "2",
         "1",
         "3",
         "8",
         "1",
         "3",
         "3",
         "3",
         "28",
         "14",
         "10",
         "0",
         "1",
         "8",
         "0",
         "0",
         "2",
         "0",
         "0",
         "28",
         "0",
         "18",
         "19",
         "2",
         "1",
         "8",
         "25",
         "4",
         "0",
         "0",
         "0",
         "15",
         "1",
         "16",
         "2",
         "1",
         "1",
         "1",
         "9",
         "1",
         "2",
         "2",
         "0",
         "0",
         "0",
         "0",
         "1",
         "1",
         "3",
         "54",
         "1",
         "5",
         "5",
         "14",
         "7",
         "0",
         "2",
         "35",
         "9",
         "0",
         "11",
         "7",
         "3",
         "0",
         "4",
         "10",
         "6",
         "2",
         "37",
         "4",
         "0",
         "1",
         "1",
         "0",
         "4",
         "13",
         "11",
         "0",
         "4",
         "6",
         "1",
         "0",
         "0",
         "0",
         "6",
         "7",
         "0",
         "0",
         "2",
         "1",
         "1",
         "1",
         "8",
         "25",
         "6",
         "8",
         "0",
         "5",
         "3",
         "1",
         "0",
         "17",
         "15",
         "7",
         "3",
         "4",
         "0",
         "51",
         "0",
         "5",
         "0",
         "0",
         "0",
         "2",
         "0",
         "10",
         "109",
         "1",
         "4",
         "4",
         "2",
         "2",
         "0",
         "0",
         "2",
         "15",
         "11",
         "3",
         "20",
         "2",
         "1",
         "37",
         "25",
         "6",
         "0",
         "0",
         "2",
         "2",
         "0",
         "1",
         "2",
         "1",
         "1",
         "3",
         "1",
         "1",
         "3",
         "0",
         "3",
         "1",
         "0",
         "8",
         "1",
         "0",
         "0",
         "0",
         "7",
         "0",
         "0",
         "0",
         "0",
         "0",
         "0",
         "10",
         "3",
         "0",
         "0",
         "0",
         "1",
         "0",
         "3",
         "0",
         "1",
         "0",
         "16",
         "3",
         "8",
         "4",
         "2",
         "0",
         "3",
         "2",
         "7",
         "27",
         "15"
        ],
        [
         "SCYL3",
         "0",
         "0",
         "0",
         "0",
         "0",
         "110",
         "0",
         "0",
         "0",
         "0",
         "0",
         "0",
         "0",
         "0",
         "70",
         "0",
         "0",
         "0",
         "0",
         "0",
         "0",
         "0",
         "1",
         "845",
         "1",
         "0",
         "0",
         "0",
         "0",
         "0",
         "0",
         "0",
         "0",
         "0",
         "0",
         "0",
         "0",
         "0",
         "0",
         "0",
         "0",
         "0",
         "0",
         "39",
         "0",
         "0",
         "0",
         "0",
         "0",
         "0",
         "0",
         "0",
         "104",
         "0",
         "0",
         "0",
         "0",
         "0",
         "0",
         "0",
         "0",
         "0",
         "0",
         "70",
         "0",
         "0",
         "0",
         "0",
         "0",
         "0",
         "0",
         "0",
         "0",
         "0",
         "0",
         "0",
         "0",
         "0",
         "0",
         "0",
         "0",
         "0",
         "0",
         "0",
         "0",
         "0",
         "0",
         "0",
         "0",
         "0",
         "25",
         "0",
         "0",
         "0",
         "0",
         "0",
         "0",
         "0",
         "0",
         "0",
         "0",
         "0",
         "0",
         "0",
         "0",
         "0",
         "0",
         "0",
         "0",
         "50",
         "0",
         "0",
         "61",
         "0",
         "0",
         "5",
         "0",
         "0",
         "0",
         "0",
         "0",
         "1",
         "0",
         "0",
         "0",
         "0",
         "0",
         "0",
         "0",
         "0",
         "0",
         "169",
         "0",
         "0",
         "9",
         "0",
         "0",
         "58",
         "35",
         "149",
         "0",
         "0",
         "0",
         "0",
         "0",
         "0",
         "0",
         "0",
         "0",
         "76",
         "0",
         "1",
         "0",
         "0",
         "0",
         "0",
         "0",
         "0",
         "0",
         "1",
         "0",
         "0",
         "0",
         "0",
         "0",
         "0",
         "0",
         "0",
         "0",
         "0",
         "0",
         "0",
         "0",
         "0",
         "0",
         "0",
         "0",
         "0",
         "0",
         "9",
         "0",
         "0",
         "0",
         "165",
         "0",
         "57",
         "0",
         "246",
         "0",
         "0",
         "0",
         "0",
         "0",
         "0",
         "0",
         "83",
         "0",
         "1",
         "0",
         "0",
         "0",
         "52",
         "479",
         "0",
         "0",
         "178",
         "0",
         "0",
         "0",
         "0",
         "0",
         "56",
         "0",
         "0",
         "0",
         "0",
         "0",
         "0",
         "155",
         "0",
         "49",
         "0",
         "0",
         "1",
         "0",
         "1",
         "699",
         "0",
         "0",
         "0",
         "0",
         "0",
         "1",
         "0",
         "0",
         "0",
         "0",
         "0",
         "55",
         "0",
         "0",
         "1",
         "0",
         "31",
         "0",
         "0",
         "2",
         "0",
         "0",
         "0",
         "0",
         "0",
         "0",
         "0",
         "0",
         "1",
         "0",
         "5",
         "0",
         "0",
         "0",
         "0",
         "0",
         "0",
         "0",
         "14",
         "0",
         "1",
         "0",
         "0",
         "0",
         "105",
         "0",
         "0",
         "35",
         "0",
         "1",
         "0",
         "0",
         "168",
         "0",
         "0",
         "21",
         "0",
         "0",
         "0",
         "0",
         "11",
         "0",
         "18",
         "0",
         "0",
         "0",
         "0",
         "0",
         "0",
         "0",
         "1",
         "0",
         "1",
         "0",
         "66",
         "2",
         "0",
         "0",
         "0",
         "0",
         "0",
         "0",
         "0",
         "2",
         "0",
         "0",
         "0",
         "0",
         "0",
         "0",
         "0",
         "0",
         "0",
         "0",
         "19",
         "9",
         "10",
         "0",
         "0",
         "9",
         "0",
         "0",
         "0",
         "0",
         "0",
         "0",
         "0",
         "0",
         "0",
         "0",
         "0",
         "0",
         "0",
         "95",
         "0",
         "0",
         "0",
         "0",
         "0",
         "0",
         "0",
         "78",
         "0",
         "49",
         "0",
         "0",
         "0",
         "0",
         "6",
         "0",
         "0",
         "0",
         "4",
         "0",
         "0",
         "0",
         "0",
         "0",
         "0",
         "140",
         "8",
         "2",
         "0",
         "0",
         "0",
         "19",
         "0",
         "0",
         "0",
         "0",
         "0",
         "0",
         "0",
         "0",
         "0",
         "0",
         "0",
         "0",
         "0",
         "0",
         "0",
         "0",
         "0",
         "0",
         "0",
         "0",
         "0",
         "0",
         "0",
         "0",
         "0",
         "0",
         "0",
         "0",
         "0",
         "0",
         "0",
         "0",
         "0",
         "3",
         "0",
         "0",
         "1",
         "0",
         "0",
         "0",
         "0",
         "0",
         "0",
         "0",
         "0",
         "0",
         "0",
         "1",
         "0",
         "0",
         "0",
         "0",
         "0",
         "0",
         "3",
         "31",
         "13",
         "0",
         "0",
         "101",
         "1",
         "44",
         "0",
         "0",
         "0",
         "0",
         "0",
         "0",
         "0",
         "0",
         "155",
         "0",
         "0",
         "0",
         "0",
         "0",
         "0",
         "0",
         "0",
         "1",
         "0",
         "0",
         "20",
         "0",
         "30",
         "0",
         "0",
         "0",
         "0",
         "0",
         "0",
         "0",
         "0",
         "0",
         "0",
         "0",
         "0",
         "0",
         "0",
         "0",
         "0",
         "0",
         "0",
         "0",
         "0",
         "0",
         "0",
         "0",
         "0",
         "0",
         "0",
         "0",
         "1",
         "0",
         "0",
         "0",
         "0",
         "0",
         "0",
         "0",
         "0",
         "0",
         "0",
         "0",
         "0",
         "0",
         "0",
         "21",
         "1",
         "0",
         "1",
         "0",
         "0",
         "2",
         "0",
         "0",
         "0",
         "0",
         "8",
         "0",
         "0",
         "0",
         "0",
         "0",
         "0",
         "0",
         "0",
         "0",
         "0",
         "11",
         "73",
         "0",
         "0",
         "55",
         "0",
         "0",
         "0",
         "0",
         "0",
         "0",
         "1",
         "176",
         "0",
         "0",
         "16",
         "0",
         "0",
         "0",
         "0",
         "0",
         "0",
         "71",
         "0",
         "0",
         "0",
         "2",
         "0",
         "0",
         "0",
         "0",
         "3",
         "0",
         "0",
         "2",
         "0",
         "0",
         "13",
         "0",
         "12",
         "0",
         "4",
         "0",
         "0",
         "0",
         "0",
         "0",
         "0",
         "7",
         "1",
         "0",
         "0",
         "5",
         "2",
         "3",
         "0",
         "1",
         "16",
         "0",
         "1",
         "0",
         "0",
         "14",
         "8",
         "0",
         "0",
         "8",
         "1",
         "10",
         "0",
         "0",
         "14",
         "34",
         "21",
         "1",
         "3",
         "0",
         "13",
         "0",
         "0",
         "5",
         "6",
         "0",
         "59",
         "0",
         "0",
         "0",
         "0",
         "0",
         "0",
         "3",
         "8",
         "0",
         "5",
         "0",
         "8",
         "14",
         "5",
         "3",
         "1",
         "0",
         "16",
         "0",
         "0",
         "3",
         "7",
         "4",
         "0",
         "0",
         "0",
         "2",
         "20",
         "1",
         "0",
         "0",
         "1",
         "0",
         "7",
         "10",
         "3",
         "1",
         "2",
         "12",
         "0",
         "0",
         "0",
         "0",
         "0",
         "0",
         "4",
         "2",
         "0",
         "0",
         "0",
         "8",
         "0",
         "11",
         "16",
         "0",
         "15",
         "7",
         "0",
         "0",
         "0",
         "0",
         "5",
         "10",
         "0",
         "0",
         "1",
         "1",
         "0",
         "6",
         "5",
         "7",
         "5",
         "3",
         "5",
         "16",
         "10",
         "0",
         "14",
         "0",
         "0",
         "0",
         "0",
         "0",
         "13",
         "2",
         "0",
         "1",
         "4",
         "0",
         "0",
         "7",
         "0",
         "3",
         "0",
         "0",
         "0",
         "3",
         "48",
         "0",
         "0",
         "0",
         "11",
         "0",
         "0",
         "0",
         "3",
         "4",
         "0",
         "0",
         "0",
         "0",
         "0",
         "11",
         "0",
         "0",
         "15",
         "8",
         "0",
         "0",
         "1",
         "1",
         "1",
         "2",
         "3",
         "11",
         "16",
         "0",
         "0",
         "0",
         "1",
         "1",
         "13",
         "0",
         "0",
         "1",
         "0",
         "0",
         "0",
         "4",
         "1",
         "0",
         "0",
         "0",
         "4",
         "1",
         "1",
         "23",
         "0",
         "0",
         "24",
         "5",
         "1",
         "0",
         "4",
         "10",
         "13",
         "0",
         "0",
         "1",
         "0",
         "0",
         "0",
         "0",
         "1",
         "0",
         "0",
         "3",
         "0",
         "0",
         "3",
         "0",
         "3",
         "0",
         "0",
         "0",
         "4",
         "0",
         "1",
         "0",
         "0",
         "0",
         "0",
         "0",
         "5",
         "0",
         "6",
         "0",
         "14",
         "0",
         "0",
         "0",
         "0",
         "1",
         "0",
         "7",
         "0",
         "0",
         "5",
         "0",
         "5",
         "0",
         "4",
         "0",
         "16",
         "0",
         "0",
         "0",
         "1",
         "0",
         "0",
         "0",
         "23",
         "0",
         "5",
         "0",
         "2",
         "0",
         "0",
         "8",
         "0",
         "0",
         "0",
         "12",
         "3",
         "1",
         "0",
         "0",
         "0",
         "0",
         "0",
         "0",
         "7",
         "0",
         "0",
         "6",
         "0",
         "0",
         "0",
         "1",
         "0",
         "0",
         "0",
         "0",
         "0",
         "4",
         "0",
         "0",
         "0",
         "2",
         "0",
         "0",
         "0",
         "0",
         "42",
         "0",
         "0",
         "0",
         "0",
         "3",
         "0",
         "20",
         "0",
         "0",
         "0",
         "3",
         "0",
         "7",
         "2",
         "0",
         "9",
         "0",
         "0",
         "6",
         "0",
         "0",
         "0",
         "0",
         "0",
         "17",
         "0",
         "3",
         "0",
         "3",
         "0",
         "0",
         "10",
         "0",
         "0",
         "0",
         "1",
         "0",
         "5",
         "0",
         "3",
         "0",
         "1",
         "26",
         "1",
         "10",
         "0",
         "3",
         "0",
         "0",
         "6",
         "2",
         "0",
         "0",
         "1",
         "0",
         "5",
         "0",
         "13",
         "6",
         "0",
         "0",
         "0",
         "1",
         "3",
         "2",
         "0",
         "1",
         "13",
         "0",
         "0",
         "0",
         "1",
         "1",
         "0",
         "2",
         "0",
         "0",
         "0",
         "0",
         "0",
         "0",
         "0",
         "0",
         "0",
         "0",
         "0",
         "2",
         "0",
         "0",
         "3",
         "0",
         "0",
         "0",
         "3",
         "0",
         "0",
         "0",
         "6",
         "1",
         "0",
         "0",
         "0",
         "0",
         "0",
         "0",
         "0",
         "0",
         "0",
         "0",
         "0",
         "4",
         "3",
         "0",
         "0",
         "0",
         "0",
         "0",
         "0",
         "0",
         "0",
         "0",
         "3",
         "0",
         "1",
         "0",
         "0",
         "10",
         "0",
         "0",
         "0",
         "5",
         "6",
         "0",
         "1",
         "0",
         "0",
         "0",
         "0",
         "0",
         "4",
         "0",
         "1",
         "0",
         "0",
         "0",
         "0",
         "0",
         "0",
         "4",
         "3",
         "0",
         "0",
         "0",
         "0",
         "0",
         "0",
         "0",
         "0",
         "0",
         "0",
         "2",
         "0",
         "0",
         "0",
         "2",
         "2",
         "0",
         "16",
         "0",
         "6",
         "10",
         "0",
         "1",
         "0",
         "1",
         "0",
         "0",
         "0",
         "0",
         "0",
         "0",
         "2",
         "2",
         "0",
         "0",
         "0",
         "0",
         "0",
         "0",
         "0",
         "0",
         "0",
         "0",
         "3",
         "0",
         "0",
         "0",
         "0",
         "0",
         "0",
         "0",
         "0",
         "1",
         "0",
         "0",
         "0",
         "0",
         "1",
         "0",
         "0",
         "0",
         "0",
         "0",
         "7",
         "0",
         "0",
         "0",
         "0",
         "5",
         "0",
         "6"
        ],
        [
         "C1orf112",
         "0",
         "0",
         "0",
         "0",
         "0",
         "0",
         "14",
         "0",
         "0",
         "0",
         "0",
         "0",
         "0",
         "155",
         "0",
         "0",
         "0",
         "0",
         "0",
         "0",
         "0",
         "0",
         "0",
         "0",
         "0",
         "0",
         "0",
         "2",
         "0",
         "0",
         "0",
         "0",
         "0",
         "0",
         "0",
         "0",
         "0",
         "0",
         "0",
         "0",
         "0",
         "0",
         "0",
         "0",
         "201",
         "0",
         "301",
         "0",
         "0",
         "0",
         "0",
         "0",
         "0",
         "0",
         "0",
         "0",
         "0",
         "0",
         "0",
         "0",
         "0",
         "0",
         "0",
         "0",
         "0",
         "0",
         "0",
         "0",
         "0",
         "0",
         "0",
         "0",
         "0",
         "0",
         "53",
         "0",
         "0",
         "0",
         "0",
         "0",
         "0",
         "0",
         "0",
         "0",
         "0",
         "0",
         "0",
         "0",
         "0",
         "0",
         "0",
         "0",
         "0",
         "0",
         "0",
         "0",
         "0",
         "0",
         "0",
         "0",
         "0",
         "0",
         "0",
         "0",
         "0",
         "0",
         "0",
         "0",
         "0",
         "0",
         "0",
         "0",
         "0",
         "4",
         "0",
         "0",
         "0",
         "0",
         "0",
         "0",
         "101",
         "0",
         "0",
         "0",
         "0",
         "0",
         "0",
         "0",
         "0",
         "2",
         "0",
         "0",
         "0",
         "0",
         "0",
         "0",
         "0",
         "0",
         "0",
         "0",
         "0",
         "0",
         "0",
         "0",
         "0",
         "0",
         "0",
         "0",
         "0",
         "0",
         "1",
         "0",
         "0",
         "0",
         "0",
         "0",
         "0",
         "0",
         "0",
         "0",
         "0",
         "0",
         "0",
         "0",
         "0",
         "0",
         "0",
         "0",
         "0",
         "0",
         "0",
         "179",
         "0",
         "0",
         "0",
         "0",
         "0",
         "0",
         "0",
         "0",
         "0",
         "0",
         "0",
         "0",
         "0",
         "0",
         "0",
         "0",
         "0",
         "1",
         "0",
         "2",
         "0",
         "0",
         "0",
         "0",
         "0",
         "0",
         "0",
         "0",
         "0",
         "0",
         "0",
         "0",
         "0",
         "0",
         "0",
         "0",
         "0",
         "0",
         "0",
         "0",
         "0",
         "0",
         "0",
         "0",
         "0",
         "0",
         "0",
         "0",
         "0",
         "0",
         "0",
         "0",
         "0",
         "1",
         "0",
         "0",
         "0",
         "0",
         "0",
         "0",
         "129",
         "0",
         "0",
         "0",
         "0",
         "0",
         "14",
         "0",
         "0",
         "0",
         "0",
         "0",
         "0",
         "0",
         "9",
         "0",
         "0",
         "0",
         "1",
         "0",
         "0",
         "0",
         "0",
         "0",
         "0",
         "0",
         "0",
         "0",
         "0",
         "0",
         "0",
         "0",
         "0",
         "0",
         "0",
         "0",
         "0",
         "0",
         "0",
         "0",
         "0",
         "0",
         "0",
         "0",
         "0",
         "0",
         "0",
         "0",
         "0",
         "0",
         "0",
         "0",
         "0",
         "0",
         "0",
         "0",
         "0",
         "0",
         "0",
         "0",
         "0",
         "0",
         "0",
         "0",
         "0",
         "0",
         "0",
         "0",
         "0",
         "24",
         "0",
         "0",
         "0",
         "0",
         "0",
         "0",
         "0",
         "0",
         "0",
         "0",
         "0",
         "0",
         "0",
         "0",
         "0",
         "0",
         "0",
         "0",
         "0",
         "0",
         "0",
         "0",
         "0",
         "0",
         "0",
         "0",
         "0",
         "0",
         "0",
         "0",
         "0",
         "0",
         "0",
         "86",
         "0",
         "0",
         "0",
         "0",
         "0",
         "0",
         "0",
         "0",
         "0",
         "0",
         "0",
         "0",
         "1",
         "43",
         "2",
         "0",
         "0",
         "0",
         "0",
         "32",
         "0",
         "0",
         "0",
         "0",
         "0",
         "0",
         "0",
         "0",
         "0",
         "0",
         "0",
         "0",
         "0",
         "0",
         "0",
         "0",
         "0",
         "0",
         "0",
         "0",
         "0",
         "94",
         "0",
         "0",
         "0",
         "0",
         "0",
         "0",
         "0",
         "0",
         "0",
         "0",
         "0",
         "0",
         "0",
         "0",
         "0",
         "0",
         "0",
         "0",
         "0",
         "0",
         "0",
         "0",
         "0",
         "0",
         "0",
         "0",
         "0",
         "0",
         "0",
         "0",
         "0",
         "0",
         "0",
         "0",
         "0",
         "0",
         "0",
         "0",
         "0",
         "0",
         "0",
         "0",
         "0",
         "0",
         "0",
         "0",
         "0",
         "0",
         "0",
         "0",
         "0",
         "0",
         "0",
         "0",
         "0",
         "0",
         "0",
         "14",
         "0",
         "0",
         "0",
         "0",
         "0",
         "0",
         "0",
         "0",
         "0",
         "0",
         "0",
         "0",
         "0",
         "0",
         "0",
         "0",
         "0",
         "0",
         "0",
         "0",
         "0",
         "0",
         "0",
         "0",
         "0",
         "0",
         "25",
         "1",
         "217",
         "0",
         "0",
         "0",
         "0",
         "0",
         "0",
         "5",
         "0",
         "0",
         "0",
         "24",
         "0",
         "0",
         "0",
         "0",
         "0",
         "0",
         "0",
         "0",
         "0",
         "0",
         "0",
         "0",
         "0",
         "0",
         "0",
         "0",
         "0",
         "0",
         "0",
         "0",
         "0",
         "0",
         "0",
         "1",
         "0",
         "0",
         "0",
         "0",
         "0",
         "0",
         "0",
         "0",
         "0",
         "0",
         "0",
         "0",
         "0",
         "0",
         "0",
         "0",
         "0",
         "0",
         "0",
         "0",
         "0",
         "0",
         "0",
         "0",
         "0",
         "0",
         "0",
         "0",
         "0",
         "0",
         "0",
         "0",
         "0",
         "0",
         "0",
         "0",
         "0",
         "3",
         "0",
         "0",
         "0",
         "0",
         "50",
         "0",
         "0",
         "0",
         "0",
         "0",
         "0",
         "0",
         "0",
         "0",
         "0",
         "0",
         "0",
         "0",
         "0",
         "0",
         "2",
         "0",
         "0",
         "0",
         "0",
         "0",
         "0",
         "0",
         "0",
         "0",
         "0",
         "0",
         "10",
         "0",
         "0",
         "0",
         "0",
         "2",
         "0",
         "0",
         "0",
         "0",
         "0",
         "0",
         "0",
         "0",
         "0",
         "0",
         "0",
         "0",
         "0",
         "0",
         "0",
         "0",
         "0",
         "0",
         "1",
         "0",
         "0",
         "0",
         "0",
         "0",
         "0",
         "0",
         "0",
         "0",
         "0",
         "0",
         "0",
         "0",
         "0",
         "0",
         "0",
         "2",
         "11",
         "4",
         "0",
         "0",
         "2",
         "0",
         "0",
         "0",
         "0",
         "0",
         "0",
         "0",
         "6",
         "0",
         "1",
         "0",
         "0",
         "0",
         "11",
         "3",
         "0",
         "0",
         "0",
         "0",
         "0",
         "1",
         "0",
         "0",
         "0",
         "0",
         "0",
         "0",
         "0",
         "0",
         "0",
         "0",
         "0",
         "6",
         "0",
         "0",
         "1",
         "0",
         "0",
         "0",
         "0",
         "0",
         "0",
         "0",
         "0",
         "0",
         "0",
         "0",
         "0",
         "6",
         "0",
         "0",
         "0",
         "0",
         "0",
         "1",
         "0",
         "5",
         "0",
         "0",
         "0",
         "4",
         "0",
         "0",
         "0",
         "0",
         "0",
         "0",
         "1",
         "0",
         "0",
         "0",
         "2",
         "0",
         "0",
         "0",
         "1",
         "0",
         "0",
         "0",
         "0",
         "0",
         "0",
         "0",
         "0",
         "0",
         "0",
         "0",
         "0",
         "0",
         "0",
         "0",
         "0",
         "0",
         "0",
         "0",
         "0",
         "2",
         "0",
         "0",
         "0",
         "0",
         "0",
         "0",
         "11",
         "0",
         "0",
         "0",
         "0",
         "0",
         "0",
         "0",
         "0",
         "0",
         "9",
         "0",
         "0",
         "0",
         "0",
         "0",
         "0",
         "1",
         "0",
         "2",
         "0",
         "0",
         "0",
         "0",
         "0",
         "0",
         "0",
         "0",
         "0",
         "0",
         "0",
         "1",
         "0",
         "0",
         "1",
         "0",
         "0",
         "0",
         "0",
         "0",
         "0",
         "0",
         "0",
         "6",
         "0",
         "0",
         "0",
         "0",
         "0",
         "0",
         "7",
         "0",
         "0",
         "0",
         "0",
         "0",
         "0",
         "0",
         "0",
         "0",
         "0",
         "0",
         "0",
         "0",
         "0",
         "1",
         "0",
         "0",
         "3",
         "0",
         "0",
         "0",
         "0",
         "0",
         "0",
         "0",
         "0",
         "0",
         "0",
         "0",
         "0",
         "0",
         "0",
         "0",
         "0",
         "6",
         "0",
         "0",
         "0",
         "0",
         "0",
         "0",
         "0",
         "0",
         "0",
         "0",
         "0",
         "0",
         "0",
         "0",
         "0",
         "0",
         "0",
         "0",
         "0",
         "0",
         "0",
         "6",
         "0",
         "0",
         "0",
         "0",
         "2",
         "0",
         "0",
         "0",
         "0",
         "0",
         "0",
         "0",
         "20",
         "0",
         "0",
         "0",
         "0",
         "1",
         "0",
         "0",
         "0",
         "0",
         "0",
         "0",
         "0",
         "0",
         "0",
         "0",
         "0",
         "0",
         "0",
         "0",
         "0",
         "0",
         "0",
         "0",
         "0",
         "0",
         "0",
         "0",
         "0",
         "0",
         "0",
         "0",
         "0",
         "0",
         "0",
         "1",
         "0",
         "0",
         "0",
         "0",
         "0",
         "0",
         "0",
         "4",
         "0",
         "0",
         "0",
         "0",
         "3",
         "1",
         "0",
         "0",
         "0",
         "0",
         "0",
         "1",
         "0",
         "0",
         "3",
         "0",
         "0",
         "0",
         "0",
         "0",
         "0",
         "0",
         "0",
         "0",
         "0",
         "0",
         "0",
         "0",
         "0",
         "0",
         "0",
         "4",
         "0",
         "0",
         "3",
         "0",
         "0",
         "0",
         "0",
         "0",
         "0",
         "0",
         "0",
         "0",
         "0",
         "6",
         "0",
         "0",
         "0",
         "0",
         "0",
         "0",
         "0",
         "0",
         "0",
         "0",
         "0",
         "0",
         "0",
         "0",
         "0",
         "0",
         "0",
         "0",
         "0",
         "0",
         "0",
         "0",
         "0",
         "0",
         "0",
         "0",
         "0",
         "0",
         "0",
         "0",
         "0",
         "0",
         "0",
         "0",
         "0",
         "0",
         "0",
         "0",
         "0",
         "0",
         "0",
         "0",
         "18",
         "0",
         "0",
         "0",
         "0",
         "0",
         "0",
         "0",
         "0",
         "10",
         "0",
         "0",
         "0",
         "0",
         "0",
         "0",
         "0",
         "0",
         "0",
         "0",
         "0",
         "0",
         "0",
         "0",
         "0",
         "0",
         "0",
         "0",
         "1",
         "0",
         "0",
         "40",
         "0",
         "0",
         "0",
         "0",
         "0",
         "0",
         "0",
         "0",
         "0",
         "0",
         "0",
         "1",
         "0",
         "0",
         "0",
         "0",
         "0",
         "0",
         "0",
         "0",
         "14",
         "0",
         "0",
         "0",
         "0",
         "0",
         "0",
         "0",
         "0",
         "0",
         "0",
         "6",
         "0",
         "0",
         "0",
         "0",
         "0",
         "0",
         "0",
         "0",
         "0",
         "0",
         "0",
         "0",
         "0",
         "0",
         "0",
         "0",
         "3",
         "0",
         "0",
         "0",
         "0",
         "0",
         "0",
         "0",
         "0",
         "0",
         "0",
         "0",
         "0",
         "0",
         "0",
         "0",
         "0",
         "0",
         "0",
         "0",
         "0",
         "0",
         "0",
         "0",
         "0",
         "0",
         "8",
         "0",
         "1"
        ]
       ],
       "shape": {
        "columns": 1081,
        "rows": 5
       }
      },
      "text/html": [
       "<div>\n",
       "<style scoped>\n",
       "    .dataframe tbody tr th:only-of-type {\n",
       "        vertical-align: middle;\n",
       "    }\n",
       "\n",
       "    .dataframe tbody tr th {\n",
       "        vertical-align: top;\n",
       "    }\n",
       "\n",
       "    .dataframe thead th {\n",
       "        text-align: right;\n",
       "    }\n",
       "</style>\n",
       "<table border=\"1\" class=\"dataframe\">\n",
       "  <thead>\n",
       "    <tr style=\"text-align: right;\">\n",
       "      <th></th>\n",
       "      <th>ERR1630014</th>\n",
       "      <th>ERR1630015</th>\n",
       "      <th>ERR1630016</th>\n",
       "      <th>ERR1630017</th>\n",
       "      <th>ERR1630020</th>\n",
       "      <th>ERR1630021</th>\n",
       "      <th>ERR1630022</th>\n",
       "      <th>ERR1630023</th>\n",
       "      <th>ERR1630024</th>\n",
       "      <th>ERR1630025</th>\n",
       "      <th>...</th>\n",
       "      <th>ERR1632736</th>\n",
       "      <th>ERR1632739</th>\n",
       "      <th>ERR1632743</th>\n",
       "      <th>ERR1632744</th>\n",
       "      <th>ERR1632747</th>\n",
       "      <th>ERR1632750</th>\n",
       "      <th>ERR1632753</th>\n",
       "      <th>ERR1632756</th>\n",
       "      <th>ERR1632757</th>\n",
       "      <th>ERR1632758</th>\n",
       "    </tr>\n",
       "  </thead>\n",
       "  <tbody>\n",
       "    <tr>\n",
       "      <th>TSPAN6</th>\n",
       "      <td>105</td>\n",
       "      <td>0</td>\n",
       "      <td>0</td>\n",
       "      <td>0</td>\n",
       "      <td>0</td>\n",
       "      <td>72</td>\n",
       "      <td>145</td>\n",
       "      <td>0</td>\n",
       "      <td>0</td>\n",
       "      <td>0</td>\n",
       "      <td>...</td>\n",
       "      <td>0</td>\n",
       "      <td>4</td>\n",
       "      <td>7</td>\n",
       "      <td>0</td>\n",
       "      <td>2</td>\n",
       "      <td>1</td>\n",
       "      <td>0</td>\n",
       "      <td>0</td>\n",
       "      <td>60</td>\n",
       "      <td>40</td>\n",
       "    </tr>\n",
       "    <tr>\n",
       "      <th>TNMD</th>\n",
       "      <td>0</td>\n",
       "      <td>0</td>\n",
       "      <td>0</td>\n",
       "      <td>0</td>\n",
       "      <td>0</td>\n",
       "      <td>0</td>\n",
       "      <td>0</td>\n",
       "      <td>0</td>\n",
       "      <td>0</td>\n",
       "      <td>0</td>\n",
       "      <td>...</td>\n",
       "      <td>0</td>\n",
       "      <td>0</td>\n",
       "      <td>0</td>\n",
       "      <td>0</td>\n",
       "      <td>0</td>\n",
       "      <td>0</td>\n",
       "      <td>0</td>\n",
       "      <td>0</td>\n",
       "      <td>0</td>\n",
       "      <td>0</td>\n",
       "    </tr>\n",
       "    <tr>\n",
       "      <th>DPM1</th>\n",
       "      <td>0</td>\n",
       "      <td>0</td>\n",
       "      <td>0</td>\n",
       "      <td>0</td>\n",
       "      <td>0</td>\n",
       "      <td>0</td>\n",
       "      <td>238</td>\n",
       "      <td>111</td>\n",
       "      <td>0</td>\n",
       "      <td>0</td>\n",
       "      <td>...</td>\n",
       "      <td>3</td>\n",
       "      <td>8</td>\n",
       "      <td>4</td>\n",
       "      <td>2</td>\n",
       "      <td>0</td>\n",
       "      <td>3</td>\n",
       "      <td>2</td>\n",
       "      <td>7</td>\n",
       "      <td>27</td>\n",
       "      <td>15</td>\n",
       "    </tr>\n",
       "    <tr>\n",
       "      <th>SCYL3</th>\n",
       "      <td>0</td>\n",
       "      <td>0</td>\n",
       "      <td>0</td>\n",
       "      <td>0</td>\n",
       "      <td>0</td>\n",
       "      <td>110</td>\n",
       "      <td>0</td>\n",
       "      <td>0</td>\n",
       "      <td>0</td>\n",
       "      <td>0</td>\n",
       "      <td>...</td>\n",
       "      <td>0</td>\n",
       "      <td>0</td>\n",
       "      <td>7</td>\n",
       "      <td>0</td>\n",
       "      <td>0</td>\n",
       "      <td>0</td>\n",
       "      <td>0</td>\n",
       "      <td>5</td>\n",
       "      <td>0</td>\n",
       "      <td>6</td>\n",
       "    </tr>\n",
       "    <tr>\n",
       "      <th>C1orf112</th>\n",
       "      <td>0</td>\n",
       "      <td>0</td>\n",
       "      <td>0</td>\n",
       "      <td>0</td>\n",
       "      <td>0</td>\n",
       "      <td>0</td>\n",
       "      <td>14</td>\n",
       "      <td>0</td>\n",
       "      <td>0</td>\n",
       "      <td>0</td>\n",
       "      <td>...</td>\n",
       "      <td>0</td>\n",
       "      <td>0</td>\n",
       "      <td>0</td>\n",
       "      <td>0</td>\n",
       "      <td>0</td>\n",
       "      <td>0</td>\n",
       "      <td>0</td>\n",
       "      <td>8</td>\n",
       "      <td>0</td>\n",
       "      <td>1</td>\n",
       "    </tr>\n",
       "  </tbody>\n",
       "</table>\n",
       "<p>5 rows × 1081 columns</p>\n",
       "</div>"
      ],
      "text/plain": [
       "          ERR1630014  ERR1630015  ERR1630016  ERR1630017  ERR1630020  \\\n",
       "TSPAN6           105           0           0           0           0   \n",
       "TNMD               0           0           0           0           0   \n",
       "DPM1               0           0           0           0           0   \n",
       "SCYL3              0           0           0           0           0   \n",
       "C1orf112           0           0           0           0           0   \n",
       "\n",
       "          ERR1630021  ERR1630022  ERR1630023  ERR1630024  ERR1630025  ...  \\\n",
       "TSPAN6            72         145           0           0           0  ...   \n",
       "TNMD               0           0           0           0           0  ...   \n",
       "DPM1               0         238         111           0           0  ...   \n",
       "SCYL3            110           0           0           0           0  ...   \n",
       "C1orf112           0          14           0           0           0  ...   \n",
       "\n",
       "          ERR1632736  ERR1632739  ERR1632743  ERR1632744  ERR1632747  \\\n",
       "TSPAN6             0           4           7           0           2   \n",
       "TNMD               0           0           0           0           0   \n",
       "DPM1               3           8           4           2           0   \n",
       "SCYL3              0           0           7           0           0   \n",
       "C1orf112           0           0           0           0           0   \n",
       "\n",
       "          ERR1632750  ERR1632753  ERR1632756  ERR1632757  ERR1632758  \n",
       "TSPAN6             1           0           0          60          40  \n",
       "TNMD               0           0           0           0           0  \n",
       "DPM1               3           2           7          27          15  \n",
       "SCYL3              0           0           5           0           6  \n",
       "C1orf112           0           0           8           0           1  \n",
       "\n",
       "[5 rows x 1081 columns]"
      ]
     },
     "execution_count": 3,
     "metadata": {},
     "output_type": "execute_result"
    }
   ],
   "source": [
    "df_ctrl.head()"
   ]
  },
  {
   "cell_type": "code",
   "execution_count": 4,
   "id": "c8b3b64f",
   "metadata": {},
   "outputs": [
    {
     "name": "stdout",
     "output_type": "stream",
     "text": [
      "True\n"
     ]
    }
   ],
   "source": [
    "print(df_ctrl.equals(df_t2d)) #error in downloading files"
   ]
  },
  {
   "cell_type": "markdown",
   "id": "eff473eb",
   "metadata": {},
   "source": [
    "## Preprocess"
   ]
  },
  {
   "cell_type": "code",
   "execution_count": 4,
   "id": "05592627",
   "metadata": {},
   "outputs": [
    {
     "name": "stdout",
     "output_type": "stream",
     "text": [
      "Cells remained after filtering: 1069\n",
      "Genes remained after filtering: 41705\n"
     ]
    }
   ],
   "source": [
    "# Filtering\n",
    "\n",
    "# Dead cells or bad quality (if expressed genes < (500-100))  (https://www.biorxiv.org/content/10.1101/483297v1.full)\n",
    "df_filtered=data_preprocess.filter_genes_expressed(df_ctrl,1500) # chosen 500\n",
    "\n",
    "# Filter non informative genes --> remove genes expressed in very few cells ( < 3)\n",
    "\n",
    "df_filtered=data_preprocess.filter_genes_not_informative(df_filtered,1)\n"
   ]
  },
  {
   "cell_type": "code",
   "execution_count": 5,
   "id": "d8fa93f7",
   "metadata": {},
   "outputs": [
    {
     "name": "stdout",
     "output_type": "stream",
     "text": [
      "count    1069.00\n",
      "mean     3040.41\n",
      "std       515.90\n",
      "min       474.00\n",
      "25%      2744.78\n",
      "50%      3060.82\n",
      "75%      3387.00\n",
      "max      4369.72\n",
      "dtype: float64\n",
      "New dimensions:  (1069, 50)\n"
     ]
    }
   ],
   "source": [
    "df_norm=data_preprocess.normalize(df_filtered,1e4)\n",
    "df_reduced=data_preprocess.reduce_dimentionality(df_norm,50)"
   ]
  },
  {
   "cell_type": "markdown",
   "id": "c5a0f12c",
   "metadata": {},
   "source": [
    "## Graph construction"
   ]
  },
  {
   "cell_type": "code",
   "execution_count": 6,
   "id": "a2764bac",
   "metadata": {},
   "outputs": [
    {
     "name": "stdout",
     "output_type": "stream",
     "text": [
      "Dimension of matrix correlation: (50, 50)\n",
      "Threshold 0.1: around 0 graph connections\n",
      "Data(x=[1069, 50], edge_index=[2, 0])\n"
     ]
    }
   ],
   "source": [
    "# Nodes: Cells\n",
    "# Edges: connect cells with similar expression profile\n",
    "# use Pearson correlation to calculate correlation between cells. Threshold =0.3\n",
    "# Steps: 1. Matrix correlation, 2. Apply threshold to detect cell connectivity (simlarity). 3. Check diagonal is 0\n",
    "\n",
    "adj_matrix=graph_construction.adjacent_matrix(df_reduced,0.1)\n",
    "G=graph_construction.createGraph(adj_matrix,df_reduced)\n"
   ]
  },
  {
   "cell_type": "code",
   "execution_count": null,
   "id": "b68db640",
   "metadata": {},
   "outputs": [],
   "source": [
    "# Visualize graph\n"
   ]
  }
 ],
 "metadata": {
  "kernelspec": {
   "display_name": "tesi_env",
   "language": "python",
   "name": "python3"
  },
  "language_info": {
   "codemirror_mode": {
    "name": "ipython",
    "version": 3
   },
   "file_extension": ".py",
   "mimetype": "text/x-python",
   "name": "python",
   "nbconvert_exporter": "python",
   "pygments_lexer": "ipython3",
   "version": "3.13.2"
  }
 },
 "nbformat": 4,
 "nbformat_minor": 5
}
