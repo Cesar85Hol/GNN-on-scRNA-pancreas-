{
 "cells": [
  {
   "cell_type": "markdown",
   "id": "d65b34a2",
   "metadata": {},
   "source": [
    "# Downloading & Preprocessing data\n"
   ]
  },
  {
   "cell_type": "code",
   "execution_count": 13,
   "id": "87f3cd71",
   "metadata": {},
   "outputs": [
    {
     "name": "stdout",
     "output_type": "stream",
     "text": [
      "--2025-04-26 22:18:53--  https://ftp.ncbi.nlm.nih.gov/geo/series/GSE186nnn/GSE186469/suppl/GSE186469_ctrl.data.txt.gz\n",
      "Risoluzione di ftp.ncbi.nlm.nih.gov (ftp.ncbi.nlm.nih.gov)... 130.14.250.13, 130.14.250.31, 130.14.250.7, ...\n",
      "Connessione a ftp.ncbi.nlm.nih.gov (ftp.ncbi.nlm.nih.gov)|130.14.250.13|:443... connesso.\n",
      "Richiesta HTTP inviata, in attesa di risposta... 200 OK\n",
      "Lunghezza: 11950751 (11M) [application/x-gzip]\n",
      "Salvataggio in: «../data/raw/ctrl_data.txt.gz»\n",
      "\n",
      "../data/raw/ctrl_da 100%[===================>]  11,40M  10,8MB/s    in 1,1s    \n",
      "\n",
      "2025-04-26 22:18:54 (10,8 MB/s) - «../data/raw/ctrl_data.txt.gz» salvato [11950751/11950751]\n",
      "\n",
      "--2025-04-26 22:18:54--  https://ftp.ncbi.nlm.nih.gov/geo/series/GSE186nnn/GSE186469/suppl/GSE186469_t2d.data.txt.gz\n",
      "Risoluzione di ftp.ncbi.nlm.nih.gov (ftp.ncbi.nlm.nih.gov)... 130.14.250.31, 130.14.250.7, 130.14.250.10, ...\n",
      "Connessione a ftp.ncbi.nlm.nih.gov (ftp.ncbi.nlm.nih.gov)|130.14.250.31|:443... connesso.\n",
      "Richiesta HTTP inviata, in attesa di risposta... 200 OK\n",
      "Lunghezza: 11950750 (11M) [application/x-gzip]\n",
      "Salvataggio in: «../data/raw/t2d_data.txt.gz»\n",
      "\n",
      "../data/raw/t2d_dat 100%[===================>]  11,40M  10,7MB/s    in 1,1s    \n",
      "\n",
      "2025-04-26 22:18:56 (10,7 MB/s) - «../data/raw/t2d_data.txt.gz» salvato [11950750/11950750]\n",
      "\n"
     ]
    }
   ],
   "source": [
    "!bash ../data/download_data.sh "
   ]
  }
 ],
 "metadata": {
  "kernelspec": {
   "display_name": "tesi_env",
   "language": "python",
   "name": "python3"
  },
  "language_info": {
   "codemirror_mode": {
    "name": "ipython",
    "version": 3
   },
   "file_extension": ".py",
   "mimetype": "text/x-python",
   "name": "python",
   "nbconvert_exporter": "python",
   "pygments_lexer": "ipython3",
   "version": "3.13.2"
  }
 },
 "nbformat": 4,
 "nbformat_minor": 5
}
