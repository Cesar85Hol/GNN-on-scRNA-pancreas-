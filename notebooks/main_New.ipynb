{
 "cells": [
  {
   "cell_type": "markdown",
   "id": "d65b34a2",
   "metadata": {},
   "source": [
    "# Downloading & Preprocessing data\n"
   ]
  },
  {
   "cell_type": "code",
   "execution_count": 1,
   "id": "d0233199",
   "metadata": {},
   "outputs": [],
   "source": [
    "# Downloading raw data in data/raw folder\n",
    "# Data is downloaded from NIH website -> GEO dataset -> Gene Expression Omnibus repository (curated gene expression DataSets\n",
    "#!bash ../data/download_data.sh "
   ]
  },
  {
   "cell_type": "code",
   "execution_count": 2,
   "id": "87f3cd71",
   "metadata": {},
   "outputs": [],
   "source": [
    "import sys\n",
    "path_to_module = '../src/data_preprocess.py'\n",
    "path_to_module2 = '../src/graph_construction.py'\n",
    "import os\n",
    "sys.path.append(os.path.dirname(path_to_module))\n",
    "sys.path.append(os.path.dirname(path_to_module2))\n",
    "import data_preprocess,graph_construction\n",
    "import pandas as pd\n",
    "from scipy import stats\n"
   ]
  },
  {
   "cell_type": "code",
   "execution_count": 3,
   "id": "d8d19a29",
   "metadata": {},
   "outputs": [
    {
     "name": "stdout",
     "output_type": "stream",
     "text": [
      "Shape check [#genes x # cells] : (40614, 3386)\n"
     ]
    }
   ],
   "source": [
    "path_data=\"../data/raw/data.mtx.gz\" \n",
    "path_rows=\"../data/raw/data_rows.txt\"\n",
    "path_cols=\"../data/raw/data_cols.txt\" \n",
    "data=data_preprocess.read_rawdata(path_data,0)\n",
    "#data_rows=data_preprocess.read_rawdata(path_rows,0)\n",
    "#data_cols=data_preprocess.read_rawdata(path_cols,0)"
   ]
  },
  {
   "cell_type": "markdown",
   "id": "eff473eb",
   "metadata": {},
   "source": [
    "## Preprocess"
   ]
  },
  {
   "cell_type": "code",
   "execution_count": 4,
   "id": "05592627",
   "metadata": {},
   "outputs": [
    {
     "name": "stdout",
     "output_type": "stream",
     "text": [
      "Cells with <500 expressed genes:  2751\n",
      "Cells remained after filtering: 635\n",
      "Genes with < 3 expressed cells: 14234\n",
      "Filtered dimensions: (26380, 635)\n"
     ]
    }
   ],
   "source": [
    "# Filtering\n",
    "\n",
    "# Dead cells or bad quality (if expressed genes < (500-100))  (https://www.biorxiv.org/content/10.1101/483297v1.full)\n",
    "df_filtered=data_preprocess.filter_genes_expressed(data,10000) # chosen 500\n",
    "#selected 10000 just per afterwards calculation and plots\n",
    "# Filter non informative genes --> remove genes expressed in very few cells ( < 3)\n",
    "\n",
    "df_filtered=data_preprocess.filter_genes_not_informative(df_filtered,5)\n"
   ]
  },
  {
   "cell_type": "code",
   "execution_count": 5,
   "id": "a2dbf22b",
   "metadata": {},
   "outputs": [],
   "source": [
    "#df=pd.DataFrame   .sparse.from_spmatrix(df_filtered)"
   ]
  },
  {
   "cell_type": "code",
   "execution_count": 6,
   "id": "d8fa93f7",
   "metadata": {},
   "outputs": [
    {
     "name": "stdout",
     "output_type": "stream",
     "text": [
      "[10000. 10000. 10000. 10000. 10000.]\n",
      "New dimensions:  (635, 50)\n",
      "Variance explained on first 5 PC: [0.0137539  0.18275619 0.06525957 0.03707839 0.02548461]\n",
      "Dimensions matrix HVG: (1000, 635)\n",
      "mean variance of HVG selected: 0.3183693788119099  - mean variance other genes: 0.03592094131700926\n"
     ]
    },
    {
     "data": {
      "text/plain": [
       "'# Save the dataframes to CSV files\\nsavename=\"../data/processed/df_reduced.csv\"\\ndf_reduced_df = pd.DataFrame(df_reduced)  # Convert to DataFrame\\n#df_reduced_df.to_csv(savename, index=False)\\nsavename=\"../data/processed/df_hvg.csv\"\\ndf_hvg_df = pd.DataFrame(df_hvg)  # Convert to DataFrame\\ndf_hvg_df.to_csv(savename)'"
      ]
     },
     "execution_count": 6,
     "metadata": {},
     "output_type": "execute_result"
    }
   ],
   "source": [
    "#df_norm=data_preprocess.normalize(df,1e4)\n",
    "df_norm=data_preprocess.log_normalize(df_filtered)\n",
    "\n",
    "df_reduced=data_preprocess.reduce_dimentionality(df_norm,50,'svd')\n",
    "df_hvg=data_preprocess.select_highly_variable_genes(df_norm,1000)\n",
    "'''# Save the dataframes to CSV files\n",
    "savename=\"../data/processed/df_reduced.csv\"\n",
    "df_reduced_df = pd.DataFrame(df_reduced)  # Convert to DataFrame\n",
    "#df_reduced_df.to_csv(savename, index=False)\n",
    "savename=\"../data/processed/df_hvg.csv\"\n",
    "df_hvg_df = pd.DataFrame(df_hvg)  # Convert to DataFrame\n",
    "df_hvg_df.to_csv(savename)'''"
   ]
  },
  {
   "cell_type": "markdown",
   "id": "c5a0f12c",
   "metadata": {},
   "source": [
    "## Graph construction"
   ]
  },
  {
   "cell_type": "code",
   "execution_count": 7,
   "id": "a2764bac",
   "metadata": {},
   "outputs": [
    {
     "name": "stdout",
     "output_type": "stream",
     "text": [
      "Dimension of matrix correlation: (635, 635)\n",
      "Threshold 0.6: around 198744 graph connections\n",
      "Data(x=[635, 50], edge_index=[2, 397488])\n"
     ]
    }
   ],
   "source": [
    "# Nodes: Cells\n",
    "# Edges: connect cells with similar expression profile\n",
    "# use Pearson correlation to calculate correlation between cells. Threshold =0.3\n",
    "# Steps: 1. Matrix correlation, 2. Apply threshold to detect cell connectivity (simlarity). 3. Check diagonal is 0\n",
    "df=pd.DataFrame(df_reduced)\n",
    "adj_matrix=graph_construction.adjacent_matrix(df_reduced,0.6)\n",
    "G_data=graph_construction.createGraph(adj_matrix,df_reduced)\n"
   ]
  },
  {
   "cell_type": "code",
   "execution_count": null,
   "id": "b68db640",
   "metadata": {},
   "outputs": [],
   "source": [
    "# Visualize graph\n",
    "import networkx as nx\n",
    "import matplotlib.pyplot as plt\n",
    "\n",
    "G= graph_construction.plotGraph(G_data)\n"
   ]
  }
 ],
 "metadata": {
  "kernelspec": {
   "display_name": "tesi_env",
   "language": "python",
   "name": "python3"
  },
  "language_info": {
   "codemirror_mode": {
    "name": "ipython",
    "version": 3
   },
   "file_extension": ".py",
   "mimetype": "text/x-python",
   "name": "python",
   "nbconvert_exporter": "python",
   "pygments_lexer": "ipython3",
   "version": "3.13.2"
  }
 },
 "nbformat": 4,
 "nbformat_minor": 5
}
