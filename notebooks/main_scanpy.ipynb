{
 "cells": [
  {
   "cell_type": "markdown",
   "id": "2cd4a564",
   "metadata": {},
   "source": [
    "# Data management with Scanpy"
   ]
  },
  {
   "cell_type": "code",
   "execution_count": null,
   "id": "08e8b40a",
   "metadata": {},
   "outputs": [],
   "source": [
    "#!pip install scanpy"
   ]
  },
  {
   "cell_type": "code",
   "execution_count": 17,
   "id": "ea195922",
   "metadata": {},
   "outputs": [
    {
     "data": {
      "application/vnd.jupyter.widget-view+json": {
       "model_id": "742678f8bc1e4edf8c6f843732b2eff7",
       "version_major": 2,
       "version_minor": 0
      },
      "text/html": [
       "<table class=table>\n",
       "            <thead style=\"position: sticky; top: 0; background-color: var(--jp-layout-color0, var(--vscode-editor-background, white));\">\n",
       "        <tr><th>Package</th><th>Version</th></tr>\n",
       "    </thead>\n",
       "    <tbody>\n",
       "        <tr><td><strong>ipykernel</strong></td><td>6.29.5</td></tr>\n",
       "        <tr><td><strong>debugpy</strong></td><td>1.8.13</td></tr>\n",
       "        <tr><td><strong>scanpy</strong></td><td>1.11.1</td></tr>\n",
       "        <tr><td><strong>anndata</strong></td><td>0.11.4</td></tr>\n",
       "        <tr><td><strong>matplotlib</strong></td><td>3.10.1</td></tr>\n",
       "        <tr><td><strong>pooch</strong></td><td>1.8.2 (v1.8.2)</td></tr>\n",
       "    </tbody>\n",
       "    <thead style=\"position: sticky; top: 0; background-color: var(--jp-layout-color0, var(--vscode-editor-background, white));\">\n",
       "        <tr><th>Component</th><th>Info</th></tr>\n",
       "    </thead>\n",
       "    <tbody>\n",
       "        <tr><td>Python</td><td>3.13.2 | packaged by conda-forge | (main, Feb 17 2025, 14:02:48) [Clang 18.1.8 ]</td></tr>\n",
       "        <tr><td>OS</td><td>macOS-10.16-arm64-arm-64bit-Mach-O</td></tr>\n",
       "        <tr><td>CPU</td><td>10 logical CPU cores, arm</td></tr>\n",
       "        <tr><td>GPU</td><td>No GPU found</td></tr>\n",
       "        <tr><td>Updated</td><td>2025-05-03 09:13</td></tr>\n",
       "    </tbody>\n",
       "        </table>\n",
       "\n",
       "        <details>\n",
       "        <summary>Dependencies</summary>\n",
       "                <div style=\"max-height: min(500px, 80vh); overflow-y: auto;\">\n",
       "    <table class=table>\n",
       "            <thead style=\"position: sticky; top: 0; background-color: var(--jp-layout-color0, var(--vscode-editor-background, white));\">\n",
       "    <tr><th>Dependency</th><th>Version</th></tr>\n",
       "</thead>\n",
       "<tbody>\n",
       "    <tr><td>matplotlib-inline</td><td>0.1.7</td></tr>\n",
       "    <tr><td>cycler</td><td>0.12.1</td></tr>\n",
       "    <tr><td>zipp</td><td>3.21.0</td></tr>\n",
       "    <tr><td>tqdm</td><td>4.67.1</td></tr>\n",
       "    <tr><td>colorama</td><td>0.4.6</td></tr>\n",
       "    <tr><td>session-info2</td><td>0.1.2</td></tr>\n",
       "    <tr><td>jedi</td><td>0.19.2</td></tr>\n",
       "    <tr><td>pyzmq</td><td>26.3.0</td></tr>\n",
       "    <tr><td>appnope</td><td>0.1.4</td></tr>\n",
       "    <tr><td>parso</td><td>0.8.4</td></tr>\n",
       "    <tr><td>ipython</td><td>9.0.2</td></tr>\n",
       "    <tr><td>numpy</td><td>2.1.3</td></tr>\n",
       "    <tr><td>torch</td><td>2.6.0</td></tr>\n",
       "    <tr><td>setuptools</td><td>75.8.2</td></tr>\n",
       "    <tr><td>jupyter_core</td><td>5.7.2</td></tr>\n",
       "    <tr><td>numexpr</td><td>2.10.2</td></tr>\n",
       "    <tr><td>threadpoolctl</td><td>3.6.0</td></tr>\n",
       "    <tr><td>executing</td><td>2.1.0</td></tr>\n",
       "    <tr><td>python-dateutil</td><td>2.9.0.post0</td></tr>\n",
       "    <tr><td>wcwidth</td><td>0.2.13</td></tr>\n",
       "    <tr><td>scikit-learn</td><td>1.6.1 (1.5.2)</td></tr>\n",
       "    <tr><td>packaging</td><td>24.2</td></tr>\n",
       "    <tr><td>pure_eval</td><td>0.2.3</td></tr>\n",
       "    <tr><td>six</td><td>1.17.0</td></tr>\n",
       "    <tr><td>platformdirs</td><td>4.3.7</td></tr>\n",
       "    <tr><td>legacy-api-wrap</td><td>1.4.1</td></tr>\n",
       "    <tr><td>psutil</td><td>7.0.0</td></tr>\n",
       "    <tr><td>natsort</td><td>8.4.0</td></tr>\n",
       "    <tr><td>h5py</td><td>3.13.0</td></tr>\n",
       "    <tr><td>Pygments</td><td>2.19.1</td></tr>\n",
       "    <tr><td>scipy</td><td>1.15.2</td></tr>\n",
       "    <tr><td>comm</td><td>0.2.2</td></tr>\n",
       "    <tr><td>traitlets</td><td>5.14.3</td></tr>\n",
       "    <tr><td>stack_data</td><td>0.6.3</td></tr>\n",
       "    <tr><td>importlib_metadata</td><td>8.6.1</td></tr>\n",
       "    <tr><td>pyparsing</td><td>3.2.2</td></tr>\n",
       "    <tr><td>pytz</td><td>2024.1</td></tr>\n",
       "    <tr><td>kiwisolver</td><td>1.4.7</td></tr>\n",
       "    <tr><td>numba</td><td>0.61.0</td></tr>\n",
       "    <tr><td>tornado</td><td>6.4.2</td></tr>\n",
       "    <tr><td>typing_extensions</td><td>4.12.2</td></tr>\n",
       "    <tr><td>ipywidgets</td><td>8.1.6</td></tr>\n",
       "    <tr><td>pillow</td><td>11.1.0</td></tr>\n",
       "    <tr><td>prompt_toolkit</td><td>3.0.50</td></tr>\n",
       "    <tr><td>decorator</td><td>5.2.1</td></tr>\n",
       "    <tr><td>jupyter_client</td><td>8.6.3</td></tr>\n",
       "    <tr><td>asttokens</td><td>3.0.0</td></tr>\n",
       "    <tr><td>pandas</td><td>2.2.3</td></tr>\n",
       "    <tr><td>charset-normalizer</td><td>3.4.2 (3.4.1)</td></tr>\n",
       "    <tr><td>joblib</td><td>1.4.2</td></tr>\n",
       "    <tr><td>llvmlite</td><td>0.44.0</td></tr>\n",
       "</tbody>\n",
       "    </table>\n",
       "</div>\n",
       "    </details>\n",
       "        <details>\n",
       "            <summary>Copyable Markdown</summary>\n",
       "            <pre>| Package    | Version        |\n",
       "| ---------- | -------------- |\n",
       "| ipykernel  | 6.29.5         |\n",
       "| debugpy    | 1.8.13         |\n",
       "| scanpy     | 1.11.1         |\n",
       "| anndata    | 0.11.4         |\n",
       "| matplotlib | 3.10.1         |\n",
       "| pooch      | 1.8.2 (v1.8.2) |\n",
       "\n",
       "| Dependency         | Version       |\n",
       "| ------------------ | ------------- |\n",
       "| matplotlib-inline  | 0.1.7         |\n",
       "| cycler             | 0.12.1        |\n",
       "| zipp               | 3.21.0        |\n",
       "| tqdm               | 4.67.1        |\n",
       "| colorama           | 0.4.6         |\n",
       "| session-info2      | 0.1.2         |\n",
       "| jedi               | 0.19.2        |\n",
       "| pyzmq              | 26.3.0        |\n",
       "| appnope            | 0.1.4         |\n",
       "| parso              | 0.8.4         |\n",
       "| ipython            | 9.0.2         |\n",
       "| numpy              | 2.1.3         |\n",
       "| torch              | 2.6.0         |\n",
       "| setuptools         | 75.8.2        |\n",
       "| jupyter_core       | 5.7.2         |\n",
       "| numexpr            | 2.10.2        |\n",
       "| threadpoolctl      | 3.6.0         |\n",
       "| executing          | 2.1.0         |\n",
       "| python-dateutil    | 2.9.0.post0   |\n",
       "| wcwidth            | 0.2.13        |\n",
       "| scikit-learn       | 1.6.1 (1.5.2) |\n",
       "| packaging          | 24.2          |\n",
       "| pure_eval          | 0.2.3         |\n",
       "| six                | 1.17.0        |\n",
       "| platformdirs       | 4.3.7         |\n",
       "| legacy-api-wrap    | 1.4.1         |\n",
       "| psutil             | 7.0.0         |\n",
       "| natsort            | 8.4.0         |\n",
       "| h5py               | 3.13.0        |\n",
       "| Pygments           | 2.19.1        |\n",
       "| scipy              | 1.15.2        |\n",
       "| comm               | 0.2.2         |\n",
       "| traitlets          | 5.14.3        |\n",
       "| stack_data         | 0.6.3         |\n",
       "| importlib_metadata | 8.6.1         |\n",
       "| pyparsing          | 3.2.2         |\n",
       "| pytz               | 2024.1        |\n",
       "| kiwisolver         | 1.4.7         |\n",
       "| numba              | 0.61.0        |\n",
       "| tornado            | 6.4.2         |\n",
       "| typing_extensions  | 4.12.2        |\n",
       "| ipywidgets         | 8.1.6         |\n",
       "| pillow             | 11.1.0        |\n",
       "| prompt_toolkit     | 3.0.50        |\n",
       "| decorator          | 5.2.1         |\n",
       "| jupyter_client     | 8.6.3         |\n",
       "| asttokens          | 3.0.0         |\n",
       "| pandas             | 2.2.3         |\n",
       "| charset-normalizer | 3.4.2 (3.4.1) |\n",
       "| joblib             | 1.4.2         |\n",
       "| llvmlite           | 0.44.0        |\n",
       "\n",
       "| Component | Info                                                                             |\n",
       "| --------- | -------------------------------------------------------------------------------- |\n",
       "| Python    | 3.13.2 | packaged by conda-forge | (main, Feb 17 2025, 14:02:48) [Clang 18.1.8 ] |\n",
       "| OS        | macOS-10.16-arm64-arm-64bit-Mach-O                                               |\n",
       "| CPU       | 10 logical CPU cores, arm                                                        |\n",
       "| GPU       | No GPU found                                                                     |\n",
       "| Updated   | 2025-05-03 09:13                                                                 |</pre>\n",
       "        </details>"
      ],
      "text/markdown": [
       "| Package    | Version        |\n",
       "| ---------- | -------------- |\n",
       "| ipykernel  | 6.29.5         |\n",
       "| debugpy    | 1.8.13         |\n",
       "| scanpy     | 1.11.1         |\n",
       "| anndata    | 0.11.4         |\n",
       "| matplotlib | 3.10.1         |\n",
       "| pooch      | 1.8.2 (v1.8.2) |\n",
       "\n",
       "| Dependency         | Version       |\n",
       "| ------------------ | ------------- |\n",
       "| matplotlib-inline  | 0.1.7         |\n",
       "| cycler             | 0.12.1        |\n",
       "| zipp               | 3.21.0        |\n",
       "| tqdm               | 4.67.1        |\n",
       "| colorama           | 0.4.6         |\n",
       "| session-info2      | 0.1.2         |\n",
       "| jedi               | 0.19.2        |\n",
       "| pyzmq              | 26.3.0        |\n",
       "| appnope            | 0.1.4         |\n",
       "| parso              | 0.8.4         |\n",
       "| ipython            | 9.0.2         |\n",
       "| numpy              | 2.1.3         |\n",
       "| torch              | 2.6.0         |\n",
       "| setuptools         | 75.8.2        |\n",
       "| jupyter_core       | 5.7.2         |\n",
       "| numexpr            | 2.10.2        |\n",
       "| threadpoolctl      | 3.6.0         |\n",
       "| executing          | 2.1.0         |\n",
       "| python-dateutil    | 2.9.0.post0   |\n",
       "| wcwidth            | 0.2.13        |\n",
       "| scikit-learn       | 1.6.1 (1.5.2) |\n",
       "| packaging          | 24.2          |\n",
       "| pure_eval          | 0.2.3         |\n",
       "| six                | 1.17.0        |\n",
       "| platformdirs       | 4.3.7         |\n",
       "| legacy-api-wrap    | 1.4.1         |\n",
       "| psutil             | 7.0.0         |\n",
       "| natsort            | 8.4.0         |\n",
       "| h5py               | 3.13.0        |\n",
       "| Pygments           | 2.19.1        |\n",
       "| scipy              | 1.15.2        |\n",
       "| comm               | 0.2.2         |\n",
       "| traitlets          | 5.14.3        |\n",
       "| stack_data         | 0.6.3         |\n",
       "| importlib_metadata | 8.6.1         |\n",
       "| pyparsing          | 3.2.2         |\n",
       "| pytz               | 2024.1        |\n",
       "| kiwisolver         | 1.4.7         |\n",
       "| numba              | 0.61.0        |\n",
       "| tornado            | 6.4.2         |\n",
       "| typing_extensions  | 4.12.2        |\n",
       "| ipywidgets         | 8.1.6         |\n",
       "| pillow             | 11.1.0        |\n",
       "| prompt_toolkit     | 3.0.50        |\n",
       "| decorator          | 5.2.1         |\n",
       "| jupyter_client     | 8.6.3         |\n",
       "| asttokens          | 3.0.0         |\n",
       "| pandas             | 2.2.3         |\n",
       "| charset-normalizer | 3.4.2 (3.4.1) |\n",
       "| joblib             | 1.4.2         |\n",
       "| llvmlite           | 0.44.0        |\n",
       "\n",
       "| Component | Info                                                                             |\n",
       "| --------- | -------------------------------------------------------------------------------- |\n",
       "| Python    | 3.13.2 | packaged by conda-forge | (main, Feb 17 2025, 14:02:48) [Clang 18.1.8 ] |\n",
       "| OS        | macOS-10.16-arm64-arm-64bit-Mach-O                                               |\n",
       "| CPU       | 10 logical CPU cores, arm                                                        |\n",
       "| GPU       | No GPU found                                                                     |\n",
       "| Updated   | 2025-05-03 09:13                                                                 |"
      ],
      "text/plain": [
       "ipykernel\t6.29.5\n",
       "debugpy\t1.8.13\n",
       "scanpy\t1.11.1\n",
       "anndata\t0.11.4\n",
       "matplotlib\t3.10.1\n",
       "pooch\t1.8.2 (v1.8.2)\n",
       "----\t----\n",
       "matplotlib-inline\t0.1.7\n",
       "cycler\t0.12.1\n",
       "zipp\t3.21.0\n",
       "tqdm\t4.67.1\n",
       "colorama\t0.4.6\n",
       "session-info2\t0.1.2\n",
       "jedi\t0.19.2\n",
       "pyzmq\t26.3.0\n",
       "appnope\t0.1.4\n",
       "parso\t0.8.4\n",
       "ipython\t9.0.2\n",
       "numpy\t2.1.3\n",
       "torch\t2.6.0\n",
       "setuptools\t75.8.2\n",
       "jupyter_core\t5.7.2\n",
       "numexpr\t2.10.2\n",
       "threadpoolctl\t3.6.0\n",
       "executing\t2.1.0\n",
       "python-dateutil\t2.9.0.post0\n",
       "wcwidth\t0.2.13\n",
       "scikit-learn\t1.6.1 (1.5.2)\n",
       "packaging\t24.2\n",
       "pure_eval\t0.2.3\n",
       "six\t1.17.0\n",
       "platformdirs\t4.3.7\n",
       "legacy-api-wrap\t1.4.1\n",
       "psutil\t7.0.0\n",
       "natsort\t8.4.0\n",
       "h5py\t3.13.0\n",
       "Pygments\t2.19.1\n",
       "scipy\t1.15.2\n",
       "comm\t0.2.2\n",
       "traitlets\t5.14.3\n",
       "stack_data\t0.6.3\n",
       "importlib_metadata\t8.6.1\n",
       "pyparsing\t3.2.2\n",
       "pytz\t2024.1\n",
       "kiwisolver\t1.4.7\n",
       "numba\t0.61.0\n",
       "tornado\t6.4.2\n",
       "typing_extensions\t4.12.2\n",
       "ipywidgets\t8.1.6\n",
       "pillow\t11.1.0\n",
       "prompt_toolkit\t3.0.50\n",
       "decorator\t5.2.1\n",
       "jupyter_client\t8.6.3\n",
       "asttokens\t3.0.0\n",
       "pandas\t2.2.3\n",
       "charset-normalizer\t3.4.2 (3.4.1)\n",
       "joblib\t1.4.2\n",
       "llvmlite\t0.44.0\n",
       "----\t----\n",
       "Python\t3.13.2 | packaged by conda-forge | (main, Feb 17 2025, 14:02:48) [Clang 18.1.8 ]\n",
       "OS\tmacOS-10.16-arm64-arm-64bit-Mach-O\n",
       "CPU\t10 logical CPU cores, arm\n",
       "GPU\tNo GPU found\n",
       "Updated\t2025-05-03 09:13"
      ]
     },
     "execution_count": 17,
     "metadata": {},
     "output_type": "execute_result"
    }
   ],
   "source": [
    "import scanpy as sc\n",
    "import anndata as ad\n",
    "# Data retrieval\n",
    "import pooch\n",
    "import matplotlib.pyplot as plt\n",
    "from matplotlib import rc_context\n",
    "\n",
    "sc.set_figure_params(dpi=100, color_map=\"viridis_r\")\n",
    "sc.settings.verbosity = 0\n",
    "sc.settings.set_figure_params(dpi=50, facecolor=\"white\")\n",
    "sc.logging.print_header()"
   ]
  },
  {
   "cell_type": "code",
   "execution_count": 25,
   "id": "64e9a96c",
   "metadata": {},
   "outputs": [
    {
     "data": {
      "text/plain": [
       "AnnData object with n_obs × n_vars = 2700 × 32738\n",
       "    var: 'gene_ids'"
      ]
     },
     "execution_count": 25,
     "metadata": {},
     "output_type": "execute_result"
    }
   ],
   "source": [
    "# Scarica il dataset PBMC 3k come esempio (sostituisci con il tuo dataset .h5ad)\n",
    "adata = sc.datasets.pbmc3k()\n",
    "adata   "
   ]
  },
  {
   "cell_type": "code",
   "execution_count": null,
   "id": "aaedf434",
   "metadata": {},
   "outputs": [],
   "source": []
  },
  {
   "cell_type": "code",
   "execution_count": 26,
   "id": "2e0c72a2",
   "metadata": {},
   "outputs": [
    {
     "data": {
      "text/plain": [
       "AnnData object with n_obs × n_vars = 2482 × 32738\n",
       "    obs: 'n_genes'\n",
       "    var: 'gene_ids'"
      ]
     },
     "execution_count": 26,
     "metadata": {},
     "output_type": "execute_result"
    }
   ],
   "source": [
    "\n",
    "# Filtra le cellule con meno di 500 geni espressi\n",
    "sc.pp.filter_cells(adata, min_genes=500)\n",
    "adata  \n"
   ]
  },
  {
   "cell_type": "code",
   "execution_count": 27,
   "id": "1cb526ec",
   "metadata": {},
   "outputs": [
    {
     "data": {
      "text/plain": [
       "AnnData object with n_obs × n_vars = 2482 × 13629\n",
       "    obs: 'n_genes'\n",
       "    var: 'gene_ids', 'n_cells'"
      ]
     },
     "execution_count": 27,
     "metadata": {},
     "output_type": "execute_result"
    }
   ],
   "source": [
    "\n",
    "# Filtra i geni espressi in meno di 3 cellule\n",
    "sc.pp.filter_genes(adata, min_cells=3)\n",
    "adata\n"
   ]
  },
  {
   "cell_type": "code",
   "execution_count": 28,
   "id": "063210c4",
   "metadata": {},
   "outputs": [
    {
     "data": {
      "text/plain": [
       "AnnData object with n_obs × n_vars = 2482 × 13629\n",
       "    obs: 'n_genes'\n",
       "    var: 'gene_ids', 'n_cells'"
      ]
     },
     "execution_count": 28,
     "metadata": {},
     "output_type": "execute_result"
    }
   ],
   "source": [
    "\n",
    "# Normalizza i dati alla profondità di sequenziamento\n",
    "sc.pp.normalize_total(adata, target_sum=1e4)\n",
    "adata\n"
   ]
  },
  {
   "cell_type": "code",
   "execution_count": 29,
   "id": "9a2a29df",
   "metadata": {},
   "outputs": [
    {
     "name": "stderr",
     "output_type": "stream",
     "text": [
      "/Users/cesaraugustoseminarioyrigoyen/miniconda3/envs/tesi_env/lib/python3.13/site-packages/scanpy/preprocessing/_scale.py:317: UserWarning: Received a view of an AnnData. Making a copy.\n",
      "  view_to_actual(adata)\n"
     ]
    }
   ],
   "source": [
    "\n",
    "# Applica la trasformazione logaritmica\n",
    "sc.pp.log1p(adata)\n",
    "adata\n",
    "# Identifica i geni altamente variabili\n",
    "sc.pp.highly_variable_genes(adata, min_mean=0.0125, max_mean=3, min_disp=0.5)\n",
    "\n",
    "# Seleziona solo i geni altamente variabili\n",
    "adata = adata[:, adata.var.highly_variable]\n",
    "\n",
    "# Scala i dati\n",
    "sc.pp.scale(adata, max_value=10)\n",
    "\n",
    "# Calcola la PCA\n",
    "sc.tl.pca(adata, svd_solver='arpack')\n",
    "\n"
   ]
  },
  {
   "cell_type": "code",
   "execution_count": 31,
   "id": "13ef2c4f",
   "metadata": {},
   "outputs": [
    {
     "data": {
      "image/png": "[encoded data removed]",
      "text/plain": [
       "<Figure size 200x200 with 2 Axes>"
      ]
     },
     "metadata": {
      "image/png": {
       "height": 184,
       "width": 194
      }
     },
     "output_type": "display_data"
    }
   ],
   "source": [
    "adata\n",
    "# Plotta i risultati della PCA\n",
    "sc.pl.pca(adata, color='CST3', save='_pca.png')"
   ]
  }
 ],
 "metadata": {
  "kernelspec": {
   "display_name": "tesi_env",
   "language": "python",
   "name": "python3"
  },
  "language_info": {
   "codemirror_mode": {
    "name": "ipython",
    "version": 3
   },
   "file_extension": ".py",
   "mimetype": "text/x-python",
   "name": "python",
   "nbconvert_exporter": "python",
   "pygments_lexer": "ipython3",
   "version": "3.13.2"
  }
 },
 "nbformat": 4,
 "nbformat_minor": 5
}
